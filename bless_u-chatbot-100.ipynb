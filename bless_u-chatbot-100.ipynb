{
  "cells": [
    {
      "cell_type": "markdown",
      "metadata": {
        "id": "view-in-github"
      },
      "source": [
        "<a href=\"https://colab.research.google.com/github/tranmanhcuong253/Vietnamese-RAG-Chatbot/blob/main/Vietnamese_RAG_Chatbot_Backend.ipynb\" target=\"_parent\"><img src=\"https://colab.research.google.com/assets/colab-badge.svg\" alt=\"Open In Colab\"/></a>\n"
      ]
    },
    {
      "cell_type": "markdown",
      "metadata": {
        "id": "fIVDR-5RIgfT"
      },
      "source": [
        "# References\n",
        "\n",
        "- 財團法人台北市艋舺龍山寺 https://www.lungshan.org.tw/index.php\n",
        "- 籤詩網 http://www.chance.org.tw/\n",
        "- 周公靈簽 https://www.golla.tw/chouqian\n",
        "- 解籤閣 https://wisdomer2002.pixnet.net/blog/post/1965757\n",
        "- 關於聖意 https://vocus.cc/article/60cc311efd8978000139e6c2\n",
        "- 星玄説(https://astrologs.net/a/9kog8bd821/)\n",
        "- openai models https://platform.openai.com/docs/models\n",
        "- claude models https://docs.anthropic.com/en/docs/about-claude/models\n",
        "- openai API https://github.com/openai/openai-python\n",
        "- anthropic API https://github.com/anthropics/anthropic-sdk-python\n",
        "- aisuite API https://github.com/andrewyng/aisuite\n",
        "- neo4j API https://github.com/neo4j/neo4j-python-driver\n"
      ]
    },
    {
      "cell_type": "markdown",
      "metadata": {
        "id": "SEHLJnfPo9At"
      },
      "source": [
        "# 0.Packages\n"
      ]
    },
    {
      "cell_type": "code",
      "execution_count": 1,
      "metadata": {
        "colab": {
          "base_uri": "https://localhost:8080/"
        },
        "id": "TRQYKuJYjcSR",
        "outputId": "95817787-aa93-4e40-84d9-c03379450d37"
      },
      "outputs": [
        {
          "output_type": "stream",
          "name": "stdout",
          "text": [
            "Collecting ipython-autotime\n",
            "  Downloading ipython_autotime-0.3.2-py2.py3-none-any.whl.metadata (1.4 kB)\n",
            "Requirement already satisfied: ipython in /usr/local/lib/python3.10/dist-packages (from ipython-autotime) (7.34.0)\n",
            "Requirement already satisfied: setuptools>=18.5 in /usr/local/lib/python3.10/dist-packages (from ipython->ipython-autotime) (75.1.0)\n",
            "Collecting jedi>=0.16 (from ipython->ipython-autotime)\n",
            "  Downloading jedi-0.19.2-py2.py3-none-any.whl.metadata (22 kB)\n",
            "Requirement already satisfied: decorator in /usr/local/lib/python3.10/dist-packages (from ipython->ipython-autotime) (4.4.2)\n",
            "Requirement already satisfied: pickleshare in /usr/local/lib/python3.10/dist-packages (from ipython->ipython-autotime) (0.7.5)\n",
            "Requirement already satisfied: traitlets>=4.2 in /usr/local/lib/python3.10/dist-packages (from ipython->ipython-autotime) (5.7.1)\n",
            "Requirement already satisfied: prompt-toolkit!=3.0.0,!=3.0.1,<3.1.0,>=2.0.0 in /usr/local/lib/python3.10/dist-packages (from ipython->ipython-autotime) (3.0.48)\n",
            "Requirement already satisfied: pygments in /usr/local/lib/python3.10/dist-packages (from ipython->ipython-autotime) (2.18.0)\n",
            "Requirement already satisfied: backcall in /usr/local/lib/python3.10/dist-packages (from ipython->ipython-autotime) (0.2.0)\n",
            "Requirement already satisfied: matplotlib-inline in /usr/local/lib/python3.10/dist-packages (from ipython->ipython-autotime) (0.1.7)\n",
            "Requirement already satisfied: pexpect>4.3 in /usr/local/lib/python3.10/dist-packages (from ipython->ipython-autotime) (4.9.0)\n",
            "Requirement already satisfied: parso<0.9.0,>=0.8.4 in /usr/local/lib/python3.10/dist-packages (from jedi>=0.16->ipython->ipython-autotime) (0.8.4)\n",
            "Requirement already satisfied: ptyprocess>=0.5 in /usr/local/lib/python3.10/dist-packages (from pexpect>4.3->ipython->ipython-autotime) (0.7.0)\n",
            "Requirement already satisfied: wcwidth in /usr/local/lib/python3.10/dist-packages (from prompt-toolkit!=3.0.0,!=3.0.1,<3.1.0,>=2.0.0->ipython->ipython-autotime) (0.2.13)\n",
            "Downloading ipython_autotime-0.3.2-py2.py3-none-any.whl (7.0 kB)\n",
            "Downloading jedi-0.19.2-py2.py3-none-any.whl (1.6 MB)\n",
            "\u001b[2K   \u001b[90m━━━━━━━━━━━━━━━━━━━━━━━━━━━━━━━━━━━━━━━━\u001b[0m \u001b[32m1.6/1.6 MB\u001b[0m \u001b[31m16.3 MB/s\u001b[0m eta \u001b[36m0:00:00\u001b[0m\n",
            "\u001b[?25hInstalling collected packages: jedi, ipython-autotime\n",
            "Successfully installed ipython-autotime-0.3.2 jedi-0.19.2\n",
            "Collecting gradio\n",
            "  Downloading gradio-5.9.1-py3-none-any.whl.metadata (16 kB)\n",
            "Collecting aiofiles<24.0,>=22.0 (from gradio)\n",
            "  Downloading aiofiles-23.2.1-py3-none-any.whl.metadata (9.7 kB)\n",
            "Requirement already satisfied: anyio<5.0,>=3.0 in /usr/local/lib/python3.10/dist-packages (from gradio) (3.7.1)\n",
            "Collecting fastapi<1.0,>=0.115.2 (from gradio)\n",
            "  Downloading fastapi-0.115.6-py3-none-any.whl.metadata (27 kB)\n",
            "Collecting ffmpy (from gradio)\n",
            "  Downloading ffmpy-0.5.0-py3-none-any.whl.metadata (3.0 kB)\n",
            "Collecting gradio-client==1.5.2 (from gradio)\n",
            "  Downloading gradio_client-1.5.2-py3-none-any.whl.metadata (7.1 kB)\n",
            "Requirement already satisfied: httpx>=0.24.1 in /usr/local/lib/python3.10/dist-packages (from gradio) (0.28.1)\n",
            "Requirement already satisfied: huggingface-hub>=0.25.1 in /usr/local/lib/python3.10/dist-packages (from gradio) (0.27.0)\n",
            "Requirement already satisfied: jinja2<4.0 in /usr/local/lib/python3.10/dist-packages (from gradio) (3.1.4)\n",
            "Collecting markupsafe~=2.0 (from gradio)\n",
            "  Downloading MarkupSafe-2.1.5-cp310-cp310-manylinux_2_17_x86_64.manylinux2014_x86_64.whl.metadata (3.0 kB)\n",
            "Requirement already satisfied: numpy<3.0,>=1.0 in /usr/local/lib/python3.10/dist-packages (from gradio) (1.26.4)\n",
            "Requirement already satisfied: orjson~=3.0 in /usr/local/lib/python3.10/dist-packages (from gradio) (3.10.12)\n",
            "Requirement already satisfied: packaging in /usr/local/lib/python3.10/dist-packages (from gradio) (24.2)\n",
            "Requirement already satisfied: pandas<3.0,>=1.0 in /usr/local/lib/python3.10/dist-packages (from gradio) (2.2.2)\n",
            "Requirement already satisfied: pillow<12.0,>=8.0 in /usr/local/lib/python3.10/dist-packages (from gradio) (11.0.0)\n",
            "Requirement already satisfied: pydantic>=2.0 in /usr/local/lib/python3.10/dist-packages (from gradio) (2.10.3)\n",
            "Collecting pydub (from gradio)\n",
            "  Downloading pydub-0.25.1-py2.py3-none-any.whl.metadata (1.4 kB)\n",
            "Collecting python-multipart>=0.0.18 (from gradio)\n",
            "  Downloading python_multipart-0.0.20-py3-none-any.whl.metadata (1.8 kB)\n",
            "Requirement already satisfied: pyyaml<7.0,>=5.0 in /usr/local/lib/python3.10/dist-packages (from gradio) (6.0.2)\n",
            "Collecting ruff>=0.2.2 (from gradio)\n",
            "  Downloading ruff-0.8.4-py3-none-manylinux_2_17_x86_64.manylinux2014_x86_64.whl.metadata (25 kB)\n",
            "Collecting safehttpx<0.2.0,>=0.1.6 (from gradio)\n",
            "  Downloading safehttpx-0.1.6-py3-none-any.whl.metadata (4.2 kB)\n",
            "Collecting semantic-version~=2.0 (from gradio)\n",
            "  Downloading semantic_version-2.10.0-py2.py3-none-any.whl.metadata (9.7 kB)\n",
            "Collecting starlette<1.0,>=0.40.0 (from gradio)\n",
            "  Downloading starlette-0.42.0-py3-none-any.whl.metadata (6.0 kB)\n",
            "Collecting tomlkit<0.14.0,>=0.12.0 (from gradio)\n",
            "  Downloading tomlkit-0.13.2-py3-none-any.whl.metadata (2.7 kB)\n",
            "Requirement already satisfied: typer<1.0,>=0.12 in /usr/local/lib/python3.10/dist-packages (from gradio) (0.15.1)\n",
            "Requirement already satisfied: typing-extensions~=4.0 in /usr/local/lib/python3.10/dist-packages (from gradio) (4.12.2)\n",
            "Collecting uvicorn>=0.14.0 (from gradio)\n",
            "  Downloading uvicorn-0.34.0-py3-none-any.whl.metadata (6.5 kB)\n",
            "Requirement already satisfied: fsspec in /usr/local/lib/python3.10/dist-packages (from gradio-client==1.5.2->gradio) (2024.10.0)\n",
            "Requirement already satisfied: websockets<15.0,>=10.0 in /usr/local/lib/python3.10/dist-packages (from gradio-client==1.5.2->gradio) (14.1)\n",
            "Requirement already satisfied: idna>=2.8 in /usr/local/lib/python3.10/dist-packages (from anyio<5.0,>=3.0->gradio) (3.10)\n",
            "Requirement already satisfied: sniffio>=1.1 in /usr/local/lib/python3.10/dist-packages (from anyio<5.0,>=3.0->gradio) (1.3.1)\n",
            "Requirement already satisfied: exceptiongroup in /usr/local/lib/python3.10/dist-packages (from anyio<5.0,>=3.0->gradio) (1.2.2)\n",
            "Collecting starlette<1.0,>=0.40.0 (from gradio)\n",
            "  Downloading starlette-0.41.3-py3-none-any.whl.metadata (6.0 kB)\n",
            "Requirement already satisfied: certifi in /usr/local/lib/python3.10/dist-packages (from httpx>=0.24.1->gradio) (2024.12.14)\n",
            "Requirement already satisfied: httpcore==1.* in /usr/local/lib/python3.10/dist-packages (from httpx>=0.24.1->gradio) (1.0.7)\n",
            "Requirement already satisfied: h11<0.15,>=0.13 in /usr/local/lib/python3.10/dist-packages (from httpcore==1.*->httpx>=0.24.1->gradio) (0.14.0)\n",
            "Requirement already satisfied: filelock in /usr/local/lib/python3.10/dist-packages (from huggingface-hub>=0.25.1->gradio) (3.16.1)\n",
            "Requirement already satisfied: requests in /usr/local/lib/python3.10/dist-packages (from huggingface-hub>=0.25.1->gradio) (2.32.3)\n",
            "Requirement already satisfied: tqdm>=4.42.1 in /usr/local/lib/python3.10/dist-packages (from huggingface-hub>=0.25.1->gradio) (4.67.1)\n",
            "Requirement already satisfied: python-dateutil>=2.8.2 in /usr/local/lib/python3.10/dist-packages (from pandas<3.0,>=1.0->gradio) (2.8.2)\n",
            "Requirement already satisfied: pytz>=2020.1 in /usr/local/lib/python3.10/dist-packages (from pandas<3.0,>=1.0->gradio) (2024.2)\n",
            "Requirement already satisfied: tzdata>=2022.7 in /usr/local/lib/python3.10/dist-packages (from pandas<3.0,>=1.0->gradio) (2024.2)\n",
            "Requirement already satisfied: annotated-types>=0.6.0 in /usr/local/lib/python3.10/dist-packages (from pydantic>=2.0->gradio) (0.7.0)\n",
            "Requirement already satisfied: pydantic-core==2.27.1 in /usr/local/lib/python3.10/dist-packages (from pydantic>=2.0->gradio) (2.27.1)\n",
            "Requirement already satisfied: click>=8.0.0 in /usr/local/lib/python3.10/dist-packages (from typer<1.0,>=0.12->gradio) (8.1.7)\n",
            "Requirement already satisfied: shellingham>=1.3.0 in /usr/local/lib/python3.10/dist-packages (from typer<1.0,>=0.12->gradio) (1.5.4)\n",
            "Requirement already satisfied: rich>=10.11.0 in /usr/local/lib/python3.10/dist-packages (from typer<1.0,>=0.12->gradio) (13.9.4)\n",
            "Requirement already satisfied: six>=1.5 in /usr/local/lib/python3.10/dist-packages (from python-dateutil>=2.8.2->pandas<3.0,>=1.0->gradio) (1.17.0)\n",
            "Requirement already satisfied: markdown-it-py>=2.2.0 in /usr/local/lib/python3.10/dist-packages (from rich>=10.11.0->typer<1.0,>=0.12->gradio) (3.0.0)\n",
            "Requirement already satisfied: pygments<3.0.0,>=2.13.0 in /usr/local/lib/python3.10/dist-packages (from rich>=10.11.0->typer<1.0,>=0.12->gradio) (2.18.0)\n",
            "Requirement already satisfied: charset-normalizer<4,>=2 in /usr/local/lib/python3.10/dist-packages (from requests->huggingface-hub>=0.25.1->gradio) (3.4.0)\n",
            "Requirement already satisfied: urllib3<3,>=1.21.1 in /usr/local/lib/python3.10/dist-packages (from requests->huggingface-hub>=0.25.1->gradio) (2.2.3)\n",
            "Requirement already satisfied: mdurl~=0.1 in /usr/local/lib/python3.10/dist-packages (from markdown-it-py>=2.2.0->rich>=10.11.0->typer<1.0,>=0.12->gradio) (0.1.2)\n",
            "Downloading gradio-5.9.1-py3-none-any.whl (57.2 MB)\n",
            "\u001b[2K   \u001b[90m━━━━━━━━━━━━━━━━━━━━━━━━━━━━━━━━━━━━━━━━\u001b[0m \u001b[32m57.2/57.2 MB\u001b[0m \u001b[31m11.3 MB/s\u001b[0m eta \u001b[36m0:00:00\u001b[0m\n",
            "\u001b[?25hDownloading gradio_client-1.5.2-py3-none-any.whl (320 kB)\n",
            "\u001b[2K   \u001b[90m━━━━━━━━━━━━━━━━━━━━━━━━━━━━━━━━━━━━━━━━\u001b[0m \u001b[32m320.4/320.4 kB\u001b[0m \u001b[31m20.1 MB/s\u001b[0m eta \u001b[36m0:00:00\u001b[0m\n",
            "\u001b[?25hDownloading aiofiles-23.2.1-py3-none-any.whl (15 kB)\n",
            "Downloading fastapi-0.115.6-py3-none-any.whl (94 kB)\n",
            "\u001b[2K   \u001b[90m━━━━━━━━━━━━━━━━━━━━━━━━━━━━━━━━━━━━━━━━\u001b[0m \u001b[32m94.8/94.8 kB\u001b[0m \u001b[31m6.5 MB/s\u001b[0m eta \u001b[36m0:00:00\u001b[0m\n",
            "\u001b[?25hDownloading MarkupSafe-2.1.5-cp310-cp310-manylinux_2_17_x86_64.manylinux2014_x86_64.whl (25 kB)\n",
            "Downloading python_multipart-0.0.20-py3-none-any.whl (24 kB)\n",
            "Downloading ruff-0.8.4-py3-none-manylinux_2_17_x86_64.manylinux2014_x86_64.whl (11.2 MB)\n",
            "\u001b[2K   \u001b[90m━━━━━━━━━━━━━━━━━━━━━━━━━━━━━━━━━━━━━━━━\u001b[0m \u001b[32m11.2/11.2 MB\u001b[0m \u001b[31m83.6 MB/s\u001b[0m eta \u001b[36m0:00:00\u001b[0m\n",
            "\u001b[?25hDownloading safehttpx-0.1.6-py3-none-any.whl (8.7 kB)\n",
            "Downloading semantic_version-2.10.0-py2.py3-none-any.whl (15 kB)\n",
            "Downloading starlette-0.41.3-py3-none-any.whl (73 kB)\n",
            "\u001b[2K   \u001b[90m━━━━━━━━━━━━━━━━━━━━━━━━━━━━━━━━━━━━━━━━\u001b[0m \u001b[32m73.2/73.2 kB\u001b[0m \u001b[31m4.2 MB/s\u001b[0m eta \u001b[36m0:00:00\u001b[0m\n",
            "\u001b[?25hDownloading tomlkit-0.13.2-py3-none-any.whl (37 kB)\n",
            "Downloading uvicorn-0.34.0-py3-none-any.whl (62 kB)\n",
            "\u001b[2K   \u001b[90m━━━━━━━━━━━━━━━━━━━━━━━━━━━━━━━━━━━━━━━━\u001b[0m \u001b[32m62.3/62.3 kB\u001b[0m \u001b[31m3.7 MB/s\u001b[0m eta \u001b[36m0:00:00\u001b[0m\n",
            "\u001b[?25hDownloading ffmpy-0.5.0-py3-none-any.whl (6.0 kB)\n",
            "Downloading pydub-0.25.1-py2.py3-none-any.whl (32 kB)\n",
            "Installing collected packages: pydub, uvicorn, tomlkit, semantic-version, ruff, python-multipart, markupsafe, ffmpy, aiofiles, starlette, safehttpx, gradio-client, fastapi, gradio\n",
            "  Attempting uninstall: markupsafe\n",
            "    Found existing installation: MarkupSafe 3.0.2\n",
            "    Uninstalling MarkupSafe-3.0.2:\n",
            "      Successfully uninstalled MarkupSafe-3.0.2\n",
            "Successfully installed aiofiles-23.2.1 fastapi-0.115.6 ffmpy-0.5.0 gradio-5.9.1 gradio-client-1.5.2 markupsafe-2.1.5 pydub-0.25.1 python-multipart-0.0.20 ruff-0.8.4 safehttpx-0.1.6 semantic-version-2.10.0 starlette-0.41.3 tomlkit-0.13.2 uvicorn-0.34.0\n",
            "Collecting neo4j\n",
            "  Downloading neo4j-5.27.0-py3-none-any.whl.metadata (5.9 kB)\n",
            "Requirement already satisfied: pytz in /usr/local/lib/python3.10/dist-packages (from neo4j) (2024.2)\n",
            "Downloading neo4j-5.27.0-py3-none-any.whl (301 kB)\n",
            "\u001b[2K   \u001b[90m━━━━━━━━━━━━━━━━━━━━━━━━━━━━━━━━━━━━━━━━\u001b[0m \u001b[32m301.7/301.7 kB\u001b[0m \u001b[31m4.0 MB/s\u001b[0m eta \u001b[36m0:00:00\u001b[0m\n",
            "\u001b[?25hInstalling collected packages: neo4j\n",
            "Successfully installed neo4j-5.27.0\n",
            "Collecting anthropic==0.40.0\n",
            "  Downloading anthropic-0.40.0-py3-none-any.whl.metadata (23 kB)\n",
            "Requirement already satisfied: anyio<5,>=3.5.0 in /usr/local/lib/python3.10/dist-packages (from anthropic==0.40.0) (3.7.1)\n",
            "Requirement already satisfied: distro<2,>=1.7.0 in /usr/local/lib/python3.10/dist-packages (from anthropic==0.40.0) (1.9.0)\n",
            "Requirement already satisfied: httpx<1,>=0.23.0 in /usr/local/lib/python3.10/dist-packages (from anthropic==0.40.0) (0.28.1)\n",
            "Requirement already satisfied: jiter<1,>=0.4.0 in /usr/local/lib/python3.10/dist-packages (from anthropic==0.40.0) (0.8.2)\n",
            "Requirement already satisfied: pydantic<3,>=1.9.0 in /usr/local/lib/python3.10/dist-packages (from anthropic==0.40.0) (2.10.3)\n",
            "Requirement already satisfied: sniffio in /usr/local/lib/python3.10/dist-packages (from anthropic==0.40.0) (1.3.1)\n",
            "Requirement already satisfied: typing-extensions<5,>=4.7 in /usr/local/lib/python3.10/dist-packages (from anthropic==0.40.0) (4.12.2)\n",
            "Requirement already satisfied: idna>=2.8 in /usr/local/lib/python3.10/dist-packages (from anyio<5,>=3.5.0->anthropic==0.40.0) (3.10)\n",
            "Requirement already satisfied: exceptiongroup in /usr/local/lib/python3.10/dist-packages (from anyio<5,>=3.5.0->anthropic==0.40.0) (1.2.2)\n",
            "Requirement already satisfied: certifi in /usr/local/lib/python3.10/dist-packages (from httpx<1,>=0.23.0->anthropic==0.40.0) (2024.12.14)\n",
            "Requirement already satisfied: httpcore==1.* in /usr/local/lib/python3.10/dist-packages (from httpx<1,>=0.23.0->anthropic==0.40.0) (1.0.7)\n",
            "Requirement already satisfied: h11<0.15,>=0.13 in /usr/local/lib/python3.10/dist-packages (from httpcore==1.*->httpx<1,>=0.23.0->anthropic==0.40.0) (0.14.0)\n",
            "Requirement already satisfied: annotated-types>=0.6.0 in /usr/local/lib/python3.10/dist-packages (from pydantic<3,>=1.9.0->anthropic==0.40.0) (0.7.0)\n",
            "Requirement already satisfied: pydantic-core==2.27.1 in /usr/local/lib/python3.10/dist-packages (from pydantic<3,>=1.9.0->anthropic==0.40.0) (2.27.1)\n",
            "Downloading anthropic-0.40.0-py3-none-any.whl (199 kB)\n",
            "\u001b[2K   \u001b[90m━━━━━━━━━━━━━━━━━━━━━━━━━━━━━━━━━━━━━━━━\u001b[0m \u001b[32m199.5/199.5 kB\u001b[0m \u001b[31m5.1 MB/s\u001b[0m eta \u001b[36m0:00:00\u001b[0m\n",
            "\u001b[?25hInstalling collected packages: anthropic\n",
            "Successfully installed anthropic-0.40.0\n",
            "Requirement already satisfied: openai==1.57.4 in /usr/local/lib/python3.10/dist-packages (1.57.4)\n",
            "Requirement already satisfied: anyio<5,>=3.5.0 in /usr/local/lib/python3.10/dist-packages (from openai==1.57.4) (3.7.1)\n",
            "Requirement already satisfied: distro<2,>=1.7.0 in /usr/local/lib/python3.10/dist-packages (from openai==1.57.4) (1.9.0)\n",
            "Requirement already satisfied: httpx<1,>=0.23.0 in /usr/local/lib/python3.10/dist-packages (from openai==1.57.4) (0.28.1)\n",
            "Requirement already satisfied: jiter<1,>=0.4.0 in /usr/local/lib/python3.10/dist-packages (from openai==1.57.4) (0.8.2)\n",
            "Requirement already satisfied: pydantic<3,>=1.9.0 in /usr/local/lib/python3.10/dist-packages (from openai==1.57.4) (2.10.3)\n",
            "Requirement already satisfied: sniffio in /usr/local/lib/python3.10/dist-packages (from openai==1.57.4) (1.3.1)\n",
            "Requirement already satisfied: tqdm>4 in /usr/local/lib/python3.10/dist-packages (from openai==1.57.4) (4.67.1)\n",
            "Requirement already satisfied: typing-extensions<5,>=4.11 in /usr/local/lib/python3.10/dist-packages (from openai==1.57.4) (4.12.2)\n",
            "Requirement already satisfied: idna>=2.8 in /usr/local/lib/python3.10/dist-packages (from anyio<5,>=3.5.0->openai==1.57.4) (3.10)\n",
            "Requirement already satisfied: exceptiongroup in /usr/local/lib/python3.10/dist-packages (from anyio<5,>=3.5.0->openai==1.57.4) (1.2.2)\n",
            "Requirement already satisfied: certifi in /usr/local/lib/python3.10/dist-packages (from httpx<1,>=0.23.0->openai==1.57.4) (2024.12.14)\n",
            "Requirement already satisfied: httpcore==1.* in /usr/local/lib/python3.10/dist-packages (from httpx<1,>=0.23.0->openai==1.57.4) (1.0.7)\n",
            "Requirement already satisfied: h11<0.15,>=0.13 in /usr/local/lib/python3.10/dist-packages (from httpcore==1.*->httpx<1,>=0.23.0->openai==1.57.4) (0.14.0)\n",
            "Requirement already satisfied: annotated-types>=0.6.0 in /usr/local/lib/python3.10/dist-packages (from pydantic<3,>=1.9.0->openai==1.57.4) (0.7.0)\n",
            "Requirement already satisfied: pydantic-core==2.27.1 in /usr/local/lib/python3.10/dist-packages (from pydantic<3,>=1.9.0->openai==1.57.4) (2.27.1)\n",
            "Collecting aisuite\n",
            "  Downloading aisuite-0.1.6-py3-none-any.whl.metadata (5.7 kB)\n",
            "Downloading aisuite-0.1.6-py3-none-any.whl (20 kB)\n",
            "Installing collected packages: aisuite\n",
            "Successfully installed aisuite-0.1.6\n",
            "time: 316 µs (started: 2024-12-22 09:11:56 +00:00)\n"
          ]
        }
      ],
      "source": [
        "%pip install ipython-autotime\n",
        "%pip install gradio\n",
        "%pip install neo4j\n",
        "%pip install anthropic==0.40.0\n",
        "%pip install openai==1.57.4\n",
        "%pip install aisuite\n",
        "%load_ext autotime"
      ]
    },
    {
      "cell_type": "code",
      "execution_count": null,
      "metadata": {
        "colab": {
          "base_uri": "https://localhost:8080/"
        },
        "id": "0eBG5WNupBTQ",
        "outputId": "edbc3db5-5ed7-4673-9d94-ef79066dfffc"
      },
      "outputs": [
        {
          "name": "stdout",
          "output_type": "stream",
          "text": [
            "time: 545 ms (started: 2024-12-17 04:04:39 +00:00)\n"
          ]
        }
      ],
      "source": [
        "%matplotlib inline\n",
        "\n",
        "import os\n",
        "from pprint import pprint\n",
        "\n",
        "import matplotlib.pyplot as plt\n",
        "import numpy as np\n",
        "import pandas as pd"
      ]
    },
    {
      "cell_type": "markdown",
      "metadata": {
        "id": "3tJbol4wyaP7"
      },
      "source": [
        "# 1.Static mapping table\n"
      ]
    },
    {
      "cell_type": "markdown",
      "metadata": {
        "id": "aovaomc6RvtM"
      },
      "source": [
        "## System prompt template\n"
      ]
    },
    {
      "cell_type": "code",
      "execution_count": null,
      "metadata": {
        "colab": {
          "base_uri": "https://localhost:8080/"
        },
        "id": "c2ddcIlyQZVq",
        "outputId": "eb2f929b-5a8a-454b-acec-8d442712c0d1"
      },
      "outputs": [
        {
          "name": "stdout",
          "output_type": "stream",
          "text": [
            "You are an assistant specialized in interpreting divination results. Use the following [Context] to provide insights and advice to users based on their questions. Always format your responses according to the [Response Format] below, ensuring personalized interpretations and actionable advice.\n",
            "\n",
            "\n",
            "[Response Format] \n",
            "您抽到的籤是: [Include 籤名 here] \n",
            "籤詩: [Include full 籤詩 here] \n",
            "\n",
            "\n",
            "籤詩解讀: \n",
            "\n",
            "\n",
            "小廟公建議: \n",
            "[Context] {context}\n",
            "Guidelines: - Interpret the provided [Context] flexibly. The \"籤詩解讀\" should connect the content of the divination with the user's question. - Use the \"小廟公建議\" to provide specific, actionable guidance relevant to the question, referencing details from the context where appropriate. - End with a short phrase encouraging the user, alike \"Don't worry\", \"Good luck\", etc. \n",
            "Note: If the length of the [Context] is less than 20 characters, provide the full [Context] directly as a response without applying the [Response Format].\n",
            "time: 5.27 ms (started: 2024-12-17 05:13:32 +00:00)\n"
          ]
        }
      ],
      "source": [
        "SYS_PROMPT_TPL: str = '\\n'.join([\n",
        "    (\"You are an assistant specialized in interpreting divination results. \"\n",
        "     \"Use the following [Context] to provide insights and advice to users based on their questions. \"\n",
        "     \"Always format your responses according to the [Response Format] below, \"\n",
        "     \"ensuring personalized interpretations and actionable advice.\"),\n",
        "    \"\\n\",\n",
        "    \"[Response Format] \",\n",
        "    \"您抽到的籤是: [Include 籤名 here] \",\n",
        "    \"籤詩: [Include full 籤詩 here] \",\n",
        "    \"\\n\",\n",
        "    \"籤詩解讀: \",\n",
        "    \"\\n\",\n",
        "    \"小廟公建議: \",\n",
        "    \"[Context] \"\n",
        "    \"{context}\"\n",
        "    \"\\n\"\n",
        "    \"Guidelines: \"\n",
        "    \"- Interpret the provided [Context] flexibly. The \\\"籤詩解讀\\\" should connect the content of the divination with the user's question. \"\n",
        "    \"- Use the \\\"小廟公建議\\\" to provide specific, actionable guidance relevant to the question, referencing details from the context where appropriate. \"\n",
        "    \"- End with a short phrase encouraging the user, alike \\\"Don't worry\\\", \\\"Good luck\\\", etc. \"\n",
        "    \"\\n\"\n",
        "    \"Note: \"\n",
        "    \"If the length of the [Context] is less than 20 characters, provide the full [Context] directly as a response without applying the [Response Format].\"\n",
        "])\n",
        "\n",
        "print(SYS_PROMPT_TPL)"
      ]
    },
    {
      "cell_type": "markdown",
      "metadata": {
        "id": "q7mUsV4CSOfi"
      },
      "source": [
        "## RAG context template\n"
      ]
    },
    {
      "cell_type": "code",
      "execution_count": null,
      "metadata": {
        "colab": {
          "base_uri": "https://localhost:8080/"
        },
        "id": "UbbOADVsSWnh",
        "outputId": "7dfaa6c8-20fd-46ab-d449-5a7295fa023b"
      },
      "outputs": [
        {
          "name": "stdout",
          "output_type": "stream",
          "text": [
            "籤名: 【{吉凶}】{詩運} {籤名}-{詩名} \n",
            "\n",
            "\n",
            "~籤詩~ \n",
            "{籤詩}\n",
            "\n",
            "\n",
            "{詳解}\n",
            "\n",
            "\n",
            "小廟公建議可參考聖意如下, 不需要全數給求籤者, 若有任何難或不利的訊號, 則建議小心慎重, 正向訊號則可達成! \n",
            "{聖意}\n",
            "\n",
            "\n",
            "潛在的指示為地支「{地支}」, 也可給求籤者做相關提醒: \n",
            " - 地理位置代表{方位} \n",
            " - 時間為{時間} \n",
            " - 十二生肖對應為{生肖}, {生肖特色}, {生肖從事} \n",
            " - 五行為「{五行}」, {五行}生{相生}但{五行}剋{相剋}, 若為上籤宜{五行上籤}等, 若為下籤則注意{五行下籤}等 \n",
            "time: 1.86 ms (started: 2024-12-17 05:13:33 +00:00)\n"
          ]
        }
      ],
      "source": [
        "RAG_TPL: str = '\\n'.join([\n",
        "    \"籤名: 【{吉凶}】{詩運} {籤名}-{詩名} \",\n",
        "    \"\\n\",\n",
        "    \"~籤詩~ \",\n",
        "    \"{籤詩}\",\n",
        "    \"\\n\",\n",
        "    \"{詳解}\",\n",
        "    \"\\n\",\n",
        "    \"小廟公建議可參考聖意如下, 不需要全數給求籤者, 若有任何難或不利的訊號, 則建議小心慎重, 正向訊號則可達成! \",\n",
        "    \"{聖意}\",\n",
        "    \"\\n\",\n",
        "    \"潛在的指示為地支「{地支}」, 也可給求籤者做相關提醒: \",\n",
        "    \" - 地理位置代表{方位} \",\n",
        "    \" - 時間為{時間} \",\n",
        "    \" - 十二生肖對應為{生肖}, {生肖特色}, {生肖從事} \",\n",
        "    \" - 五行為「{五行}」, {五行}生{相生}但{五行}剋{相剋}, 若為上籤宜{五行上籤}等, 若為下籤則注意{五行下籤}等 \",\n",
        "])\n",
        "\n",
        "print(RAG_TPL)"
      ]
    },
    {
      "cell_type": "markdown",
      "metadata": {
        "id": "03YrMBmETuNc"
      },
      "source": [
        "## Mapping Table\n",
        "\n",
        "籤詩, 地支, 五行, 時辰, 方位, 生肖..\n",
        "\n",
        "統計: 大吉籤 8 支, 上吉籤 2 支, 上上籤 28 支, 上中籤 4 支, 上平籤 3 支, 上籤 1 支, 中吉、中上、中中、中平、中這個等級類別的籤共 25 支, 平中籤、平平籤、平籤各 1 支, 無標示的籤 25 支, 下下籤 1 支\n",
        "加起來 100 支籤詩, 共 16 個吉凶的等級分類。\n",
        "By [關於聖意] https://vocus.cc/article/60cc311efd8978000139e6c2\n",
        "\n",
        "![](https://s1.astrologs.net/489fa60ffe094cb6b9e431d29164129c332507.jpg)\n",
        "![](https://s1.astrologs.net/00863e956d804118b14f7761085abdaf643933.jpg)\n",
        "![](https://s1.astrologs.net/7b135058418e40c2ad656470a47d0135244692.jpg)\n",
        "![](https://s1.astrologs.net/639bd26c3de946f5876a2df721175f3b511769.jpg)\n",
        "By [星玄説](https://astrologs.net/a/9kog8bd821/)\n"
      ]
    },
    {
      "cell_type": "code",
      "execution_count": null,
      "metadata": {
        "colab": {
          "base_uri": "https://localhost:8080/"
        },
        "id": "KHgN99xgwo56",
        "outputId": "307ffcf7-8db3-4960-9cab-d9b8ef858a43"
      },
      "outputs": [
        {
          "name": "stdout",
          "output_type": "stream",
          "text": [
            "time: 4.96 ms (started: 2024-12-17 05:13:33 +00:00)\n"
          ]
        }
      ],
      "source": [
        "# 籤詩數據\n",
        "TOTAL_LOTS = 100\n",
        "UNKNOWN_LOT_RESULT = '__'  # 詩運\n",
        "DEFAULT_RESULT_GROUP = '中籤'\n",
        "LOT_RESULT_GROUPs = ['上籤', '中籤', '下籤']\n",
        "LOT_12_ZIs = ['丑宮', '亥宮', '午宮', '卯宮', '子宮', '寅宮',\n",
        "              '巳宮', '戌宮', '未宮', '申宮', '辰宮', '酉宮']\n",
        "LOT_RESULTs = ['__',  # unknown\n",
        "               '大吉', '上吉', '上上', '上中', '上平', '上',\n",
        "               '中吉', '中上', '中中', '中平', '中',\n",
        "               '平中', '平平', '平',\n",
        "               '下', '下下']\n",
        "LOT_RESULT_MAP = dict(\n",
        "    __='中籤',  # unknown\n",
        "    大吉='上籤',\n",
        "    上吉='上籤',\n",
        "    上上='上籤',\n",
        "    上中='上籤',\n",
        "    上平='上籤',\n",
        "    上='上籤',\n",
        "    中吉='中籤',\n",
        "    中上='中籤',\n",
        "    中中='中籤',\n",
        "    中平='中籤',\n",
        "    中='中籤',\n",
        "    平中='中籤',\n",
        "    平平='中籤',\n",
        "    平='中籤',\n",
        "    下='下籤',\n",
        "    下下='下籤',\n",
        ")\n",
        "\n",
        "# 定義地支、生肖和五行的對應關係\n",
        "ZIs = ['子', '丑', '寅', '卯', '辰', '巳', '午', '未', '申', '酉', '戌', '亥']\n",
        "\n",
        "# FiveElement 五行\n",
        "ELEMENTs = ['金', '木', '水', '火', '土']\n",
        "\n",
        "# 相生 相剋\n",
        "ELEMENT_CYCLE_MAP = dict(\n",
        "    金={'生': '水', '剋': '木'},\n",
        "    木={'生': '火', '剋': '土'},\n",
        "    水={'生': '木', '剋': '火'},\n",
        "    火={'生': '土', '剋': '金'},\n",
        "    土={'生': '金', '剋': '水'},\n",
        ")\n",
        "\n",
        "# 地支 - 生肖\n",
        "ZI_ZODIAC_MAP = dict(\n",
        "    子='鼠',\n",
        "    丑='牛',\n",
        "    寅='虎',\n",
        "    卯='兔',\n",
        "    辰='龍',\n",
        "    巳='蛇',\n",
        "    午='馬',\n",
        "    未='羊',\n",
        "    申='猴',\n",
        "    酉='雞',\n",
        "    戌='狗',\n",
        "    亥='豬'\n",
        ")\n",
        "\n",
        "# 地支 - 五行\n",
        "ZI_ELEMENT_MAP = dict(\n",
        "    子='水',\n",
        "    丑='土',\n",
        "    寅='木',\n",
        "    卯='木',\n",
        "    辰='土',\n",
        "    巳='火',\n",
        "    午='火',\n",
        "    未='土',\n",
        "    申='金',\n",
        "    酉='金',\n",
        "    戌='土',\n",
        "    亥='水'\n",
        ")\n",
        "\n",
        "# 地支 - 四季\n",
        "ZI_SEASON_MAP = dict(\n",
        "    子='冬',\n",
        "    丑='四季',\n",
        "    寅='春',\n",
        "    卯='春',\n",
        "    辰='四季',\n",
        "    巳='夏',\n",
        "    午='夏',\n",
        "    未='四季',\n",
        "    申='秋',\n",
        "    酉='秋',\n",
        "    戌='四季',\n",
        "    亥='冬'\n",
        ")\n",
        "\n",
        "# 地支 - 方位,時辰\n",
        "ZI_LOC_MAP = dict(\n",
        "    子={'location': '北方', 'time': '晚上11點至凌晨1點'},\n",
        "    丑={'location': '東北', 'time': '凌晨1點至3點'},\n",
        "    寅={'location': '東北', 'time': '凌晨3點至5點'},\n",
        "    卯={'location': '東方', 'time': '早上5點至7點'},\n",
        "    辰={'location': '東南', 'time': '早上7點至9點'},\n",
        "    巳={'location': '東南', 'time': '上午9點至11點'},\n",
        "    午={'location': '南方', 'time': '中午11點至下午1點'},\n",
        "    未={'location': '西南', 'time': '下午1點至3點'},\n",
        "    申={'location': '西南', 'time': '下午3點至5點'},\n",
        "    酉={'location': '西方', 'time': '下午5點至7點'},\n",
        "    戌={'location': '西北', 'time': '晚上7點至9點'},\n",
        "    亥={'location': '西北', 'time': '晚上9點至11點'},\n",
        ")\n",
        "\n",
        "# 生肖\n",
        "ZODIACs = ['龍', '兔', '馬', '牛', '蛇', '豬', '羊', '猴', '狗', '鼠', '虎', '雞']\n",
        "\n",
        "# 生肖 - 個性, 從事\n",
        "ZODIAC_ATTR_MAP = dict(\n",
        "    鼠={'personalities': ['機智', '靈活'], 'works': ['適合從事需要快速反應的工作']},\n",
        "    牛={'personalities': ['勤奮', '穩重'], 'works': ['適合從事需要耐力和毅力的工作']},\n",
        "    虎={'personalities': ['勇敢', '冒險'], 'works': ['適合從事需要勇氣和決斷力的工作']},\n",
        "    兔={'personalities': ['溫和', '謹慎'], 'works': ['適合從事需要細心和耐心的工作']},\n",
        "    龍={'personalities': ['自信', '領導'], 'works': ['適合從事需要創新和領導力的工作']},\n",
        "    蛇={'personalities': ['智慧', '神秘'], 'works': ['適合從事需要策略和洞察力的工作']},\n",
        "    馬={'personalities': ['熱情', '奔放'], 'works': ['適合從事需要活力和創意的工作']},\n",
        "    羊={'personalities': ['溫柔', '善良'], 'works': ['適合從事需要關懷和同理心的工作']},\n",
        "    猴={'personalities': ['聰明', '機智'], 'works': ['適合從事需要靈活和創意的工作']},\n",
        "    雞={'personalities': ['勤奮', '細心'], 'works': ['適合從事需要細心和耐心的工作']},\n",
        "    狗={'personalities': ['忠誠', '可靠'], 'works': ['適合從事需要信任和責任感的工作']},\n",
        "    豬={'personalities': ['樂觀', '豁達'], 'works': ['適合從事需要樂觀和積極性的工作']},\n",
        ")\n",
        "\n",
        "# 五行 - goods, bads\n",
        "ELEMENT_ADVICE = dict(\n",
        "    金={\n",
        "        '上籤': ['金融投資', '金屬工藝', '珠寶首飾', '學習理財', '健身鍛煉'],\n",
        "        '下籤': ['過度消費', '金屬傷害', '金融風險', '過度勞累']\n",
        "    },\n",
        "    木={\n",
        "        '上籤': ['園藝種植', '森林散步', '學習新知識', '創意工作', '綠色環保'],\n",
        "        '下籤': ['過度勞累', '木製品傷害', '過度依賴', '環境污染']\n",
        "    },\n",
        "    水={\n",
        "        '上籤': ['旅行', '水邊活動', '游泳', '學習水性', '水療按摩'],\n",
        "        '下籤': ['游泳風險', '水邊活動安全', '過度飲水', '水污染']\n",
        "    },\n",
        "    火={\n",
        "        '上籤': ['烹飪', '熱情工作', '學習新技能', '社交活動', '創意表達'],\n",
        "        '下籤': ['高溫環境', '火災風險', '過度熱情', '火氣過旺']\n",
        "    },\n",
        "    土={\n",
        "        '上籤': ['土地耕作', '建築設計', '學習歷史', '穩定工作', '家庭聚會'],\n",
        "        '下籤': ['過度勞累', '土石傷害', '過度保守', '環境破壞']\n",
        "    }\n",
        ")\n",
        "\n",
        "LOT_CONTEXT_KEYS = ['籤名', '詩名', '詩運', '籤詩', '吉凶', '宮位',\n",
        "                    '詩意', '解曰', '淺釋', '靈籤', '詳解']\n",
        "\n",
        "LOT_PURPOSE_KEYS = [\n",
        "    \"家宅\",\n",
        "    \"自身\",\n",
        "    \"求財\",\n",
        "    \"交易\",\n",
        "    \"婚姻\",\n",
        "    \"六甲\",\n",
        "    \"行人\",\n",
        "    \"田蠶\",\n",
        "    \"六畜\",\n",
        "    \"尋人\",\n",
        "    \"公訟\",\n",
        "    \"移徙\",\n",
        "    \"失物\",\n",
        "    \"疾病\",\n",
        "    \"山墳\"\n",
        "]\n",
        "\n",
        "LOT_PURPOSE_ANSWERS = dict(\n",
        "    家宅={'欠安（大吉）', '先凶后吉', '旺', '大利', '安', '慎出', '利', '平常', '損失', '吉', '若前', '祈保（吉）', '不安', '許願', '口舌', '還願', '不利',\n",
        "        '守舊', '欠安', '大吉', '祈保', '清吉', '平安', '欠利', '平吉', '心只', '憂疑', '中平', '平平', '祈福', '作福', '吉利', '凶', '亂', '不利（漸安）'},\n",
        "    自身={'困滯', '順利', '康泰', '安', '路行', '許經', '平常', '災耗', '秋冬大利', '秋冬旺', '還願（大吉）', '欠吉（凶。注意健康）', '吉', '平', '夏秋吉', '阻', '吉隨', '利安', '平穩', '口舌', '順利（不順）', '還願', '守慎', '順', '謹防',\n",
        "        '不利', '祈保', '提防', '欠利', '欠吉（先凶后吉）', '吉（待運至）', '泰', '謹慎', '小人', '防', '中平', '平平', '冬吉', '秋冬吉', '中吉', '險', '祈福', '阻滯', '作福', '吉利', '安（運滯。唯仁可解）', '是非', '利', '謹防（凶中有吉）'},\n",
        "    求財={'佳順', '中平（休想）', '大利', '難', '順利（甭想）', '未成', '好', '遂', '西方', '秋冬大利', '秋冬旺', '秋旺', '利西', '破', '吉', '阻', '破失', '未有', '著力', '守份', '不平', '大前', '守慎', '順', '不利', '得利', '春利', '遂意',\n",
        "        '欠利', '虛', '微微', '待時', '有', '春旺', '謹慎', '小人', '中平', '秋吉', '平平', '勞力', '合', '秋冬吉', '中吉', '守待', '平常（切忌）', '破耗', '阻滯', '謹守', '未遇', '有利', '頗有', '勞心', '成', '正勝', '順遂', '利'},\n",
        "    交易={'旺', '難', '一可', '未成', '平常', '遂', '損失', '吉', '平', '成（且慢）', '阻', '宜遲', '順利（且慢）', '滯', '難成', '早斷', '諸祭', '勝', '穩', '反覆', '允',\n",
        "        '謹防', '貴人', '不利', '不合', '遂意', '大吉', '諸求', '未指示', '待時', '謹慎', '小人', '中平', '平平', '合', '敗', '破耗', '阻滯', '不成', '遲', '成', '慎重', '利'},\n",
        "    婚姻={'成合', '刑剋', '難', '好合', '未成', '好', '難合', '刑傷', '難順', '阻', '條向', '宜遲', '遂（慎）', '合（遇佳婿）', '遲滯', '不就', '成就', '有阻', '遲成', '事解', '遲合', '隨意',\n",
        "        '事之', '不長', '未許', '不合', '阻隔', '虛', '待時', '未就', '中平', '平平', '就', '未合', '和合', '再合', '合', '中吉', '祈福', '阻滯', '有成', '不成', '遲', '成', '雙配'},\n",
        "    六甲={'安', '有險', '有驚', '生男', '刑損', '阻', '刑劫', '平安（生肖子）', '女', '事順', '喜', '虛驚（有寶）', '防驚', '生女', '添孫', '虛驚', '有虛', '危險',\n",
        "        '平安', '祈保', '虛', '驚', '虛險', '煞旺', '虛（女）', '安（空孕）', '男。驚', '春實秋虛', '險', '祈福', '虛花', '作福', '祈保（空寶。防小產）', '男', '先虛后實'},\n",
        "    行人={'有危', '到', '近', '諸順', '吉', '至', '阻', '未至', '見', '滯', '有災', '有阻', '杳', '順',\n",
        "        '有信', '平安', '祈保', '阻隔', '財更', '未指示', '遲至', '留連', '未回', '困', '阻滯', '動', '遲', '回'},\n",
        "    田蠶={'旺', '半熟', '早種', '好', '晚成', '虧', '功貴', '少收', '七分', '吉', '宜早種', '平', '早生', '晚收', '八分', '阻', '晚勝', '少', '滯', '宜早', '平穩', '晚豐',\n",
        "        '半收', '著力', '晚', '穩', '五分', '十足', '不利', '興', '可養', '損', '熟', '用向', '中平', '秋吉', '多災', '就', '不收', '秋利', '祈福', '秋熟', '缺', '半吉', '利'},\n",
        "    六畜={'旺', '瘟', '難', '安', '大利（失利）', '好', '少收', '平', '阻', '滯', '平穩', '勝', '穩', '不利', '興', '慎吉',\n",
        "        '衰', '春利', '可養', '欠利', '損', '難養', '春旺', '問有', '莫養', '尾利', '中可', '多災', '中平', '成', '勤理', '利'},\n",
        "    尋人={'招非', '難', '西方', '至', '阻', '見', '滯', '見（難）', '杳', '隔', '有信', '遇',\n",
        "        '無蹤', '阻隔', '未指示', '名人', '勤', '事前', '難（見）', '未遇', '遲', '西', '至（凶）', '勞'},\n",
        "    公訟={'虧（莫興）', '擱', '意昌', '盈氣', '有理', '虧', '吉', '宜和', '急斷', '和', '散',\n",
        "        '延', '勝', '有貴人', '反覆', '不利', '驚', '和（即止訟）', '禍', '和（勿興）', '變'},\n",
        "    移徙={'去', '旺', '安', '如意', '宜遷', '平常（甭提）', '平', '吉', '改', '舊安', '舊', '勿動', '莫動', '守', '昌盛',\n",
        "        '隨意', '興', '守舊', '難（遠可）', '不利', '不合', '大吉', '祈保', '欠吉', '更新', '未指示', '待時', '吉（不吉）', '利'},\n",
        "    失物={'東西', '遠', '難', '帶', '西方', '難（空', '在', '北方', '阻', '見', '速尋', '得見', '西北', '空', '東北',\n",
        "        '西方(註：北方屬水。西方屬金）', '無蹤', '虛', '南方', '難尋', '未指示', '不見', '急尋', '西', '南', '即見', '祈福', '東南', '凶', '凶病', '遲見', '無', '難見', '東方'},\n",
        "    疾病={'解', '禳星（得祖蔭）', '安', '有驚', '難痊', '禳星', '安然', '遇良醫', '祈保（凶）', '阻', '祭虎', '犯羅網', '有阻', '延', '喜', '即設送', '拜送（兔年或屬兔凶）', '還願', '反覆', '虛驚', '欠安', '急求神',\n",
        "        '祈保', '設送', '阻隔', '險阻', '未指示', '延安', '憂危', '即痊愈', '設送。安', '秋吉', '即安', '延纏', '求神保佑', '設送（必癒）', '有災險', '求福', '祈福', '犯陰', '還舊願', '作福', '延滯', '遇良方'},\n",
        "    山墳={'安吉', '安', '利', '守舊大吉', '吉', '平', '東西向吉', '改', '暫安', '不安', '西向', '舊吉', '大吉利', '不阻', '宜改', '改向吉', '宜修',\n",
        "        '豐喜', '如吉', '不利', '守舊', '大吉', '絕', '發', '東西吉', '南利', '中平', '擇地', '平平', '敗', '凶', '勿改', '宜舊', '不吉'},\n",
        ")"
      ]
    },
    {
      "cell_type": "markdown",
      "metadata": {
        "id": "qAW0Am9jTWUt"
      },
      "source": [
        "## PoemUtil\n",
        "\n",
        "- Helper class for handling poem-related data\n"
      ]
    },
    {
      "cell_type": "code",
      "execution_count": null,
      "metadata": {
        "colab": {
          "base_uri": "https://localhost:8080/"
        },
        "id": "HxQEerPT5jFu",
        "outputId": "722b461a-4d64-4974-fdd7-188dc2d4c6d4"
      },
      "outputs": [
        {
          "name": "stdout",
          "output_type": "stream",
          "text": [
            "time: 1.83 ms (started: 2024-12-17 05:13:33 +00:00)\n"
          ]
        }
      ],
      "source": [
        "from pandas import DataFrame\n",
        "\n",
        "\n",
        "class PoemUtil:\n",
        "    \"\"\"籤詩(poem) helper\"\"\"\n",
        "\n",
        "    RAG_TPL: str = RAG_TPL  # Template for RAG content\n",
        "\n",
        "    @staticmethod\n",
        "    def create_data(id: int) -> dict:\n",
        "        \"\"\"Create a dictionary structure for a poem.\"\"\"\n",
        "\n",
        "        return {\n",
        "            'id': id,\n",
        "            '籤名': '第?首',  # Example: 第九十九首\n",
        "            '詩名': '',  # Poem title\n",
        "            '詩運': '',  # Poem fortune\n",
        "            '籤詩': [],  # Four-line poem\n",
        "            '吉凶': '',  # Fortune type (mapping afterwards)\n",
        "            '宮位': '',  # Earthly branch position\n",
        "            '詩意': '',  # Poem meaning\n",
        "            '解曰': '',  # Interpretation\n",
        "            '聖意': {},  # Divine intentions\n",
        "            '淺釋': '',  # Simplified explanation\n",
        "            '靈籤': '',  # Spiritual significance\n",
        "            '詳解': '',  # Detailed explanation\n",
        "            'img_url': '',  # Image URL\n",
        "            'img_fname': '',  # Image filename\n",
        "        }\n",
        "\n",
        "    @staticmethod\n",
        "    def str_divine(divine_dict: dict) -> str:\n",
        "        \"\"\"Convert a dictionary of 聖意 dictionary into a formatted string.\"\"\"\n",
        "        return '\\n'.join([f'{k}: {v}' for k, v in divine_dict.items()])\n",
        "\n",
        "    @staticmethod\n",
        "    def get_value_by_index(\n",
        "        df: DataFrame,\n",
        "        idx: int,\n",
        "        col_name: str,\n",
        "        default_value=None\n",
        "    ):\n",
        "        \"\"\"Retrieve a value from the DataFrame by index and column name.\"\"\"\n",
        "        try:\n",
        "            return df.loc[idx, col_name]  # Access using label index\n",
        "        except KeyError:\n",
        "            return default_value  # Return default if the column doesn't exist\n",
        "\n",
        "    @staticmethod\n",
        "    def format_rag_content(\n",
        "        df: DataFrame,\n",
        "        lot_idx: int\n",
        "    ) -> str:\n",
        "        \"\"\"Format the RAG content based on the DataFrame and index.\"\"\"\n",
        "\n",
        "        col_value = PoemUtil.get_value_by_index\n",
        "        try:\n",
        "            地支 = col_value(df, lot_idx, '宮位')[0]\n",
        "            五行 = ZI_ELEMENT_MAP[地支]\n",
        "            生肖 = ZI_ZODIAC_MAP[地支]\n",
        "            data = {\n",
        "                '籤名': col_value(df, lot_idx, '籤名'),\n",
        "                '詩名': col_value(df, lot_idx, '詩名'),\n",
        "                '詩運': col_value(df, lot_idx, '詩運'),\n",
        "                '籤詩': '\\n'.join([v.ljust(12) for v in col_value(df, lot_idx, '籤詩')]),\n",
        "                '吉凶': col_value(df, lot_idx, '吉凶'),\n",
        "                '地支': 地支,\n",
        "                '詳解': col_value(df, lot_idx, '詳解'),\n",
        "                '聖意': '\\n'.join([f'{k}: {v}' for k, v in col_value(df, lot_idx, '聖意').items()]),\n",
        "                '方位': ZI_LOC_MAP[地支]['location'],\n",
        "                '時間': ZI_LOC_MAP[地支]['time'],\n",
        "                '生肖': 生肖,\n",
        "                '五行': 五行,\n",
        "                '生肖特色': '、'.join(ZODIAC_ATTR_MAP[生肖]['personalities']),\n",
        "                '生肖從事': '、'.join(ZODIAC_ATTR_MAP[生肖]['works']),\n",
        "                '相生': ELEMENT_CYCLE_MAP[五行]['生'],\n",
        "                '相剋': ELEMENT_CYCLE_MAP[五行]['剋'],\n",
        "                '五行上籤': ', '.join(ELEMENT_ADVICE[五行]['上籤']),\n",
        "                '五行下籤': ', '.join(ELEMENT_ADVICE[五行]['下籤']),\n",
        "            }\n",
        "            return PoemUtil.RAG_TPL.format(**data)\n",
        "        except Exception as e:\n",
        "            print(e)\n",
        "            return None"
      ]
    },
    {
      "cell_type": "markdown",
      "metadata": {
        "id": "COA2rWaltWor"
      },
      "source": [
        "## TokenizerUtil\n"
      ]
    },
    {
      "cell_type": "code",
      "execution_count": null,
      "metadata": {
        "colab": {
          "base_uri": "https://localhost:8080/"
        },
        "id": "HTO-JxyErrEc",
        "outputId": "56677952-bb13-457a-b26f-a775f630e340"
      },
      "outputs": [
        {
          "name": "stderr",
          "output_type": "stream",
          "text": [
            "WARNING:sentence_transformers.SentenceTransformer:No sentence-transformers model found with name ckiplab/bert-base-chinese. Creating a new one with mean pooling.\n",
            "Some weights of BertModel were not initialized from the model checkpoint at ckiplab/bert-base-chinese and are newly initialized: ['bert.pooler.dense.bias', 'bert.pooler.dense.weight']\n",
            "You should probably TRAIN this model on a down-stream task to be able to use it for predictions and inference.\n"
          ]
        },
        {
          "name": "stdout",
          "output_type": "stream",
          "text": [
            "time: 635 ms (started: 2024-12-17 05:13:33 +00:00)\n"
          ]
        }
      ],
      "source": [
        "from typing import Union\n",
        "\n",
        "from sentence_transformers import SentenceTransformer\n",
        "from sklearn.metrics.pairwise import cosine_similarity\n",
        "\n",
        "\n",
        "class TokenizerUtil:\n",
        "    \"\"\"Utility class for text embedding and similarity calculations.\"\"\"\n",
        "\n",
        "    # Class-level variable to store the model\n",
        "    _embedding_model: SentenceTransformer = None\n",
        "\n",
        "    @classmethod\n",
        "    def initialize_model(cls) -> None:\n",
        "        \"\"\"Initializes the SentenceTransformer model.\"\"\"\n",
        "        if cls._embedding_model is None:\n",
        "            cls._embedding_model = SentenceTransformer(\n",
        "                'ckiplab/bert-base-chinese')\n",
        "\n",
        "    @staticmethod\n",
        "    def get_word_embedding(word: str) -> list[float]:\n",
        "        \"\"\"Encodes a word into a numerical representation.\"\"\"\n",
        "        # return TokenizerUtil._embedding_model.encode(word).tolist()\n",
        "        return TokenizerUtil.flatten_list(TokenizerUtil._embedding_model.encode(word))\n",
        "\n",
        "    @staticmethod\n",
        "    def flatten_list(nested_list: Union[list[list], list]) -> list:\n",
        "        \"\"\"Flattens a nested list into a single list.\"\"\"\n",
        "        return [item for sublist in nested_list for item in sublist] \\\n",
        "            if isinstance(nested_list, list) and nested_list and isinstance(nested_list[0], list) \\\n",
        "            else nested_list\n",
        "\n",
        "    @staticmethod\n",
        "    def compute_cosine_similarity(text1: str, text2: str) -> float:\n",
        "        \"\"\"Calculates the cosine similarity between two texts.\"\"\"\n",
        "        embedding1 = TokenizerUtil.get_word_embedding(text1)\n",
        "        embedding2 = TokenizerUtil.get_word_embedding(text2)\n",
        "        return cosine_similarity([embedding1], [embedding2])[0][0]\n",
        "\n",
        "    @staticmethod\n",
        "    def pairwise_cosine_similarity(vec1: list[float], vec2: list[float]) -> float:\n",
        "        \"\"\"Calculates the cosine similarity between two vectors.\"\"\"\n",
        "        return cosine_similarity([vec1], [vec2])[0][0]\n",
        "\n",
        "\n",
        "# Initialize the model\n",
        "TokenizerUtil.initialize_model()"
      ]
    },
    {
      "cell_type": "markdown",
      "metadata": {
        "id": "epQ3QfDei8sE"
      },
      "source": [
        "## Neo4jUtil\n"
      ]
    },
    {
      "cell_type": "code",
      "execution_count": null,
      "metadata": {
        "colab": {
          "base_uri": "https://localhost:8080/"
        },
        "id": "AdV3vwnKjABt",
        "outputId": "0c5a8448-4cd7-4720-c42d-bc61c5ae6bed"
      },
      "outputs": [
        {
          "name": "stdout",
          "output_type": "stream",
          "text": [
            "time: 3.57 ms (started: 2024-12-17 05:25:09 +00:00)\n"
          ]
        }
      ],
      "source": [
        "import typing\n",
        "\n",
        "from neo4j import Driver, Result, Session\n",
        "\n",
        "\n",
        "class Neo4jUtil:\n",
        "    \"\"\"Neo4j Utilities for managing connections and data operations.\"\"\"\n",
        "\n",
        "    @staticmethod\n",
        "    def test_neo4j_connection(driver: Driver) -> None:\n",
        "        \"\"\"Test the connection to the Neo4j database.\"\"\"\n",
        "\n",
        "        try:\n",
        "            with driver.session() as session:\n",
        "                result: Result = session.run(\"RETURN 1 AS test\")\n",
        "                print(result.single()['test'])\n",
        "                print(\"Connection successful!\")\n",
        "        except Exception as e:\n",
        "            print(f\"Connection failed: {e}\")\n",
        "\n",
        "    @staticmethod\n",
        "    def delete_all_data(driver: Driver) -> bool:\n",
        "        \"\"\"Delete all nodes and relationships in the Neo4j database.\"\"\"\n",
        "\n",
        "        try:\n",
        "            with driver.session() as session:\n",
        "                delete_query = \"MATCH (n) DETACH DELETE n\"\n",
        "                session.run(delete_query)\n",
        "                print(\"All data has been deleted from Neo4j database.\")\n",
        "            return True\n",
        "        except Exception as e:\n",
        "            print(f\"Error deleting all data: {e}\")\n",
        "            return False\n",
        "\n",
        "    @staticmethod\n",
        "    def update_poem_with_user_prompt(\n",
        "        session: Session,\n",
        "        poem_number: int,\n",
        "        prompt: str,\n",
        "        llm_response: str,\n",
        "        model: str,\n",
        "        temperature: float,\n",
        "        max_tokens: int\n",
        "    ) -> None:\n",
        "        \"\"\"Update the poem with a user prompt and LLM response.\"\"\"\n",
        "\n",
        "        purpose_embedding = TokenizerUtil.get_word_embedding(prompt)\n",
        "        llm_response_embedding = TokenizerUtil.get_word_embedding(llm_response)\n",
        "        poem_data = {'poem_number': poem_number}\n",
        "        prompt_data = {\n",
        "            'text': prompt,\n",
        "            'purpose_embedding': purpose_embedding,\n",
        "            'llm_response': llm_response,\n",
        "            'llm_response_embedding': llm_response_embedding,\n",
        "            'model': model,\n",
        "            'temperature': temperature,\n",
        "            'max_tokens': max_tokens\n",
        "        }\n",
        "\n",
        "        query = \"\"\"\n",
        "        MATCH (p:Poem {number: $poem_number})\n",
        "        MERGE (up:UserPrompt {text: $text, purpose_embedding: $purpose_embedding, llm_response: $llm_response, llm_response_embedding: $llm_response_embedding})\n",
        "        MERGE (p)-[:HAS_PROMPT]->(up)\n",
        "        MERGE (llm:LLM {model: $model, temperature: $temperature, max_tokens: $max_tokens})\n",
        "        MERGE (up)-[:GENERATED_BY]->(llm)\n",
        "        \"\"\"\n",
        "        session.run(query, {**poem_data, **prompt_data})\n",
        "        print(\"Added a prompt to the poem successfully!\")\n",
        "\n",
        "    @staticmethod\n",
        "    def search_poem_data(\n",
        "        session: Session,\n",
        "        poem_number: int\n",
        "    ) -> list[dict[str, typing.Any]]:\n",
        "        \"\"\"Search for poem data including body and earthly branch.\"\"\"\n",
        "\n",
        "        query = \"\"\"\n",
        "        MATCH (p:Poem {number: $poem_number})-[:HAS_BODY]->(body:Body)\n",
        "        OPTIONAL MATCH (p)-[:HAS_EARTH_BRANCH]->(branch:EarthlyBranch)\n",
        "        RETURN\n",
        "            COLLECT(DISTINCT p) AS Poem,\n",
        "            COLLECT(DISTINCT body) AS Body,\n",
        "            COLLECT(DISTINCT branch) AS EarthlyBranch\n",
        "        \"\"\"\n",
        "        result = session.run(query, {'poem_number': poem_number})\n",
        "        return result.data()\n",
        "\n",
        "    @staticmethod\n",
        "    def similarity_search_user_prompts(\n",
        "        session: Session,\n",
        "        poem_number: int,\n",
        "        new_user_prompt: str,\n",
        "        threshold: float = 0.75,\n",
        "        top_n: int = 3\n",
        "    ) -> list[dict[str, typing.Any]]:\n",
        "        \"\"\"Perform a similarity search on UserPrompt nodes for a specific Poem using GDS.\"\"\"\n",
        "\n",
        "        search_data = {\n",
        "            'poem_number': poem_number,\n",
        "            'new_user_prompt': new_user_prompt,\n",
        "            'new_user_prompt_embedding': TokenizerUtil.get_word_embedding(new_user_prompt),\n",
        "            'threshold': threshold,\n",
        "            'top_n': top_n,\n",
        "        }\n",
        "\n",
        "        query = \"\"\"\n",
        "        MATCH (p:Poem {number: $poem_number})-[:HAS_PROMPT]->(up:UserPrompt)\n",
        "        OPTIONAL MATCH (up)-[:GENERATED_BY]->(llm:LLM)\n",
        "        WITH up, llm,\n",
        "             gds.similarity.cosine(up.purpose_embedding, $new_user_prompt_embedding) AS similarity\n",
        "        WHERE similarity >= $threshold\n",
        "        RETURN similarity,\n",
        "               up.text AS user_prompt,\n",
        "               up.llm_response AS llm_response,\n",
        "               llm.model AS llm_model,\n",
        "               llm.temperature AS llm_temperature,\n",
        "               llm.max_tokens AS llm_max_tokens\n",
        "        ORDER BY similarity DESC\n",
        "        LIMIT $top_n\n",
        "        \"\"\"\n",
        "\n",
        "        results = session.run(query, **search_data)\n",
        "        return [record for record in results]"
      ]
    },
    {
      "cell_type": "markdown",
      "metadata": {
        "id": "_yZJxbM5vrWz"
      },
      "source": [
        "# 2.Import 100 poem data\n",
        "\n",
        "Get all poem related data.\n"
      ]
    },
    {
      "cell_type": "markdown",
      "metadata": {
        "id": "gtG2W2iO594g"
      },
      "source": [
        "## Text data\n"
      ]
    },
    {
      "cell_type": "code",
      "execution_count": null,
      "metadata": {
        "colab": {
          "base_uri": "https://localhost:8080/"
        },
        "id": "PyiX3M9XRohT",
        "outputId": "9eb03254-1e2d-4bd2-d057-d1cd6830be95"
      },
      "outputs": [
        {
          "name": "stdout",
          "output_type": "stream",
          "text": [
            "Loaded 100 records from all_chances.json\n",
            "time: 20.5 ms (started: 2024-12-17 04:17:33 +00:00)\n"
          ]
        }
      ],
      "source": [
        "import json\n",
        "\n",
        "all_chances_file = 'all_chances.json'\n",
        "all_chances = []\n",
        "# Read all_chances.json. Please upload to colab first.\n",
        "with open(all_chances_file, 'r', encoding='utf8') as f:\n",
        "    all_chances = json.load(f)\n",
        "\n",
        "print(f'Loaded {len(all_chances)} records from {all_chances_file}')"
      ]
    },
    {
      "cell_type": "code",
      "execution_count": null,
      "metadata": {
        "id": "Yve4Rg0H6kUw"
      },
      "outputs": [],
      "source": [
        "# Preview poem #23\n",
        "pprint(all_chances[22] if len(all_chances) > 0 else None)"
      ]
    },
    {
      "cell_type": "markdown",
      "metadata": {
        "id": "QihgJ8ZWolwu"
      },
      "source": [
        "### Check text data"
      ]
    },
    {
      "cell_type": "code",
      "execution_count": null,
      "metadata": {
        "id": "xb4iZlGwolwu"
      },
      "outputs": [],
      "source": [
        "# Preview poem distribution\n",
        "from collections import Counter\n",
        "\n",
        "lot_result_count_map = dict(Counter([v['詩運'] for v in all_chances]))\n",
        "sum(lot_result_count_map.values()), len(\n",
        "    lot_result_count_map), lot_result_count_map"
      ]
    },
    {
      "cell_type": "code",
      "execution_count": null,
      "metadata": {
        "id": "3D3bOhUwolwu"
      },
      "outputs": [],
      "source": [
        "# Check again data that cleaned up\n",
        "print(all_chances[0].get('籤名'), ': ', all_chances[0].get('詳解'))\n",
        "pprint(all_chances[22])"
      ]
    },
    {
      "cell_type": "code",
      "execution_count": null,
      "metadata": {
        "id": "Det8ZE0Qolwu"
      },
      "outputs": [],
      "source": [
        "current_lot_groups = list(set([v['吉凶'] for v in all_chances]))\n",
        "current_lot_names = list(set([v['籤名'] for v in all_chances]))\n",
        "current_lot_results = list(set([v['詩運'] for v in all_chances]))\n",
        "\n",
        "print(f'{len(current_lot_groups)=}', current_lot_groups)\n",
        "print(f'{len(current_lot_names)=}', current_lot_names)\n",
        "print(f'{len(current_lot_results)=}', current_lot_results)\n",
        "\n",
        "[f\"{v['籤名']}-{v['詩名']} - {v['詩運']} - {v['吉凶']}\" for v in all_chances]"
      ]
    },
    {
      "cell_type": "code",
      "execution_count": null,
      "metadata": {
        "id": "osOWhX68olwv"
      },
      "outputs": [],
      "source": [
        "all_chances[0]['詩名']"
      ]
    },
    {
      "cell_type": "markdown",
      "metadata": {
        "id": "vXAct6a56I5l"
      },
      "source": [
        "## Image data\n"
      ]
    },
    {
      "cell_type": "code",
      "execution_count": null,
      "metadata": {
        "colab": {
          "base_uri": "https://localhost:8080/"
        },
        "id": "F33K_zNzpfjx",
        "outputId": "467ea3d7-3277-44b3-ca17-86f1b1310451"
      },
      "outputs": [
        {
          "name": "stdout",
          "output_type": "stream",
          "text": [
            "Mounted at /content/drive\n",
            "time: 24.2 s (started: 2024-12-17 04:17:42 +00:00)\n"
          ]
        }
      ],
      "source": [
        "# In case you would like to connect to google drive to get zipped images\n",
        "from google.colab import drive\n",
        "\n",
        "drive.mount('/content/drive')\n",
        "\n",
        "!ln -s \"/content/drive/MyDrive/Colab Notebooks/\" /gdrive"
      ]
    },
    {
      "cell_type": "code",
      "execution_count": null,
      "metadata": {
        "colab": {
          "base_uri": "https://localhost:8080/"
        },
        "id": "0mbexN18pyF6",
        "outputId": "1114da48-7e01-43e3-d8c4-13f0679bd1b7"
      },
      "outputs": [
        {
          "name": "stdout",
          "output_type": "stream",
          "text": [
            "File '/content/drive/MyDrive/Colab Notebooks/data/images-觀音100籤詩.zip' unzipped to '/content'\n",
            "time: 5.22 s (started: 2024-12-17 04:18:21 +00:00)\n"
          ]
        }
      ],
      "source": [
        "import os\n",
        "import zipfile\n",
        "\n",
        "zip_path = '/content/drive/MyDrive/Colab Notebooks/data/images-觀音100籤詩.zip'\n",
        "dst_dir = '/content'\n",
        "# os.makedirs(dst_dir, exist_ok=True)\n",
        "\n",
        "# Open the zip file\n",
        "with zipfile.ZipFile(zip_path, 'r') as zip_ref:\n",
        "    for member in zip_ref.infolist():\n",
        "        file_path = os.path.join(dst_dir, member.filename)\n",
        "        if os.path.exists(file_path):\n",
        "            os.remove(file_path)  # Remove existing file\n",
        "\n",
        "        # Extract the file\n",
        "        zip_ref.extract(member, dst_dir)\n",
        "\n",
        "print(f\"File '{zip_path}' unzipped to '{dst_dir}'\")"
      ]
    },
    {
      "cell_type": "code",
      "execution_count": 3,
      "metadata": {
        "colab": {
          "base_uri": "https://localhost:8080/"
        },
        "id": "HjfnTLdfofwU",
        "outputId": "67fe2202-1475-4439-cd34-9b93572dfec6"
      },
      "outputs": [
        {
          "output_type": "stream",
          "name": "stdout",
          "text": [
            "Archive:  images-觀音100籤詩-resized.zip\n",
            "   creating: images/\n",
            "  inflating: images/fortune_87.jpg   \n",
            "  inflating: images/fortune_96.jpg   \n",
            "  inflating: images/fortune_11.jpg   \n",
            "  inflating: images/fortune_53.jpg   \n",
            "  inflating: images/fortune_51.jpg   \n",
            "  inflating: images/fortune_73.jpg   \n",
            "  inflating: images/fortune_6.jpg    \n",
            "  inflating: images/fortune_33.jpg   \n",
            "  inflating: images/fortune_90.jpg   \n",
            "  inflating: images/fortune_43.jpg   \n",
            "  inflating: images/fortune_30.jpg   \n",
            "  inflating: images/fortune_60.jpg   \n",
            "  inflating: images/fortune_45.jpg   \n",
            "  inflating: images/fortune_52.jpg   \n",
            "  inflating: images/fortune_8.jpg    \n",
            "  inflating: images/fortune_10.jpg   \n",
            "  inflating: images/fortune_15.jpg   \n",
            "  inflating: images/fortune_46.jpg   \n",
            "  inflating: images/fortune_34.jpg   \n",
            "  inflating: images/fortune_62.jpg   \n",
            "  inflating: images/fortune_25.jpg   \n",
            "  inflating: images/fortune_31.jpg   \n",
            "  inflating: images/fortune_100.jpg  \n",
            "  inflating: images/fortune_95.jpg   \n",
            "  inflating: images/fortune_27.jpg   \n",
            "  inflating: images/fortune_98.jpg   \n",
            "  inflating: images/fortune_50.jpg   \n",
            "  inflating: images/fortune_16.jpg   \n",
            "  inflating: images/fortune_61.jpg   \n",
            "  inflating: images/fortune_35.jpg   \n",
            "  inflating: images/fortune_88.jpg   \n",
            "  inflating: images/fortune_7.jpg    \n",
            "  inflating: images/fortune_97.jpg   \n",
            "  inflating: images/fortune_58.jpg   \n",
            "  inflating: images/fortune_49.jpg   \n",
            "  inflating: images/fortune_63.jpg   \n",
            "  inflating: images/fortune_65.jpg   \n",
            "  inflating: images/fortune_40.jpg   \n",
            "  inflating: images/fortune_99.jpg   \n",
            "  inflating: images/fortune_83.jpg   \n",
            "  inflating: images/fortune_13.jpg   \n",
            "  inflating: images/fortune_14.jpg   \n",
            "  inflating: images/fortune_32.jpg   \n",
            "  inflating: images/fortune_47.jpg   \n",
            "  inflating: images/fortune_29.jpg   \n",
            "  inflating: images/fortune_19.jpg   \n",
            "  inflating: images/fortune_80.jpg   \n",
            "  inflating: images/fortune_66.jpg   \n",
            "  inflating: images/fortune_77.jpg   \n",
            "  inflating: images/fortune_20.jpg   \n",
            "  inflating: images/fortune_48.jpg   \n",
            "  inflating: images/fortune_79.jpg   \n",
            "  inflating: images/fortune_26.jpg   \n",
            "  inflating: images/fortune_74.jpg   \n",
            "  inflating: images/fortune_93.jpg   \n",
            "  inflating: images/fortune_59.jpg   \n",
            "  inflating: images/fortune_78.jpg   \n",
            "  inflating: images/fortune_3.jpg    \n",
            "  inflating: images/fortune_36.jpg   \n",
            "  inflating: images/fortune_84.jpg   \n",
            "  inflating: images/fortune_4.jpg    \n",
            "  inflating: images/fortune_85.jpg   \n",
            "  inflating: images/fortune_9.jpg    \n",
            "  inflating: images/fortune_44.jpg   \n",
            "  inflating: images/fortune_67.jpg   \n",
            "  inflating: images/fortune_81.jpg   \n",
            "  inflating: images/fortune_57.jpg   \n",
            "  inflating: images/fortune_68.jpg   \n",
            "  inflating: images/fortune_21.jpg   \n",
            "  inflating: images/fortune_5.jpg    \n",
            "  inflating: images/fortune_42.jpg   \n",
            "  inflating: images/fortune_56.jpg   \n",
            "  inflating: images/fortune_54.jpg   \n",
            "  inflating: images/fortune_70.jpg   \n",
            "  inflating: images/fortune_86.jpg   \n",
            "  inflating: images/fortune_18.jpg   \n",
            "  inflating: images/fortune_22.jpg   \n",
            "  inflating: images/fortune_37.jpg   \n",
            "  inflating: images/fortune_39.jpg   \n",
            "  inflating: images/fortune_2.jpg    \n",
            "  inflating: images/fortune_23.jpg   \n",
            "  inflating: images/fortune_72.jpg   \n",
            "  inflating: images/fortune_64.jpg   \n",
            "  inflating: images/fortune_75.jpg   \n",
            "  inflating: images/fortune_91.jpg   \n",
            "  inflating: images/fortune_82.jpg   \n",
            "  inflating: images/fortune_94.jpg   \n",
            "  inflating: images/fortune_1.jpg    \n",
            "  inflating: images/fortune_28.jpg   \n",
            "  inflating: images/fortune_71.jpg   \n",
            "  inflating: images/fortune_89.jpg   \n",
            "  inflating: images/fortune_41.jpg   \n",
            "  inflating: images/fortune_69.jpg   \n",
            "  inflating: images/fortune_55.jpg   \n",
            "  inflating: images/fortune_92.jpg   \n",
            "  inflating: images/fortune_12.jpg   \n",
            "  inflating: images/fortune_76.jpg   \n",
            "  inflating: images/fortune_17.jpg   \n",
            "  inflating: images/fortune_38.jpg   \n",
            "  inflating: images/fortune_24.jpg   \n",
            "  inflating: images/fortune_default.png  \n",
            "time: 208 ms (started: 2024-12-22 09:22:17 +00:00)\n"
          ]
        }
      ],
      "source": [
        "# !unzip -o 'images-觀音100籤詩-resized.zip'"
      ]
    },
    {
      "cell_type": "markdown",
      "metadata": {
        "id": "3Rkt6a_oolwv"
      },
      "source": [
        "### Check default image\n",
        "path: images/fortune_default.png"
      ]
    },
    {
      "cell_type": "code",
      "execution_count": 4,
      "metadata": {
        "colab": {
          "base_uri": "https://localhost:8080/",
          "height": 409
        },
        "id": "KsgIS-RDolwv",
        "outputId": "ca5c10da-a479-4a4e-9cdd-35772c14aa2b"
      },
      "outputs": [
        {
          "output_type": "execute_result",
          "data": {
            "image/png": "[encoded data removed]",
            "text/plain": [
              "<IPython.core.display.Image object>"
            ]
          },
          "metadata": {},
          "execution_count": 4
        },
        {
          "output_type": "stream",
          "name": "stdout",
          "text": [
            "time: 7.53 ms (started: 2024-12-22 09:22:29 +00:00)\n"
          ]
        }
      ],
      "source": [
        "from IPython.display import Image\n",
        "\n",
        "Image(filename='images/fortune_default.png')"
      ]
    },
    {
      "cell_type": "markdown",
      "metadata": {
        "id": "FX0unNQ_oprY"
      },
      "source": [
        "## Panda dataframe\n",
        "\n",
        "Convert to panda dataframe, for downstream processing\n"
      ]
    },
    {
      "cell_type": "code",
      "execution_count": null,
      "metadata": {
        "colab": {
          "base_uri": "https://localhost:8080/"
        },
        "id": "7NvdwqHcWxv2",
        "outputId": "4eaeb996-24f2-4120-900f-2c4821bd6433"
      },
      "outputs": [
        {
          "name": "stdout",
          "output_type": "stream",
          "text": [
            "(100, 19)\n",
            "['天開地闢結良緣', '日吉時良萬事全', '若得此籤非小可', '人行中正帝王宣']\n",
            "['第九十九首', '第一百首']\n",
            "<class 'pandas.core.frame.DataFrame'>\n",
            "RangeIndex: 100 entries, 0 to 99\n",
            "Data columns (total 19 columns):\n",
            " #   Column     Non-Null Count  Dtype \n",
            "---  ------     --------------  ----- \n",
            " 0   id         100 non-null    int64 \n",
            " 1   籤名         100 non-null    object\n",
            " 2   詩名         100 non-null    object\n",
            " 3   詩運         100 non-null    object\n",
            " 4   籤詩         100 non-null    object\n",
            " 5   吉凶         100 non-null    object\n",
            " 6   宮位         100 non-null    object\n",
            " 7   詩意         100 non-null    object\n",
            " 8   解曰         100 non-null    object\n",
            " 9   聖意         100 non-null    object\n",
            " 10  淺釋         100 non-null    object\n",
            " 11  靈籤         100 non-null    object\n",
            " 12  詳解         100 non-null    object\n",
            " 13  img_url    100 non-null    object\n",
            " 14  img_fname  100 non-null    object\n",
            " 15  url1       100 non-null    object\n",
            " 16  url3       100 non-null    object\n",
            " 17  url4       100 non-null    object\n",
            " 18  url2       100 non-null    object\n",
            "dtypes: int64(1), object(18)\n",
            "memory usage: 15.0+ KB\n",
            "time: 93.8 ms (started: 2024-12-17 04:21:22 +00:00)\n"
          ]
        }
      ],
      "source": [
        "all_chances_file = 'all_chances.json'\n",
        "df_raw = pd.read_json(all_chances_file)\n",
        "df_merged = df_raw\n",
        "df_merged.fillna('', inplace=True)\n",
        "\n",
        "print(df_merged.shape)\n",
        "print(df_merged.loc[0, '籤詩'])\n",
        "print(df_merged['籤名'].tolist()[-2:])\n",
        "df_merged.info()"
      ]
    },
    {
      "cell_type": "code",
      "execution_count": null,
      "metadata": {
        "colab": {
          "base_uri": "https://localhost:8080/",
          "height": 1000
        },
        "id": "ZL-DvrYvlNxk",
        "outputId": "86ebe6ad-fe3e-4b8d-ea07-45861b20e0f0"
      },
      "outputs": [
        {
          "data": {
            "application/vnd.google.colaboratory.intrinsic+json": {
              "summary": "{\n  \"name\": \"df_merged\",\n  \"rows\": 100,\n  \"fields\": [\n    {\n      \"column\": \"id\",\n      \"properties\": {\n        \"dtype\": \"number\",\n        \"std\": 29,\n        \"min\": 0,\n        \"max\": 99,\n        \"num_unique_values\": 100,\n        \"samples\": [\n          83,\n          53,\n          70\n        ],\n        \"semantic_type\": \"\",\n        \"description\": \"\"\n      }\n    },\n    {\n      \"column\": \"\\u7c64\\u540d\",\n      \"properties\": {\n        \"dtype\": \"string\",\n        \"num_unique_values\": 100,\n        \"samples\": [\n          \"\\u7b2c\\u516b\\u5341\\u56db\\u9996\",\n          \"\\u7b2c\\u4e94\\u5341\\u56db\\u9996\",\n          \"\\u7b2c\\u4e03\\u5341\\u4e00\\u9996\"\n        ],\n        \"semantic_type\": \"\",\n        \"description\": \"\"\n      }\n    },\n    {\n      \"column\": \"\\u8a69\\u540d\",\n      \"properties\": {\n        \"dtype\": \"string\",\n        \"num_unique_values\": 100,\n        \"samples\": [\n          \"\\u674e\\u5ee3\\u705e\\u9675\\u591c\\u7375\",\n          \"\\u5442\\u4ed9\\u6795\\u9ec3\\u6881\\u672a\\u719f\",\n          \"\\u8c82\\u87ec\\u5f9e\\u738b\\u53f8\\u5f92\\u8a08\"\n        ],\n        \"semantic_type\": \"\",\n        \"description\": \"\"\n      }\n    },\n    {\n      \"column\": \"\\u8a69\\u904b\",\n      \"properties\": {\n        \"dtype\": \"category\",\n        \"num_unique_values\": 15,\n        \"samples\": [\n          \"\\u4e0a\\u4e2d\",\n          \"\\u5e73\\u5e73\",\n          \"\\u4e0a\\u4e0a\"\n        ],\n        \"semantic_type\": \"\",\n        \"description\": \"\"\n      }\n    },\n    {\n      \"column\": \"\\u7c64\\u8a69\",\n      \"properties\": {\n        \"dtype\": \"object\",\n        \"semantic_type\": \"\",\n        \"description\": \"\"\n      }\n    },\n    {\n      \"column\": \"\\u5409\\u51f6\",\n      \"properties\": {\n        \"dtype\": \"category\",\n        \"num_unique_values\": 3,\n        \"samples\": [\n          \"\\u4e0a\\u7c64\",\n          \"\\u4e0b\\u7c64\",\n          \"\\u4e2d\\u7c64\"\n        ],\n        \"semantic_type\": \"\",\n        \"description\": \"\"\n      }\n    },\n    {\n      \"column\": \"\\u5bae\\u4f4d\",\n      \"properties\": {\n        \"dtype\": \"category\",\n        \"num_unique_values\": 12,\n        \"samples\": [\n          \"\\u620c\\u5bae\",\n          \"\\u9149\\u5bae\",\n          \"\\u5b50\\u5bae\"\n        ],\n        \"semantic_type\": \"\",\n        \"description\": \"\"\n      }\n    },\n    {\n      \"column\": \"\\u8a69\\u610f\",\n      \"properties\": {\n        \"dtype\": \"string\",\n        \"num_unique_values\": 100,\n        \"samples\": [\n          \"\\u6b64\\u5366\\u5bd2\\u9b5a\\u96e2\\u6c34\\u4e4b\\u8c61\\u3002\\u51e1\\u4e8b\\u4e0d\\u53ef\\u79fb\\u52d5\\u4e5f\\u3002\\n\\uff08\\u6b64\\u5366\\u6557\\u5fb7\\u62db\\u51f6\\u4e4b\\u8c61\\u3002\\u51e1\\u4e8b\\u8173\\u8e0f\\u5be6\\u5730\\u4e5f\\u3002\\uff09\",\n          \"\\u6b64\\u5366\\u5922\\u4e2d\\u5f97\\u5bf6\\u4e4b\\u8c61\\u3002\\u51e1\\u4e8b\\u6789\\u8cbb\\u5fc3\\u529b\\u4e5f\\u3002\",\n          \"\\u6b64\\u5366\\u4e00\\u5f13\\u67b6\\u5169\\u7bad\\u4e4b\\u8c61\\u3002\\u51e1\\u4e8b\\u518d\\u5408\\u5247\\u5409\\u4e5f\\u3002\"\n        ],\n        \"semantic_type\": \"\",\n        \"description\": \"\"\n      }\n    },\n    {\n      \"column\": \"\\u89e3\\u66f0\",\n      \"properties\": {\n        \"dtype\": \"string\",\n        \"num_unique_values\": 100,\n        \"samples\": [\n          \"\\u5bd2\\u9b5a\\u96e2\\u6c34\\uff0c\\u7f8e\\u4e2d\\u4e0d\\u8db3\\uff0c\\u82e5\\u554f\\u71df\\u8b00\\uff0c\\u5982\\u4f55\\u7d50\\u5c40\\u3002\\u6b64\\u7c3d\\u56e0\\u540d\\u55aa\\u5fb7\\u4e4b\\u8c61\\uff0c\\u51e1\\u4e8b\\u52de\\u8cbb\\u5fc3\\u529b\\u3002\",\n          \"\\u5982\\u6c34\\u4e2d\\u6708\\uff0c\\u5f62\\u77ed\\u5f62\\u9577\\uff0c\\u7686\\u7531\\u5206\\u5b9a\\uff0c\\u4f55\\u5fc5\\u5546\\u91cf\\u3002\\u6b64\\u7c3d\\u5922\\u4e2d\\u5f97\\u5bf6\\u4e4b\\u8c61\\uff0c\\u51e1\\u4e8b\\u591a\\u865b\\u5c11\\u5be6\\u3002\",\n          \"\\u4e0d\\u5be9\\u4e0d\\u5be9\\uff0c\\u4e8b\\u7531\\u5929\\u547d\\uff0c\\u8fb0\\u5348\\u4e2d\\u9593\\uff0c\\u5207\\u9808\\u8b39\\u614e\\u3002\\u6b64\\u7c3d\\u4e00\\u5f13\\u5169\\u7bad\\u4e4b\\u8c61\\uff0c\\u51e1\\u4e8b\\u6539\\u8b8a\\u5927\\u5409\\u3002\"\n        ],\n        \"semantic_type\": \"\",\n        \"description\": \"\"\n      }\n    },\n    {\n      \"column\": \"\\u8056\\u610f\",\n      \"properties\": {\n        \"dtype\": \"object\",\n        \"semantic_type\": \"\",\n        \"description\": \"\"\n      }\n    },\n    {\n      \"column\": \"\\u6dfa\\u91cb\",\n      \"properties\": {\n        \"dtype\": \"string\",\n        \"num_unique_values\": 100,\n        \"samples\": [\n          \"\\u56e0\\u70ba\\u865b\\u540d\\u800c\\u5931\\u53bb\\u9053\\u5fb7\\u4fee\\u990a\\uff0c\\u54ea\\u88e1\\u80fd\\u5920\\u5f97\\u5230\\u8a8d\\u540c?\\u5fd9\\u4e2d\\u6709\\u932f\\u66f4\\u6050\\u62db\\u4f86\\u798d\\u60a3;\\u5982\\u4eba\\u9152\\u5f8c\\u832b\\u832b\\uff0c\\u6771\\u5357\\u897f\\u5317\\u4e0d\\u77e5\\u4f55\\u8655\\u53bb\\uff0c\\u537b\\u662f\\u5728\\u9752\\u677e\\u6a39\\u4e0b\\u7761\\u8457\\u4e86!\",\n          \"\\u5728\\u5922\\u4e2d\\u7372\\u53d6\\u4e86\\u73cd\\u8cb4\\u7684\\u5bf6\\u8c9d\\uff0c\\u9192\\u4f86\\u6642\\u537b\\u7a7a\\u7121\\u4e00\\u7269\\uff0c\\u61c9\\u77e5\\u7336\\u5982\\u5deb\\u5c71\\u96f2\\u96e8\\u822c\\u4e0d\\u904e\\u662f\\u5834\\u865b\\u5e7b;\\u60f3\\u8981\\u77e5\\u9053\\u5a5a\\u59fb\\u8207\\u75be\\u75c5\\u8a34\\u8a1f\\u7684\\u5409\\u51f6?\\u9084\\u4e0d\\u5982\\u63db\\u500b\\u60f3\\u6cd5\\u8207\\u9014\\u5f91\\u8f03\\u52d9\\u5be6\\u5427\\u3002\",\n          \"\\u8ab0\\u80fd\\u77e5\\u9053\\u611b\\u59be\\u6703\\u78b0\\u4e0a\\u5f37\\u6b0a\\uff0c\\u8b93\\u5c0f\\u5973\\u5b50\\u5728\\u90a3\\u6642\\u5ac1\\u4e86\\u5169\\u500b\\u4e08\\u592b;\\u9019\\u4e43\\u662f\\u7336\\u5982\\u4e00\\u652f\\u5f13\\u642d\\u4e0a\\u4e86\\u5169\\u652f\\u7bad\\uff0c\\u53c8\\u597d\\u6bd4\\u99d5\\u9f8d\\u99ad\\u864e\\uff0c\\u5de6\\u53f3\\u9022\\u6e90\\u3002\"\n        ],\n        \"semantic_type\": \"\",\n        \"description\": \"\"\n      }\n    },\n    {\n      \"column\": \"\\u9748\\u7c64\",\n      \"properties\": {\n        \"dtype\": \"string\",\n        \"num_unique_values\": 98,\n        \"samples\": [\n          \"\\u672c\\u7c64\\u8005\\u3002\\u5272\\u8089\\u6210\\u7621\\u4e4b\\u8c61\\u8005\\u3002\\u51e1\\u4e8b\\u5fc5\\u9808\\u5b88\\u820a\\u5f85\\u6642\\u3002\\u4e0d\\u5b9c\\u8f15\\u8209\\u5984\\u52d5\\u4e5f\\u3002\\u56e0\\u6642\\u547d\\u4e4b\\u6ce8\\u5b9a\\u541b\\u723e\\u4e4b\\u547d\\u773c\\u6b61\\u559c\\u672a\\u70ba\\u6b61\\u3002\\u5371\\u4e0d\\u5371\\u516e\\u5b89\\u4e0d\\u5b89\\u3002\\u65e5\\u4e0b\\u904b\\u591a\\u62c2\\u9006\\u3002\\u6beb\\u7121\\u5229\\u606f\\u53ef\\u8a00\\u3002\\u5982\\u767e\\u82b1\\u51cb\\u843d\\u3002\\u7121\\u5fa9\\u69ae\\u83ef\\u4e4b\\u671b\\u3002\\u5e7e\\u5e0c\\u842c\\u4e8b\\u7686\\u7a7a\\u4e4b\\u52e2\\u3002\\u6613\\u8a00\\u4e4b\\u3002\\u5982\\u5f97\\u6b62\\u3002\\u4e14\\u6b62\\u77e5\\u6b61\\u5272\\u81ea\\u5df1\\u8089\\u75db\\u672c\\u4e00\\u822c\\u3002\",\n          \"\\u672c\\u7c64\\u793a\\u65bc\\u5f1f\\u5b50\\u66f0\\u3002\\u8a8d\\u8cca\\u70ba\\u5b50\\u4e4b\\u8c61\\u3002\\u4e0d\\u5b9c\\u82df\\u4e14\\u8005\\u3002\\u795e\\u6212\\u4e4b\\u66f0\\u3002\\u83ab\\u8caa\\u773c\\u4e0b\\u6709\\u4e9b\\u751c\\u982d\\u3002\\u8da8\\u4e4b\\u3002\\u5f8c\\u679c\\u582a\\u865e\\u3002\\u5230\\u982d\\u4f86\\u9084\\u662f\\u53d7\\u82e6\\u8005\\u3002\\u529f\\u540d\\u3002\",\n          \"\\u672c\\u7c64\\u8005\\u3002\\u865b\\u540d\\u8584\\u5229\\u4e4b\\u8c61\\u3002\\u51e1\\u767e\\u4e8b\\u4e0d\\u5f97\\u8caa\\u6c42\\u8005\\u4e5f\\u3002\\u8a69\\u66f0\\uff1a\\u604d\\u82e5\\u92ea\\u6210\\u6eff\\u5730\\u74ca\\u3002\\u8c48\\u77e5\\u6536\\u62fe\\u7e3d\\u7121\\u6210\\u3002\\u5982\\u541b\\u4e4b\\u884c\\u52d5\\u4e0d\\u7dca\\u901f\\u3002\\u5c07\\u9b27\\u5f97\\u7121\\u6cd5\\u6536\\u62fe\\u3002\\u8b20\\u8a00\\u56db\\u64ad\\u3002\\u5230\\u982d\\u4f86\\u5c07\\u9677\\u5165\\u7f85\\u7db2\\u4e2d\\u81ea\\u62d4\\u4e0d\\u5f97\\u3002\\u5982\\u6b64\\u82e6\\u5883\\u53ea\\u6709\\u5e7e\\u4eba\\u77e5\\u3002\\u6613\\u8a00\\u4e4b\\u3002\\u541b\\u76ee\\u4e0b\\u4e4b\\u904b\\u4e5f\\u3002\\u8a72\\u77e5\\u5bcc\\u8cb4\\u5728\\u5929\\u3002\\u8ca7\\u7aae\\u7531\\u547d\\u4e0d\\u7528\\u6a5f\\u8b00\\u3002\\u7686\\u6709\\u5206\\u5b9a\\u8005\\u8036\\u3002\"\n        ],\n        \"semantic_type\": \"\",\n        \"description\": \"\"\n      }\n    },\n    {\n      \"column\": \"\\u8a73\\u89e3\",\n      \"properties\": {\n        \"dtype\": \"string\",\n        \"num_unique_values\": 100,\n        \"samples\": [\n          \"\\u6b64\\u7c64\\u6709\\\"\\u5fd9\\u4e2d\\u6709\\u932f\\\"\\u4e4b\\u610f\\u3002\\u5949\\u52f8\\u7576\\u4e8b\\u4eba\\uff0c\\u51e1\\u4e8b\\u8b39\\u8a00\\u614e\\u884c\\u3002\\u4eba\\u5728\\u5fd9\\u788c\\u6216\\u7121\\u610f\\u8b58\\u7684\\u72c0\\u614b\\u4e0b\\uff0c\\u5f88\\u5bb9\\u6613\\u8aaa\\u932f\\u8a71\\u505a\\u932f\\u4e8b\\u3002\\u4e5f\\u8a31\\u672c\\u8eab\\u4e26\\u7121\\u60e1\\u610f\\uff0c\\u4f46\\u6240\\u8b02\\\"\\u8986\\u6c34\\u96e3\\u6536\\\"\\uff0c\\u5f88\\u53ef\\u80fd\\u56e0\\u6b64\\u800c\\u50b7\\u5bb3\\u5230\\u5c0d\\u65b9\\u3002\\u6240\\u4ee5\\u61c9\\u6642\\u523b\\u8b39\\u614e\\u5c0f\\u5fc3\\uff0c\\u6ce8\\u610f\\u81ea\\u5df1\\u7684\\u8a00\\u884c\\u8209\\u6b62\\u3002\\u5982\\u679c\\u662f\\u898f\\u52f8\\u5c0d\\u65b9\\uff0c\\u4e5f\\u4e0d\\u5b9c\\u56e0\\u70ba\\u592a\\u904e\\u6c42\\u597d\\u5fc3\\u5207\\u800c\\u53e3\\u51fa\\u60e1\\u8a00\\u3002\\u5426\\u5247\\u539f\\u672c\\u7684\\u4e00\\u756a\\u597d\\u610f\\u537b\\u96a8\\u8457\\u60c5\\u7dd2\\u5f71\\u97ff\\u800c\\u8b8a\\u8cea\\uff0c\\u8c48\\u4e0d\\u751a\\u662f\\u907a\\u61be\\u3002\\u76f8\\u53cd\\u5730\\uff0c\\u5c0d\\u65bc\\u4ed6\\u4eba\\u7684\\u8b4f\\u8af7\\u6279\\u8a55\\uff0c\\u4e5f\\u4e0d\\u8981\\u56e0\\u6b64\\u61f7\\u6068\\u5728\\u5fc3\\u3001\\u751a\\u81f3\\u60f3\\u627e\\u6a5f\\u6703\\u5831\\u5fa9\\u7f9e\\u8fb1\\u56de\\u53bb\\u3002\\u9808\\u77e5\\\"\\u5df1\\u6240\\u4e0d\\u6b32\\uff0c\\u52ff\\u65bd\\u65bc\\u4eba\\\"\\uff0c\\u51e1\\u4e8b\\u5305\\u5bb9\\u5bec\\u539a\\uff0c\\u53ef\\u8b93\\u4e8b\\u60c5\\u66f4\\u5169\\u5168\\u5176\\u7f8e\\u3002\",\n          \"\\u6b64\\u7c64\\u6709\\\"\\u5357\\u67ef\\u4e00\\u5922\\\"\\u4e4b\\u610f\\u3002\\u5949\\u52f8\\u7576\\u4e8b\\u4eba\\uff0c\\u52ff\\u75f4\\u5fc3\\u5984\\u60f3\\u3002\\u4eba\\u5e38\\u611f\\u5606\\u81ea\\u5df1\\u6642\\u904b\\u4e0d\\u6fdf\\uff0c\\u53c8\\u5180\\u6c42\\u529f\\u540d\\u5bcc\\u8cb4\\uff0c\\u5e0c\\u671b\\u4e00\\u5207\\u61c9\\u6709\\u76e1\\u6709\\uff0c\\u597d\\u6eff\\u8db3\\u81ea\\u8eab\\u7684\\u617e\\u671b\\u3002\\u56e0\\u6b64\\u5e38\\u5e38\\u5e7b\\u60f3\\uff0c\\u65e5\\u65e5\\u505a\\u8457\\u767c\\u8ca1\\u5922\\u3001\\u5347\\u9077\\u5922\\uff0c\\u6e34\\u671b\\u6709\\u671d\\u4e00\\u65e5\\u771f\\u80fd\\u5be6\\u73fe\\u3002\\u758f\\u4e0d\\u77e5\\u4eba\\u751f\\u5982\\u5922\\u3001\\u5f97\\u5931\\u7121\\u5e38\\uff0c\\u5bcc\\u8cb4\\u69ae\\u83ef\\u4e5f\\u53ea\\u662f\\u4e00\\u6642\\u7684\\u865b\\u5e7b\\uff0c\\u8f49\\u773c\\u4fbf\\u6210\\u904e\\u773c\\u96f2\\u7159\\u3002\\u5949\\u52f8\\u7576\\u4e8b\\u4eba\\uff0c\\u8207\\u5176\\u7a7a\\u7121\\u7684\\u75f4\\u5fc3\\u5e7b\\u60f3\\uff0c\\u9084\\u4e0d\\u5982\\u8173\\u8e0f\\u5be6\\u5730\\u3001\\u8aa0\\u61c7\\u52d9\\u5be6\\u7684\\u505a\\u597d\\u81ea\\u5df1\\u7684\\u672c\\u4efd\\u3002\\u597d\\u904b\\u4e0d\\u6703\\u6191\\u7a7a\\u800c\\u4f86\\uff0c\\u51e1\\u4e8b\\u6709\\u4ed8\\u51fa\\u624d\\u6709\\u6536\\u7a6b\\uff0c\\u77e5\\u8db3\\u5373\\u662f\\u798f\\u3002\",\n          \"\\u6b64\\u7c64\\u6709\\\"\\u773e\\u5fd7\\u6210\\u57ce\\\"\\u4e4b\\u610f\\u3002\\u63d0\\u9192\\u7576\\u4e8b\\u4eba\\uff0c\\u5718\\u7d50\\u529b\\u91cf\\u5927\\u3002\\u4eba\\u5f80\\u5f80\\u70ba\\u4e86\\u7406\\u60f3\\u52aa\\u529b\\u53bb\\u5be6\\u73fe\\uff0c\\u4f46\\u540c\\u6642\\u4e5f\\u8981\\u517c\\u9867\\u73fe\\u5be6\\u9762\\u3001\\u800c\\u4e0d\\u5f97\\u4e0d\\u881f\\u71ed\\u5169\\u982d\\u71d2\\uff0c\\u65e2\\u7121\\u4eba\\u80fd\\u4e86\\u89e3\\uff0c\\u9084\\u53ef\\u80fd\\u88ab\\u8aa4\\u89e3\\u3002\\u5728\\u6b64\\u60c5\\u5883\\u4e4b\\u4e0b\\uff0c\\u5fc3\\u88e1\\u6703\\u89ba\\u5f97\\u975e\\u5e38\\u75b2\\u618a\\u3002\\u9808\\u77e5\\u6709\\u9060\\u5927\\u7684\\u7406\\u60f3\\u8207\\u76ee\\u6a19\\u4e26\\u9858\\u610f\\u53bb\\u5be6\\u884c\\u662f\\u5f88\\u4e86\\u4e0d\\u8d77\\u7684\\u4e00\\u4ef6\\u4e8b\\u3002\\u65e2\\u7136\\u60f3\\u53bb\\u505a\\u4e86\\uff0c\\u62b1\\u5b9a\\u7684\\u9019\\u80a1\\u5805\\u6301\\u8207\\u885d\\u52c1\\uff0c\\u7576\\u7136\\u8981\\u6301\\u7e8c\\u4e0b\\u53bb\\u3002\\u4f46\\u6240\\u8b02\\\"\\u4e09\\u500b\\u81ed\\u76ae\\u5320\\uff0c\\u52dd\\u904e\\u4e00\\u500b\\u8af8\\u845b\\u4eae\\\"\\u3002\\u6709\\u6642\\u8207\\u5176\\u81ea\\u5df1\\u55ae\\u6253\\u7368\\u9b25\\uff0c\\u9084\\u4e0d\\u5982\\u96c6\\u601d\\u5ee3\\u76ca\\u3001\\u532f\\u805a\\u773e\\u4eba\\u7684\\u529b\\u91cf\\uff0c\\u4f86\\u5171\\u540c\\u5b8c\\u6210\\u4e00\\u4ef6\\u4e8b\\u3002\\u9019\\u500b\\u4eba\\u5982\\u679c\\u505a\\u4e0d\\u5230\\u7684\\u5730\\u65b9\\uff0c\\u90a3\\u500b\\u4eba\\u4e5f\\u80fd\\u7acb\\u5373\\u904e\\u4f86\\u88dc\\u8db3\\u3002\\u5927\\u5bb6\\u6709\\u5fd7\\u4e00\\u540c\\u3001\\u9f4a\\u5fc3\\u5354\\u529b\\uff0c\\u76f8\\u4fe1\\u5fc5\\u80fd\\u8b93\\u4e8b\\u60c5\\u63a8\\u52d5\\u5f97\\u66f4\\u52a0\\u9806\\u5229\\u3002\"\n        ],\n        \"semantic_type\": \"\",\n        \"description\": \"\"\n      }\n    },\n    {\n      \"column\": \"img_url\",\n      \"properties\": {\n        \"dtype\": \"string\",\n        \"num_unique_values\": 100,\n        \"samples\": [\n          \"https://www.lungshan.org.tw/fortune_sticks/images/084.jpg\",\n          \"https://www.lungshan.org.tw/fortune_sticks/images/054.jpg\",\n          \"https://www.lungshan.org.tw/fortune_sticks/images/071.jpg\"\n        ],\n        \"semantic_type\": \"\",\n        \"description\": \"\"\n      }\n    },\n    {\n      \"column\": \"img_fname\",\n      \"properties\": {\n        \"dtype\": \"string\",\n        \"num_unique_values\": 100,\n        \"samples\": [\n          \"images/fortune_84.jpg\",\n          \"images/fortune_54.jpg\",\n          \"images/fortune_71.jpg\"\n        ],\n        \"semantic_type\": \"\",\n        \"description\": \"\"\n      }\n    },\n    {\n      \"column\": \"url1\",\n      \"properties\": {\n        \"dtype\": \"string\",\n        \"num_unique_values\": 100,\n        \"samples\": [\n          \"https://www.lungshan.org.tw/fortune_sticks/page.php?FS_ID=84\",\n          \"https://www.lungshan.org.tw/fortune_sticks/page.php?FS_ID=54\",\n          \"https://www.lungshan.org.tw/fortune_sticks/page.php?FS_ID=71\"\n        ],\n        \"semantic_type\": \"\",\n        \"description\": \"\"\n      }\n    },\n    {\n      \"column\": \"url3\",\n      \"properties\": {\n        \"dtype\": \"string\",\n        \"num_unique_values\": 100,\n        \"samples\": [\n          \"https://www.golla.tw/chouqian/zhougong/84.html\",\n          \"https://www.golla.tw/chouqian/zhougong/54.html\",\n          \"https://www.golla.tw/chouqian/zhougong/71.html\"\n        ],\n        \"semantic_type\": \"\",\n        \"description\": \"\"\n      }\n    },\n    {\n      \"column\": \"url4\",\n      \"properties\": {\n        \"dtype\": \"string\",\n        \"num_unique_values\": 100,\n        \"samples\": [\n          \"https://www.sheup.org/winfo/7/811.html\",\n          \"https://www.sheup.org/winfo/7/841.html\",\n          \"https://www.sheup.org/winfo/7/824.html\"\n        ],\n        \"semantic_type\": \"\",\n        \"description\": \"\"\n      }\n    },\n    {\n      \"column\": \"url2\",\n      \"properties\": {\n        \"dtype\": \"string\",\n        \"num_unique_values\": 100,\n        \"samples\": [\n          \"https://www.0961223888.com/kannon/Kannon84.htm\",\n          \"https://www.0961223888.com/kannon/Kannon54.htm\",\n          \"https://www.0961223888.com/kannon/Kannon71.htm\"\n        ],\n        \"semantic_type\": \"\",\n        \"description\": \"\"\n      }\n    }\n  ]\n}",
              "type": "dataframe",
              "variable_name": "df_merged"
            },
            "text/html": [
              "\n",
              "  <div id=\"df-ddace505-d33a-4942-b1e7-8148ade4d23f\" class=\"colab-df-container\">\n",
              "    <div>\n",
              "<style scoped>\n",
              "    .dataframe tbody tr th:only-of-type {\n",
              "        vertical-align: middle;\n",
              "    }\n",
              "\n",
              "    .dataframe tbody tr th {\n",
              "        vertical-align: top;\n",
              "    }\n",
              "\n",
              "    .dataframe thead th {\n",
              "        text-align: right;\n",
              "    }\n",
              "</style>\n",
              "<table border=\"1\" class=\"dataframe\">\n",
              "  <thead>\n",
              "    <tr style=\"text-align: right;\">\n",
              "      <th></th>\n",
              "      <th>id</th>\n",
              "      <th>籤名</th>\n",
              "      <th>詩名</th>\n",
              "      <th>詩運</th>\n",
              "      <th>籤詩</th>\n",
              "      <th>吉凶</th>\n",
              "      <th>宮位</th>\n",
              "      <th>詩意</th>\n",
              "      <th>解曰</th>\n",
              "      <th>聖意</th>\n",
              "      <th>淺釋</th>\n",
              "      <th>靈籤</th>\n",
              "      <th>詳解</th>\n",
              "      <th>img_url</th>\n",
              "      <th>img_fname</th>\n",
              "      <th>url1</th>\n",
              "      <th>url3</th>\n",
              "      <th>url4</th>\n",
              "      <th>url2</th>\n",
              "    </tr>\n",
              "  </thead>\n",
              "  <tbody>\n",
              "    <tr>\n",
              "      <th>0</th>\n",
              "      <td>0</td>\n",
              "      <td>第一首</td>\n",
              "      <td>宋太祖黃袍加身</td>\n",
              "      <td>上上</td>\n",
              "      <td>[天開地闢結良緣, 日吉時良萬事全, 若得此籤非小可, 人行中正帝王宣]</td>\n",
              "      <td>上籤</td>\n",
              "      <td>子宮</td>\n",
              "      <td>此卦盤古初開天地之象。諸事皆吉也。</td>\n",
              "      <td>急速非速，言來時值，觀音降事，報與君知。此簽天開地辟之象，凡事大吉利也。</td>\n",
              "      <td>{'家宅': '祈福', '自身': '秋冬大利', '求財': '秋冬大利', '交易':...</td>\n",
              "      <td>天地開創之時，凡事充滿了新氣象，正是良辰吉時，萬事都已準備周全;能求得此簽之人，非同小可，帝...</td>\n",
              "      <td>天開地辟。結良緣是天地開創之象。為大吉大利之象也。日吉時良。萬事俱全順遂之命。能蒙神指示為此...</td>\n",
              "      <td>此籤有\"謀事在人\"之意。提醒當事人，未雨綢繆。會成功的人，除了本身的努力進取之外，對將來的一...</td>\n",
              "      <td>https://www.lungshan.org.tw/fortune_sticks/ima...</td>\n",
              "      <td>images/fortune_1.jpg</td>\n",
              "      <td>https://www.lungshan.org.tw/fortune_sticks/pag...</td>\n",
              "      <td>https://www.golla.tw/chouqian/zhougong/1.html</td>\n",
              "      <td>https://www.sheup.org/winfo/7/894.html</td>\n",
              "      <td>https://www.0961223888.com/kannon/Kannon1.htm</td>\n",
              "    </tr>\n",
              "    <tr>\n",
              "      <th>1</th>\n",
              "      <td>1</td>\n",
              "      <td>第二首</td>\n",
              "      <td>姜太公渭水垂釣</td>\n",
              "      <td>中</td>\n",
              "      <td>[鯨魚未化守江湖, 未許升騰離碧波, 異日崢嶸身變態, 從教一躍禹門過]</td>\n",
              "      <td>下籤</td>\n",
              "      <td>子宮</td>\n",
              "      <td>此卦鯨魚未變之象。凡事忍耐待時也。</td>\n",
              "      <td>得忍且忍，得耐且耐，身不用忙，功名自在。此簽鯨魚未變之象，凡事進退待時。</td>\n",
              "      <td>{'家宅': '不安', '自身': '還願', '求財': '欠利', '交易': '未指...</td>\n",
              "      <td>就像魚兒尚未成熟，還不到可以離水飛昇的程度;此時忍耐守靜則吉，等到時機來臨之日，蛻變之時，必...</td>\n",
              "      <td>鯨魚未化守江湖。姜太公之受難時也。為大鯨未變之象。凡事進退待時。不可輕舉妄動。動則凶。靜則吉...</td>\n",
              "      <td>此籤有\"守時待勢\"之意。意味當事人，隨遇而安。人的一生高低起伏，難免有不順遂的時候，若不如意...</td>\n",
              "      <td>https://www.lungshan.org.tw/fortune_sticks/ima...</td>\n",
              "      <td>images/fortune_2.jpg</td>\n",
              "      <td>https://www.lungshan.org.tw/fortune_sticks/pag...</td>\n",
              "      <td>https://www.golla.tw/chouqian/zhougong/2.html</td>\n",
              "      <td>https://www.sheup.org/winfo/7/893.html</td>\n",
              "      <td>https://www.0961223888.com/kannon/Kannon2.htm</td>\n",
              "    </tr>\n",
              "    <tr>\n",
              "      <th>2</th>\n",
              "      <td>2</td>\n",
              "      <td>第三首</td>\n",
              "      <td>燕將獨守聊城</td>\n",
              "      <td>__</td>\n",
              "      <td>[衝風冒雨去還歸, 役役勞身似燕兒, 啣得泥來成疊後, 到頭疊壞復成泥]</td>\n",
              "      <td>下籤</td>\n",
              "      <td>子宮</td>\n",
              "      <td>此卦燕子啣坭之象。凡事勞心費力也。</td>\n",
              "      <td>千般用計，晨昏不停，誰知此事，到底無成。此簽燕子銜泥之象，凡事空心勞力。</td>\n",
              "      <td>{'家宅': '先凶后吉', '自身': '謹防', '求財': '有', '交易': '成...</td>\n",
              "      <td>頂著風冒著雨來來回回，就像燕子般辛勤奔波不歇;忙碌費力含來的小泥團，好不容易堆砌成土塊，有個...</td>\n",
              "      <td>衝風冒雨去還歸。役役勞心似燕兒。君爾之運逢燕子銜泥築巢之象耶。空心徒勞。無益者。為先難後甘之...</td>\n",
              "      <td>此籤有\"束手無策\"之意。奉勸當事人，勿舉棋不定。有些人個性剛直、做事一板一眼，臨事卻不知變通...</td>\n",
              "      <td>https://www.lungshan.org.tw/fortune_sticks/ima...</td>\n",
              "      <td>images/fortune_3.jpg</td>\n",
              "      <td>https://www.lungshan.org.tw/fortune_sticks/pag...</td>\n",
              "      <td>https://www.golla.tw/chouqian/zhougong/3.html</td>\n",
              "      <td>https://www.sheup.org/winfo/7/892.html</td>\n",
              "      <td>https://www.0961223888.com/kannon/Kannon3.htm</td>\n",
              "    </tr>\n",
              "    <tr>\n",
              "      <th>3</th>\n",
              "      <td>3</td>\n",
              "      <td>第四首</td>\n",
              "      <td>長樂老歷相五代</td>\n",
              "      <td>中中</td>\n",
              "      <td>[菱花鏡破復重圓, 女再求夫男再婚, 自此門閭重改換, 更添福祿與兒孫]</td>\n",
              "      <td>上籤</td>\n",
              "      <td>子宮</td>\n",
              "      <td>此卦串鏡重圓之象。凡事勞心有貴也。</td>\n",
              "      <td>五五念五，騎龍跨虎，事雖勞心，於中有補。此簽破鏡重圓之象，凡事成就則吉。</td>\n",
              "      <td>{'家宅': '欠利', '自身': '秋冬旺', '求財': '秋冬旺', '交易': '...</td>\n",
              "      <td>菱花破鏡如何能夠重圓，男女各有欲追求的姻緣;此後將有一番新氣象，惟再積德修善，功德更添福祿，...</td>\n",
              "      <td>菱花鏡破鏡重圓。為破鏡重圓之象。凡事成就吉者也。不是上上者。為中中之簽。是先凶後吉之簽。</td>\n",
              "      <td>此籤有\"歷久彌堅\"之意。意味當事人，不改初衷。須知\"人生以服務為目的\"，無論各行各業，應秉持...</td>\n",
              "      <td>https://www.lungshan.org.tw/fortune_sticks/ima...</td>\n",
              "      <td>images/fortune_4.jpg</td>\n",
              "      <td>https://www.lungshan.org.tw/fortune_sticks/pag...</td>\n",
              "      <td>https://www.golla.tw/chouqian/zhougong/4.html</td>\n",
              "      <td>https://www.sheup.org/winfo/7/891.html</td>\n",
              "      <td>https://www.0961223888.com/kannon/Kannon4.htm</td>\n",
              "    </tr>\n",
              "    <tr>\n",
              "      <th>4</th>\n",
              "      <td>4</td>\n",
              "      <td>第五首</td>\n",
              "      <td>燕昭王為郭隗築黃金台</td>\n",
              "      <td>中平</td>\n",
              "      <td>[一鋤掘地要求泉, 努力求之得最先, 無意俄然遇知己, 相逢攜手上青天]</td>\n",
              "      <td>中籤</td>\n",
              "      <td>丑宮</td>\n",
              "      <td>此卦錐地求泉之象。凡事先難后易也。</td>\n",
              "      <td>望中心事，今可方求，百事營謀，立地堪求。此簽堀土求泉之象，凡事勞心成就。</td>\n",
              "      <td>{'家宅': '祈福', '自身': '利', '求財': '利', '交易': '合', ...</td>\n",
              "      <td>想要靠一支鋤頭挖得泉水，必定要非常努力才有可能得到;積極努力奮鬥，在無意間遇到了夥伴知己，互...</td>\n",
              "      <td>一鋤掘地妥求泉水。此象則表徵君之運途。是凡事謀略之後。勞心方有成就者也。努力向前必有化凶為吉...</td>\n",
              "      <td>此籤有\"休戚相關\"之意。意味當事人，推誠相與。有些人為了打響自己的招牌，不惜砸下重金投資，或...</td>\n",
              "      <td>https://www.lungshan.org.tw/fortune_sticks/ima...</td>\n",
              "      <td>images/fortune_5.jpg</td>\n",
              "      <td>https://www.lungshan.org.tw/fortune_sticks/pag...</td>\n",
              "      <td>https://www.golla.tw/chouqian/zhougong/5.html</td>\n",
              "      <td>https://www.sheup.org/winfo/7/890.html</td>\n",
              "      <td>https://www.0961223888.com/kannon/Kannon5.htm</td>\n",
              "    </tr>\n",
              "  </tbody>\n",
              "</table>\n",
              "</div>\n",
              "    <div class=\"colab-df-buttons\">\n",
              "\n",
              "  <div class=\"colab-df-container\">\n",
              "    <button class=\"colab-df-convert\" onclick=\"convertToInteractive('df-ddace505-d33a-4942-b1e7-8148ade4d23f')\"\n",
              "            title=\"Convert this dataframe to an interactive table.\"\n",
              "            style=\"display:none;\">\n",
              "\n",
              "  <svg xmlns=\"http://www.w3.org/2000/svg\" height=\"24px\" viewBox=\"0 -960 960 960\">\n",
              "    <path d=\"M120-120v-720h720v720H120Zm60-500h600v-160H180v160Zm220 220h160v-160H400v160Zm0 220h160v-160H400v160ZM180-400h160v-160H180v160Zm440 0h160v-160H620v160ZM180-180h160v-160H180v160Zm440 0h160v-160H620v160Z\"/>\n",
              "  </svg>\n",
              "    </button>\n",
              "\n",
              "  <style>\n",
              "    .colab-df-container {\n",
              "      display:flex;\n",
              "      gap: 12px;\n",
              "    }\n",
              "\n",
              "    .colab-df-convert {\n",
              "      background-color: #E8F0FE;\n",
              "      border: none;\n",
              "      border-radius: 50%;\n",
              "      cursor: pointer;\n",
              "      display: none;\n",
              "      fill: #1967D2;\n",
              "      height: 32px;\n",
              "      padding: 0 0 0 0;\n",
              "      width: 32px;\n",
              "    }\n",
              "\n",
              "    .colab-df-convert:hover {\n",
              "      background-color: #E2EBFA;\n",
              "      box-shadow: 0px 1px 2px rgba(60, 64, 67, 0.3), 0px 1px 3px 1px rgba(60, 64, 67, 0.15);\n",
              "      fill: #174EA6;\n",
              "    }\n",
              "\n",
              "    .colab-df-buttons div {\n",
              "      margin-bottom: 4px;\n",
              "    }\n",
              "\n",
              "    [theme=dark] .colab-df-convert {\n",
              "      background-color: #3B4455;\n",
              "      fill: #D2E3FC;\n",
              "    }\n",
              "\n",
              "    [theme=dark] .colab-df-convert:hover {\n",
              "      background-color: #434B5C;\n",
              "      box-shadow: 0px 1px 3px 1px rgba(0, 0, 0, 0.15);\n",
              "      filter: drop-shadow(0px 1px 2px rgba(0, 0, 0, 0.3));\n",
              "      fill: #FFFFFF;\n",
              "    }\n",
              "  </style>\n",
              "\n",
              "    <script>\n",
              "      const buttonEl =\n",
              "        document.querySelector('#df-ddace505-d33a-4942-b1e7-8148ade4d23f button.colab-df-convert');\n",
              "      buttonEl.style.display =\n",
              "        google.colab.kernel.accessAllowed ? 'block' : 'none';\n",
              "\n",
              "      async function convertToInteractive(key) {\n",
              "        const element = document.querySelector('#df-ddace505-d33a-4942-b1e7-8148ade4d23f');\n",
              "        const dataTable =\n",
              "          await google.colab.kernel.invokeFunction('convertToInteractive',\n",
              "                                                    [key], {});\n",
              "        if (!dataTable) return;\n",
              "\n",
              "        const docLinkHtml = 'Like what you see? Visit the ' +\n",
              "          '<a target=\"_blank\" href=https://colab.research.google.com/notebooks/data_table.ipynb>data table notebook</a>'\n",
              "          + ' to learn more about interactive tables.';\n",
              "        element.innerHTML = '';\n",
              "        dataTable['output_type'] = 'display_data';\n",
              "        await google.colab.output.renderOutput(dataTable, element);\n",
              "        const docLink = document.createElement('div');\n",
              "        docLink.innerHTML = docLinkHtml;\n",
              "        element.appendChild(docLink);\n",
              "      }\n",
              "    </script>\n",
              "  </div>\n",
              "\n",
              "\n",
              "<div id=\"df-6125c41e-41a5-424f-923c-c12f3796b4ae\">\n",
              "  <button class=\"colab-df-quickchart\" onclick=\"quickchart('df-6125c41e-41a5-424f-923c-c12f3796b4ae')\"\n",
              "            title=\"Suggest charts\"\n",
              "            style=\"display:none;\">\n",
              "\n",
              "<svg xmlns=\"http://www.w3.org/2000/svg\" height=\"24px\"viewBox=\"0 0 24 24\"\n",
              "     width=\"24px\">\n",
              "    <g>\n",
              "        <path d=\"M19 3H5c-1.1 0-2 .9-2 2v14c0 1.1.9 2 2 2h14c1.1 0 2-.9 2-2V5c0-1.1-.9-2-2-2zM9 17H7v-7h2v7zm4 0h-2V7h2v10zm4 0h-2v-4h2v4z\"/>\n",
              "    </g>\n",
              "</svg>\n",
              "  </button>\n",
              "\n",
              "<style>\n",
              "  .colab-df-quickchart {\n",
              "      --bg-color: #E8F0FE;\n",
              "      --fill-color: #1967D2;\n",
              "      --hover-bg-color: #E2EBFA;\n",
              "      --hover-fill-color: #174EA6;\n",
              "      --disabled-fill-color: #AAA;\n",
              "      --disabled-bg-color: #DDD;\n",
              "  }\n",
              "\n",
              "  [theme=dark] .colab-df-quickchart {\n",
              "      --bg-color: #3B4455;\n",
              "      --fill-color: #D2E3FC;\n",
              "      --hover-bg-color: #434B5C;\n",
              "      --hover-fill-color: #FFFFFF;\n",
              "      --disabled-bg-color: #3B4455;\n",
              "      --disabled-fill-color: #666;\n",
              "  }\n",
              "\n",
              "  .colab-df-quickchart {\n",
              "    background-color: var(--bg-color);\n",
              "    border: none;\n",
              "    border-radius: 50%;\n",
              "    cursor: pointer;\n",
              "    display: none;\n",
              "    fill: var(--fill-color);\n",
              "    height: 32px;\n",
              "    padding: 0;\n",
              "    width: 32px;\n",
              "  }\n",
              "\n",
              "  .colab-df-quickchart:hover {\n",
              "    background-color: var(--hover-bg-color);\n",
              "    box-shadow: 0 1px 2px rgba(60, 64, 67, 0.3), 0 1px 3px 1px rgba(60, 64, 67, 0.15);\n",
              "    fill: var(--button-hover-fill-color);\n",
              "  }\n",
              "\n",
              "  .colab-df-quickchart-complete:disabled,\n",
              "  .colab-df-quickchart-complete:disabled:hover {\n",
              "    background-color: var(--disabled-bg-color);\n",
              "    fill: var(--disabled-fill-color);\n",
              "    box-shadow: none;\n",
              "  }\n",
              "\n",
              "  .colab-df-spinner {\n",
              "    border: 2px solid var(--fill-color);\n",
              "    border-color: transparent;\n",
              "    border-bottom-color: var(--fill-color);\n",
              "    animation:\n",
              "      spin 1s steps(1) infinite;\n",
              "  }\n",
              "\n",
              "  @keyframes spin {\n",
              "    0% {\n",
              "      border-color: transparent;\n",
              "      border-bottom-color: var(--fill-color);\n",
              "      border-left-color: var(--fill-color);\n",
              "    }\n",
              "    20% {\n",
              "      border-color: transparent;\n",
              "      border-left-color: var(--fill-color);\n",
              "      border-top-color: var(--fill-color);\n",
              "    }\n",
              "    30% {\n",
              "      border-color: transparent;\n",
              "      border-left-color: var(--fill-color);\n",
              "      border-top-color: var(--fill-color);\n",
              "      border-right-color: var(--fill-color);\n",
              "    }\n",
              "    40% {\n",
              "      border-color: transparent;\n",
              "      border-right-color: var(--fill-color);\n",
              "      border-top-color: var(--fill-color);\n",
              "    }\n",
              "    60% {\n",
              "      border-color: transparent;\n",
              "      border-right-color: var(--fill-color);\n",
              "    }\n",
              "    80% {\n",
              "      border-color: transparent;\n",
              "      border-right-color: var(--fill-color);\n",
              "      border-bottom-color: var(--fill-color);\n",
              "    }\n",
              "    90% {\n",
              "      border-color: transparent;\n",
              "      border-bottom-color: var(--fill-color);\n",
              "    }\n",
              "  }\n",
              "</style>\n",
              "\n",
              "  <script>\n",
              "    async function quickchart(key) {\n",
              "      const quickchartButtonEl =\n",
              "        document.querySelector('#' + key + ' button');\n",
              "      quickchartButtonEl.disabled = true;  // To prevent multiple clicks.\n",
              "      quickchartButtonEl.classList.add('colab-df-spinner');\n",
              "      try {\n",
              "        const charts = await google.colab.kernel.invokeFunction(\n",
              "            'suggestCharts', [key], {});\n",
              "      } catch (error) {\n",
              "        console.error('Error during call to suggestCharts:', error);\n",
              "      }\n",
              "      quickchartButtonEl.classList.remove('colab-df-spinner');\n",
              "      quickchartButtonEl.classList.add('colab-df-quickchart-complete');\n",
              "    }\n",
              "    (() => {\n",
              "      let quickchartButtonEl =\n",
              "        document.querySelector('#df-6125c41e-41a5-424f-923c-c12f3796b4ae button');\n",
              "      quickchartButtonEl.style.display =\n",
              "        google.colab.kernel.accessAllowed ? 'block' : 'none';\n",
              "    })();\n",
              "  </script>\n",
              "</div>\n",
              "\n",
              "    </div>\n",
              "  </div>\n"
            ],
            "text/plain": [
              "   id   籤名          詩名  詩運                                    籤詩  吉凶  宮位  \\\n",
              "0   0  第一首     宋太祖黃袍加身  上上  [天開地闢結良緣, 日吉時良萬事全, 若得此籤非小可, 人行中正帝王宣]  上籤  子宮   \n",
              "1   1  第二首     姜太公渭水垂釣   中  [鯨魚未化守江湖, 未許升騰離碧波, 異日崢嶸身變態, 從教一躍禹門過]  下籤  子宮   \n",
              "2   2  第三首      燕將獨守聊城  __  [衝風冒雨去還歸, 役役勞身似燕兒, 啣得泥來成疊後, 到頭疊壞復成泥]  下籤  子宮   \n",
              "3   3  第四首     長樂老歷相五代  中中  [菱花鏡破復重圓, 女再求夫男再婚, 自此門閭重改換, 更添福祿與兒孫]  上籤  子宮   \n",
              "4   4  第五首  燕昭王為郭隗築黃金台  中平  [一鋤掘地要求泉, 努力求之得最先, 無意俄然遇知己, 相逢攜手上青天]  中籤  丑宮   \n",
              "\n",
              "                  詩意                                    解曰  \\\n",
              "0  此卦盤古初開天地之象。諸事皆吉也。  急速非速，言來時值，觀音降事，報與君知。此簽天開地辟之象，凡事大吉利也。   \n",
              "1  此卦鯨魚未變之象。凡事忍耐待時也。  得忍且忍，得耐且耐，身不用忙，功名自在。此簽鯨魚未變之象，凡事進退待時。   \n",
              "2  此卦燕子啣坭之象。凡事勞心費力也。  千般用計，晨昏不停，誰知此事，到底無成。此簽燕子銜泥之象，凡事空心勞力。   \n",
              "3  此卦串鏡重圓之象。凡事勞心有貴也。  五五念五，騎龍跨虎，事雖勞心，於中有補。此簽破鏡重圓之象，凡事成就則吉。   \n",
              "4  此卦錐地求泉之象。凡事先難后易也。  望中心事，今可方求，百事營謀，立地堪求。此簽堀土求泉之象，凡事勞心成就。   \n",
              "\n",
              "                                                  聖意  \\\n",
              "0  {'家宅': '祈福', '自身': '秋冬大利', '求財': '秋冬大利', '交易':...   \n",
              "1  {'家宅': '不安', '自身': '還願', '求財': '欠利', '交易': '未指...   \n",
              "2  {'家宅': '先凶后吉', '自身': '謹防', '求財': '有', '交易': '成...   \n",
              "3  {'家宅': '欠利', '自身': '秋冬旺', '求財': '秋冬旺', '交易': '...   \n",
              "4  {'家宅': '祈福', '自身': '利', '求財': '利', '交易': '合', ...   \n",
              "\n",
              "                                                  淺釋  \\\n",
              "0  天地開創之時，凡事充滿了新氣象，正是良辰吉時，萬事都已準備周全;能求得此簽之人，非同小可，帝...   \n",
              "1  就像魚兒尚未成熟，還不到可以離水飛昇的程度;此時忍耐守靜則吉，等到時機來臨之日，蛻變之時，必...   \n",
              "2  頂著風冒著雨來來回回，就像燕子般辛勤奔波不歇;忙碌費力含來的小泥團，好不容易堆砌成土塊，有個...   \n",
              "3  菱花破鏡如何能夠重圓，男女各有欲追求的姻緣;此後將有一番新氣象，惟再積德修善，功德更添福祿，...   \n",
              "4  想要靠一支鋤頭挖得泉水，必定要非常努力才有可能得到;積極努力奮鬥，在無意間遇到了夥伴知己，互...   \n",
              "\n",
              "                                                  靈籤  \\\n",
              "0  天開地辟。結良緣是天地開創之象。為大吉大利之象也。日吉時良。萬事俱全順遂之命。能蒙神指示為此...   \n",
              "1  鯨魚未化守江湖。姜太公之受難時也。為大鯨未變之象。凡事進退待時。不可輕舉妄動。動則凶。靜則吉...   \n",
              "2  衝風冒雨去還歸。役役勞心似燕兒。君爾之運逢燕子銜泥築巢之象耶。空心徒勞。無益者。為先難後甘之...   \n",
              "3       菱花鏡破鏡重圓。為破鏡重圓之象。凡事成就吉者也。不是上上者。為中中之簽。是先凶後吉之簽。   \n",
              "4  一鋤掘地妥求泉水。此象則表徵君之運途。是凡事謀略之後。勞心方有成就者也。努力向前必有化凶為吉...   \n",
              "\n",
              "                                                  詳解  \\\n",
              "0  此籤有\"謀事在人\"之意。提醒當事人，未雨綢繆。會成功的人，除了本身的努力進取之外，對將來的一...   \n",
              "1  此籤有\"守時待勢\"之意。意味當事人，隨遇而安。人的一生高低起伏，難免有不順遂的時候，若不如意...   \n",
              "2  此籤有\"束手無策\"之意。奉勸當事人，勿舉棋不定。有些人個性剛直、做事一板一眼，臨事卻不知變通...   \n",
              "3  此籤有\"歷久彌堅\"之意。意味當事人，不改初衷。須知\"人生以服務為目的\"，無論各行各業，應秉持...   \n",
              "4  此籤有\"休戚相關\"之意。意味當事人，推誠相與。有些人為了打響自己的招牌，不惜砸下重金投資，或...   \n",
              "\n",
              "                                             img_url             img_fname  \\\n",
              "0  https://www.lungshan.org.tw/fortune_sticks/ima...  images/fortune_1.jpg   \n",
              "1  https://www.lungshan.org.tw/fortune_sticks/ima...  images/fortune_2.jpg   \n",
              "2  https://www.lungshan.org.tw/fortune_sticks/ima...  images/fortune_3.jpg   \n",
              "3  https://www.lungshan.org.tw/fortune_sticks/ima...  images/fortune_4.jpg   \n",
              "4  https://www.lungshan.org.tw/fortune_sticks/ima...  images/fortune_5.jpg   \n",
              "\n",
              "                                                url1  \\\n",
              "0  https://www.lungshan.org.tw/fortune_sticks/pag...   \n",
              "1  https://www.lungshan.org.tw/fortune_sticks/pag...   \n",
              "2  https://www.lungshan.org.tw/fortune_sticks/pag...   \n",
              "3  https://www.lungshan.org.tw/fortune_sticks/pag...   \n",
              "4  https://www.lungshan.org.tw/fortune_sticks/pag...   \n",
              "\n",
              "                                            url3  \\\n",
              "0  https://www.golla.tw/chouqian/zhougong/1.html   \n",
              "1  https://www.golla.tw/chouqian/zhougong/2.html   \n",
              "2  https://www.golla.tw/chouqian/zhougong/3.html   \n",
              "3  https://www.golla.tw/chouqian/zhougong/4.html   \n",
              "4  https://www.golla.tw/chouqian/zhougong/5.html   \n",
              "\n",
              "                                     url4  \\\n",
              "0  https://www.sheup.org/winfo/7/894.html   \n",
              "1  https://www.sheup.org/winfo/7/893.html   \n",
              "2  https://www.sheup.org/winfo/7/892.html   \n",
              "3  https://www.sheup.org/winfo/7/891.html   \n",
              "4  https://www.sheup.org/winfo/7/890.html   \n",
              "\n",
              "                                            url2  \n",
              "0  https://www.0961223888.com/kannon/Kannon1.htm  \n",
              "1  https://www.0961223888.com/kannon/Kannon2.htm  \n",
              "2  https://www.0961223888.com/kannon/Kannon3.htm  \n",
              "3  https://www.0961223888.com/kannon/Kannon4.htm  \n",
              "4  https://www.0961223888.com/kannon/Kannon5.htm  "
            ]
          },
          "execution_count": 18,
          "metadata": {},
          "output_type": "execute_result"
        },
        {
          "name": "stdout",
          "output_type": "stream",
          "text": [
            "time: 98.8 ms (started: 2024-12-17 03:36:04 +00:00)\n"
          ]
        }
      ],
      "source": [
        "# Display the resulting DataFrame\n",
        "df_merged.head()"
      ]
    },
    {
      "cell_type": "markdown",
      "metadata": {
        "id": "nNPzFNqqKmyk"
      },
      "source": [
        "# 3.Neo4j Communication\n",
        "\n",
        "### Create the initial graph structure\n",
        "\n",
        "```cypher\n",
        "CREATE (p1:Poem {number: 1, name: \"第一首\", ...})\n",
        "-[:HAS_BODY]->(s1:Body {籤詩: \"籤詩x4\", 吉凶: \"上籤\", ...})\n",
        "-[:HAS_EARTH_BRANCH]->(e1:EarthlyBranch {name: \"子\", ...})\n",
        "-[:HAS_PURPOSE]->(i1:DivineIntention {purpose: \"疾病\", purpose_embedding: [], ...})\n",
        "-[:HAS_PURPOSE_ANSWER]->(a1:PurposeAnswer {purpose: '疾病', answer: \"'有驚'\", answer_embedding: [], ...})\n",
        "WITH p1, e1\n",
        "MERGE (e1)-[:HAS_FIVE_ELEMENT]->(f1:FiveElement {name: \"水\"})\n",
        "MERGE (e1)-[:HAS_ZODIAC]->(z1:Zodiac {name: \"鼠\"})\n",
        "```\n",
        "\n",
        "### Add a UserPrompt\n",
        "\n",
        "```cypher\n",
        "MATCH (p:Poem {number: $poem_number})\n",
        "CREATE (up:UserPrompt {text: \"求身體健康\", llm_response: \"good luck!\", purpose_embedding: [], llm_response_embedding: []...})\n",
        "-[:GENERATED_BY]->(l:LLM {model: $model, temperature: $temperature, max_tokens: $max_tokens})\n",
        "CREATE (p)-[:HAS_PROMPT]->(up)\n",
        "```\n",
        "\n",
        "### Simple Search\n",
        "\n",
        "```cypher\n",
        "MATCH (p:Poem {number: 1})\n",
        "MATCH (p)-[:HAS_BODY]->(b)\n",
        "MATCH (p)-[:HAS_PURPOSE]->(i)\n",
        "MATCH (i)-[:HAS_PURPOSE_ANSWER]->(a)\n",
        "MATCH (p)-[:HAS_EARTH_BRANCH]->(e)\n",
        "MATCH (e)-[:HAS_FIVE_ELEMENTS]->(f)\n",
        "MATCH (e)-[:HAS_ZODIAC]->(z)\n",
        "RETURN p.name, b.籤名, i.purpose, a.answer, e.name as 地支, f.name as 五行, z.name as 生肖, ...\n",
        "```\n",
        "\n",
        "### Similarity Search\n",
        "\n",
        "```cypher\n",
        "MATCH (p:Poem {number: 1})-[:HAS_PROMPT]->(up:UserPrompt)\n",
        "OPTIONAL MATCH (up)-[:GENERATED_BY]->(llm:LLM)\n",
        "WITH up, llm, gds.similarity.cosine(up.purpose_embedding, $new_userprompt_embedding) AS similarity\n",
        "WHERE similarity > 0.75\n",
        "RETURN similarity, up.llm_response, llm.model...\n",
        "ORDER BY similarity DESC\n",
        "LIMIT 3\n",
        "```\n"
      ]
    },
    {
      "cell_type": "markdown",
      "metadata": {
        "id": "6DtzgdLxe2RR"
      },
      "source": [
        "## Connect to neo4j\n"
      ]
    },
    {
      "cell_type": "code",
      "execution_count": null,
      "metadata": {
        "colab": {
          "base_uri": "https://localhost:8080/"
        },
        "id": "DR8vam7kVq-y",
        "outputId": "f0f4c0f5-0dba-4f56-c31d-ebc06fafeb67"
      },
      "outputs": [
        {
          "name": "stdout",
          "output_type": "stream",
          "text": [
            "1\n",
            "Connection successful!\n",
            "time: 93.1 ms (started: 2024-12-17 04:20:02 +00:00)\n"
          ]
        }
      ],
      "source": [
        "import os\n",
        "\n",
        "from google.colab import userdata\n",
        "from neo4j import Driver, GraphDatabase\n",
        "\n",
        "if not os.environ.get('NEO4J_AUTH'):\n",
        "    os.environ['NEO4J_AUTH'] = userdata.get('NEO4J_SANDBOX_nycu')\n",
        "    os.environ['NEO4J_URL'] = userdata.get('NEO4J_SANDBOX_url')\n",
        "\n",
        "if not os.environ.get('NEO4J_AUTH') or not os.environ.get('NEO4J_URL'):\n",
        "    raise ValueError(\n",
        "        'Please set the NEO4J_AUTH and URL environment variables.')\n",
        "\n",
        "driver_sandbox: Driver = GraphDatabase.driver(\n",
        "    os.environ.get('NEO4J_URL'),\n",
        "    auth=('neo4j', os.environ.get('NEO4J_AUTH'))\n",
        ")\n",
        "\n",
        "Neo4jUtil.test_neo4j_connection(driver_sandbox)"
      ]
    },
    {
      "cell_type": "markdown",
      "metadata": {
        "id": "KOcjC9dO1AcE"
      },
      "source": [
        "## Test search_poem_data\n"
      ]
    },
    {
      "cell_type": "code",
      "execution_count": null,
      "metadata": {
        "colab": {
          "base_uri": "https://localhost:8080/"
        },
        "id": "2X9BEHgc_O0V",
        "outputId": "50377082-dcfd-40bd-b7fb-3e2ac44f5364"
      },
      "outputs": [
        {
          "name": "stdout",
          "output_type": "stream",
          "text": [
            "{'context': 'You are an assistant specialized in interpreting divination '\n",
            "            'results. Use the following [Context] to provide insights and '\n",
            "            'advice to users based on their questions. Always format your '\n",
            "            'responses according to the [Response Format] below, ensuring '\n",
            "            'personalized interpretations and actionable advice.\\n'\n",
            "            '\\n'\n",
            "            '[Response Format]\\n'\n",
            "            ' 您抽到的籤是: [Include 籤名 here]\\n'\n",
            "            ' 籤詩: [Include full 籤詩 here]\\n'\n",
            "            ' \\n'\n",
            "            '籤詩解讀: \\n'\n",
            "            '\\n'\n",
            "            '小廟公建議: \\n'\n",
            "            '\\n'\n",
            "            '[Context]\\n'\n",
            "            ' 籤名: 【中籤】上中 第五十七首-甯戚飯牛叩角\\n'\n",
            "            '\\n'\n",
            "            '\\n'\n",
            "            '~籤詩~\\n'\n",
            "            '聞是聞非風過耳     \\n'\n",
            "            '好衣好祿日當空     \\n'\n",
            "            '君須記取他年事     \\n'\n",
            "            '汝意還同我意同     \\n'\n",
            "            '\\n'\n",
            "            '此籤有\"隨機應變\"之意。鼓勵當事人，積極表現。有些人很懂得如何隨機應變，有時連身邊看似不起眼的物事，都可以適時拿來運用，成功地為自己加分不少。須知很多機會往往稍縱即逝，要能夠把握契機。即使看似希望渺茫，但仍值得一試，說不定就此一舉成功。在自己本身方面，凡事勿預設太多立場，不要太悲觀，所謂\"因地制宜\"，配合環境、人事，適度地調整做人處世的態度。應勇於嘗試，不要太固執而一成不變。\\n'\n",
            "            '\\n'\n",
            "            '小廟公建議可參考聖意如下, 不需要全數給求籤者, 若有任何難或不利的訊號, 則建議小心慎重, 正向訊號則可達成!\\n'\n",
            "            '關於家宅: 不安\\n'\n",
            "            '關於自身: 平平\\n'\n",
            "            '關於求財: 順\\n'\n",
            "            '關於交易: 成\\n'\n",
            "            '關於婚姻: 合\\n'\n",
            "            '關於六甲: 女\\n'\n",
            "            '關於行人: 阻\\n'\n",
            "            '關於田蠶: 就\\n'\n",
            "            '關於六畜: 損\\n'\n",
            "            '關於尋人: 難\\n'\n",
            "            '關於公訟: 宜和\\n'\n",
            "            '關於移徙: 守舊\\n'\n",
            "            '關於失物: 空\\n'\n",
            "            '關於疾病: 祈福\\n'\n",
            "            '關於山墳: 吉\\n'\n",
            "            '\\n'\n",
            "            '潛在的指示為地支「丑」, 也可給求籤者做相關提醒。\\n'\n",
            "            ' - 地理位置代表東北\\n'\n",
            "            ' - 時間為凌晨1點至3點\\n'\n",
            "            ' - 十二生肖對應為牛, 勤奮、穩重, 適合從事需要耐力和毅力的工作\\n'\n",
            "            ' - 五行為「土」, 土生金但土剋水, 若為上籤宜土地耕作, 建築設計, 學習歷史, 穩定工作, 家庭聚會等, '\n",
            "            '若為下籤則注意過度勞累, 土石傷害, 過度保守, 環境破壞等\\n'\n",
            "            '\\n'\n",
            "            '\\n'\n",
            "            'Guidelines:\\n'\n",
            "            ' - Interpret the provided [Context] flexibly. The \"籤詩解讀\" should '\n",
            "            \"connect the content of the divination with the user's question. - \"\n",
            "            'Use the \"小廟公建議\" to provide specific, actionable guidance relevant '\n",
            "            'to the question, referencing details from the context where '\n",
            "            'appropriate. - End with a short phrase encouraging the user, '\n",
            "            'alike \"Don\\'t worry,\", \"Good luck\", etc. \\n'\n",
            "            '\\n'\n",
            "            'Note:\\n'\n",
            "            ' If the length of the [Context] is less than 20 characters, '\n",
            "            'provide the full [Context] directly as a response without '\n",
            "            'applying the [Response Format].',\n",
            " 'name': '第五十七首 - 甯戚飯牛叩角',\n",
            " 'number': 57,\n",
            " 'system_prompt': 'You are an assistant specialized in interpreting divination '\n",
            "                  'results. Use the following [Context] to provide insights '\n",
            "                  'and advice to users based on their questions. Always format '\n",
            "                  'your responses according to the [Response Format] below, '\n",
            "                  'ensuring personalized interpretations and actionable '\n",
            "                  'advice.\\n'\n",
            "                  '\\n'\n",
            "                  '\\n'\n",
            "                  '[Response Format] \\n'\n",
            "                  '您抽到的籤是: [Include 籤名 here] \\n'\n",
            "                  '籤詩: [Include full 籤詩 here] \\n'\n",
            "                  '\\n'\n",
            "                  '\\n'\n",
            "                  '籤詩解讀: \\n'\n",
            "                  '\\n'\n",
            "                  '\\n'\n",
            "                  '小廟公建議: \\n'\n",
            "                  '[Context] {context}\\n'\n",
            "                  'Guidelines: - Interpret the provided [Context] flexibly. '\n",
            "                  'The \"籤詩解讀\" should connect the content of the divination '\n",
            "                  'with the user\\'s question. - Use the \"小廟公建議\" to provide '\n",
            "                  'specific, actionable guidance relevant to the question, '\n",
            "                  'referencing details from the context where appropriate. - '\n",
            "                  'End with a short phrase encouraging the user, alike \"Don\\'t '\n",
            "                  'worry\", \"Good luck\", etc. \\n'\n",
            "                  'Note: If the length of the [Context] is less than 20 '\n",
            "                  'characters, provide the full [Context] directly as a '\n",
            "                  'response without applying the [Response Format].'}\n",
            "{'五行': '土',\n",
            " '吉凶': '中籤',\n",
            " '四季': '四季',\n",
            " '地支': '丑',\n",
            " '宮位': '丑宮',\n",
            " '淺釋': '是與非就把它當成耳邊過風，目前哪裡有什麽好顧慮的呢;你別忘記以往種種發生的事情，我們的想法依舊沒有差異。',\n",
            " '生肖': '牛',\n",
            " '籤名': '第五十七首',\n",
            " '籤詩': ['聞是聞非風過耳', '好衣好祿日當空', '君須記取他年事', '汝意還同我意同'],\n",
            " '解曰': '選用謀望，皆大吉昌，從心懇切，如子見娘。此簽好子見娘之象，凡事遇貴則吉。',\n",
            " '詩名': '甯戚飯牛叩角',\n",
            " '詩意': '此卦孩兒見母之象。諸事貴人大吉也。',\n",
            " '詩運': '上中',\n",
            " '詳解': '此籤有\"隨機應變\"之意。鼓勵當事人，積極表現。有些人很懂得如何隨機應變，有時連身邊看似不起眼的物事，都可以適時拿來運用，成功地為自己加分不少。須知很多機會往往稍縱即逝，要能夠把握契機。即使看似希望渺茫，但仍值得一試，說不定就此一舉成功。在自己本身方面，凡事勿預設太多立場，不要太悲觀，所謂\"因地制宜\"，配合環境、人事，適度地調整做人處世的態度。應勇於嘗試，不要太固執而一成不變。',\n",
            " '靈籤': '本籤者好子見娘之象。凡事能遇貴人則化吉也。凡遇事可受貴人扶之。提攜之後可成。必為其人所敬仰。一倡百和者。事事可以成功。好衣好祿日當空。易言之。選用謀望皆大吉昌。從心懇切。如子見娘。'}\n",
            "time: 69.3 ms (started: 2024-12-17 03:40:50 +00:00)\n"
          ]
        }
      ],
      "source": [
        "# Usage\n",
        "current_driver_sandbox = driver_sandbox\n",
        "\n",
        "if True:\n",
        "    poem_number = 57\n",
        "    with current_driver_sandbox.session() as session:\n",
        "        results = Neo4jUtil.search_poem_data(\n",
        "            session=session, poem_number=poem_number)\n",
        "        # pprint(result[0])\n",
        "        poem = results[0]['Poem'][0]\n",
        "        poem.pop('context_embedding')\n",
        "        body = results[0]['Body'][0]\n",
        "        pprint(poem)\n",
        "        pprint(body)"
      ]
    },
    {
      "cell_type": "markdown",
      "metadata": {
        "id": "FY7kZIOfA1ZN"
      },
      "source": [
        "## Test similarity_search_user_prompts\n"
      ]
    },
    {
      "cell_type": "code",
      "execution_count": null,
      "metadata": {
        "colab": {
          "base_uri": "https://localhost:8080/"
        },
        "id": "rUJMmQBdA48I",
        "outputId": "de63d1f8-6e1b-48a1-9b48-d7ceb1d6223c"
      },
      "outputs": [
        {
          "name": "stdout",
          "output_type": "stream",
          "text": [
            "0.43610176264730816 \n",
            " <Record similarity=0.43610176264730816 user_prompt='最近身體欠佳, 請給予指示' llm_response='您抽到的籤是: 【中籤】中中 第五十八首-羅隱歸咎越王  \\n籤詩: 忠言善語君須記 莫向他方求別藝 勸君安守舊生涯 除卻有餘都不是\\n\\n籤詩解讀:\\n這首籤詩提醒您要謹記忠言和善意的建議，特別是在健康方面，不要輕易嘗試新的療法或偏方。當下最重要的是保持現有的生活方式，避免過度操勞和不必要的壓力。這段時間，請多關注身邊親友的建議，他們的關心可能會帶來有益的啟示。\\n\\n小廟公建議:\\n- 關於自身: 此時對您的健康不利，建議您多加留意身體狀況，及早就醫，並遵循醫生的專業建議。\\n- 關於疾病: 目前健康狀況可能不太穩定，建議您保持規律的作息，適當休息，並多攝取營養。\\n- 地支「丑」提醒您，適合從事需要耐力和毅力的活動，但要避免過度勞累。\\n\\n請務必保重身體，保持樂觀心態，祝您早日康復！' llm_model='gpt-4o' llm_temperature=0.5 llm_max_tokens=512>\n",
            "1.0 \n",
            " <Record similarity=1.0 user_prompt='最近身體欠佳, 請給予指示' llm_response='您抽到的籤是: 【中籤】中中 第五十八首-羅隱歸咎越王  \\n籤詩: 忠言善語君須記 莫向他方求別藝 勸君安守舊生涯 除卻有餘都不是\\n\\n籤詩解讀:\\n這首籤詩提醒您要謹記忠言和善意的建議，特別是在健康方面，不要輕易嘗試新的療法或偏方。當下最重要的是保持現有的生活方式，避免過度操勞和不必要的壓力。這段時間，請多關注身邊親友的建議，他們的關心可能會帶來有益的啟示。\\n\\n小廟公建議:\\n- 關於自身: 此時對您的健康不利，建議您多加留意身體狀況，及早就醫，並遵循醫生的專業建議。\\n- 關於疾病: 目前健康狀況可能不太穩定，建議您保持規律的作息，適當休息，並多攝取營養。\\n- 地支「丑」提醒您，適合從事需要耐力和毅力的活動，但要避免過度勞累。\\n\\n請務必保重身體，保持樂觀心態，祝您早日康復！' llm_model='gpt-4o' llm_temperature=0.5 llm_max_tokens=512>\n",
            "time: 2.96 s (started: 2024-12-17 03:41:33 +00:00)\n"
          ]
        }
      ],
      "source": [
        "# Usage\n",
        "current_driver_sandbox = driver_sandbox\n",
        "\n",
        "if True:\n",
        "    poem_number = 57\n",
        "    with current_driver_sandbox.session() as session:\n",
        "        results = Neo4jUtil.similarity_search_user_prompts(\n",
        "            session=session,\n",
        "            poem_number=poem_number,\n",
        "            new_user_prompt='求健康',\n",
        "            threshold=0.1,\n",
        "            top_n=3\n",
        "        )\n",
        "        print(results[0]['similarity'], '\\n', results[0])\n",
        "\n",
        "        results = Neo4jUtil.similarity_search_user_prompts(\n",
        "            session=session,\n",
        "            poem_number=poem_number,\n",
        "            new_user_prompt='最近身體欠佳, 請給予指示',\n",
        "            threshold=0.1,\n",
        "            top_n=3\n",
        "        )\n",
        "        print(results[0]['similarity'], '\\n', results[0])"
      ]
    },
    {
      "cell_type": "markdown",
      "metadata": {
        "id": "2pxu-wQOjOux"
      },
      "source": [
        "# 4.Integrate with LLM API, Neo4j\n",
        "\n",
        "- openai API https://github.com/openai/openai-python\n",
        "- anthropic API https://github.com/anthropics/anthropic-sdk-python\n",
        "- aisuite API https://github.com/andrewyng/aisuite\n",
        "- neo4j API https://github.com/neo4j/neo4j-python-driver\n"
      ]
    },
    {
      "cell_type": "markdown",
      "metadata": {
        "id": "5aiJCaUpjT5V"
      },
      "source": [
        "## Use cases\n",
        "\n",
        "**使用者**\n",
        "求財運\n",
        "\n",
        "**System Prompt**\n",
        "\n",
        "Forget previous system prompt.\n",
        "\n",
        "[System] You are an assistant for question-answering tasks regarding pray. Use the following pieces of retrieved [Context] to answer the question. Alwasy reply in Chinese Traditional with the format under [Response Format] section. In the end, say something like 'don't worry'、'good luck' (no needs to be the same) in short.\n",
        "\n",
        "[Context]\n",
        "籤名為二十四首-下籤巳宮\n",
        "\n",
        "\"此籤有”執迷不悟”之意。奉勸當事人，須知忠言必逆耳。看事情的角度不能光憑表面，必須多用點心，觀察入微、從裡到外，仔細分析評估求證。不要先入為主就認定一件事必定是如此。須知事事無絕對，很多事都有意外。對於他人的善意提醒與規勸，尤其在親朋好友方面，應思考必定有其道理，要能謙虛接受、謹記在心。切勿亳不在乎地當成耳邊風，免得吃虧在眼前，後悔莫及。\n",
        "\n",
        "小廟公建議來自聖意如下, 若有任何難或不利的訊號, 則建議小心慎重, 正向訊號則可達成!\n",
        "關於「家宅」: 不安\n",
        "關於「自身」: 險\n",
        "關於「求財」: 阻\n",
        "關於「交易」: 難\n",
        "關於「婚姻」: 待時\n",
        "關於「六甲」: 祈福\n",
        "關於「行人」: 阻\n",
        "關於「田蠶」: 多災\n",
        "關於「六畜」: 多災\n",
        "關於「尋人」: 阻\n",
        "關於「公訟」: 虧\n",
        "關於「移徙」: 吉\n",
        "關於「失物」: 難見\n",
        "關於「疾病」: 急求神,\n",
        "關於「山墳」: 不吉\n",
        "\n",
        "潛在的指示為地支「巳」, 也可給求籤者做相關提醒\n",
        "\n",
        "- 地理位置代表東南方\n",
        "- 時間為上午 9 點至 11 點\n",
        "- 十二生肖對應為蛇, 智慧, 神秘, 適合從事需要策略和洞察力的工作\n",
        "- 五行為火, 火生土但火剋金 -若為上籤宜'烹飪', '熱情工作', '學習新技能', '社交活動', '創意表達'等 -若為下籤則注意'高溫環境', '火災風險', '過度熱情', '火氣過旺'等\n",
        "\n",
        "[Response Format]\n",
        "\n",
        "您抽到的籤是: [Include 籤名 here]\n",
        "籤詩: [Include full 籤詩 here]\n",
        "\n",
        "籤詩解讀:\n",
        "\n",
        "小廟公建議:\n",
        "\n",
        "**ChatGPT 回應**\n",
        "\n",
        "您抽到的籤是: 第二十四首 - 下籤巳宮\n",
        "\n",
        "籤詩解讀: 此籤顯示財運受阻，行事需格外謹慎。籤文提醒您，不要執著於表面的現象或已有的偏見，必須深入分析問題的根源。財運上的障礙可能來自不充分的判斷或對建議的忽視。聽取親朋好友的忠告，避免獨斷專行，才能避免更大的損失。\n",
        "\n",
        "小廟公建議: 現階段不宜冒險投資或進行大的財務變動，應重視風險評估與求證。建議選擇上午 9 點至 11 點進行重要決策或行動，並尋求東南方的助力。五行屬火的行業或活動可能有一定幫助，但需注意火氣過旺引發的問題。請保持耐心，等待更有利的時機。\n",
        "\n",
        "不必擔心，調整心態，轉危為機！\n"
      ]
    },
    {
      "cell_type": "markdown",
      "metadata": {
        "id": "l2Ain23ollYJ"
      },
      "source": [
        "## Core integration functions\n",
        "\n",
        "Integrate with\n",
        "- Existing dataset (dataframe)\n",
        "- System Prompt\n",
        "- RAG Context\n",
        "- OpenAPI\n"
      ]
    },
    {
      "cell_type": "markdown",
      "metadata": {
        "id": "iqj3ytp4ZLFm"
      },
      "source": [
        "### TempleBase class\n"
      ]
    },
    {
      "cell_type": "code",
      "execution_count": null,
      "metadata": {
        "colab": {
          "base_uri": "https://localhost:8080/"
        },
        "id": "yHMBQ4ljj1u_",
        "outputId": "38ff9233-b3ab-473d-c9f5-53b10300cc4e"
      },
      "outputs": [
        {
          "name": "stdout",
          "output_type": "stream",
          "text": [
            "time: 2.09 ms (started: 2024-12-17 05:18:54 +00:00)\n"
          ]
        }
      ],
      "source": [
        "import typing\n",
        "from abc import ABC, abstractmethod\n",
        "\n",
        "from pandas import DataFrame\n",
        "\n",
        "TEMPERATURE = 0.75\n",
        "DEFAULT_OPENAI_MODEL = 'gpt-4o'  # Default OpenAI model\n",
        "DEFAULT_CLAUDE_MODEL = 'claude-3-5-sonnet-20241022'  # Default Claude model\n",
        "DEFAULT_TOKENS = 2048  # Default token limit\n",
        "\n",
        "\n",
        "class TempleBase(ABC):\n",
        "    \"\"\"\n",
        "    Base class for EpochDrawing.\n",
        "    Generate a large palette of visually distinct colors by combining multiple colormaps.\n",
        "    \"\"\"\n",
        "\n",
        "    def __init__(self, client: typing.Any) -> None:\n",
        "        \"\"\"Initialize the TempleBase with a client.\"\"\"\n",
        "        super().__init__()\n",
        "        self.client = client\n",
        "\n",
        "    @abstractmethod\n",
        "    def pray(\n",
        "        self,\n",
        "        df: DataFrame,\n",
        "        lot_idx: int,\n",
        "        prompt: str,\n",
        "        temperature: float = TEMPERATURE\n",
        "    ) -> list[typing.Tuple[str, str]]:\n",
        "        \"\"\"Call LLM to explain the poem (given a specific poem text).\"\"\"\n",
        "        raise NotImplementedError(\"Subclasses must implement this method\")\n",
        "\n",
        "    @abstractmethod\n",
        "    def _send_request(\n",
        "        self,\n",
        "        messages: list[dict[str, str]],\n",
        "        max_tokens: int,\n",
        "        temperature: float,\n",
        "        model: str = None\n",
        "    ) -> tuple[str, str]:  # (model_name, response)\n",
        "        \"\"\"Send a request to the LLM and return the response.\"\"\"\n",
        "        raise NotImplementedError(\"Subclasses must implement this method\")\n",
        "\n",
        "    def resolve_messages(\n",
        "        self,\n",
        "        df: DataFrame,\n",
        "        lot_idx: int,\n",
        "        prompt: str\n",
        "    ) -> list[str]:\n",
        "        \"\"\"Resolve messages for LLM interaction based on the provided DataFrame and prompt.\"\"\"\n",
        "\n",
        "        page_content = PoemUtil.format_rag_content(df=df, lot_idx=lot_idx)\n",
        "        if page_content is None:\n",
        "            page_content = '神明休息了, 請擇日再來!'\n",
        "\n",
        "        context = SYS_PROMPT_TPL.format(context=page_content)\n",
        "        messages = [\n",
        "            {'role': 'system', 'content': context},\n",
        "            {'role': 'user', 'content': prompt}\n",
        "        ]\n",
        "        return messages  # Return the constructed messages for LLM interaction"
      ]
    },
    {
      "cell_type": "markdown",
      "metadata": {
        "id": "eqDgU6-9YZ8b"
      },
      "source": [
        "### TempleOpenAI\n",
        "\n",
        "- openai models https://platform.openai.com/docs/models\n"
      ]
    },
    {
      "cell_type": "code",
      "execution_count": null,
      "metadata": {
        "colab": {
          "base_uri": "https://localhost:8080/"
        },
        "id": "UvFZ1jwLYYR4",
        "outputId": "f84da578-47cf-4148-bdab-c24e0b6e4bda"
      },
      "outputs": [
        {
          "name": "stdout",
          "output_type": "stream",
          "text": [
            "time: 2.12 ms (started: 2024-12-17 05:18:55 +00:00)\n"
          ]
        }
      ],
      "source": [
        "import os\n",
        "import typing\n",
        "\n",
        "from openai import OpenAI\n",
        "from pandas import DataFrame\n",
        "\n",
        "\n",
        "class TempleOpenAI(TempleBase):\n",
        "    \"\"\"OPENAI temple for interacting with OpenAI's API.\"\"\"\n",
        "\n",
        "    def __init__(self) -> None:\n",
        "        \"\"\"Initialize the TempleOpenAI with an OpenAI client.\"\"\"\n",
        "        client = OpenAI(\n",
        "            # Default API key from environment variable\n",
        "            api_key=os.environ.get('OPENAI_API_KEY')\n",
        "        )\n",
        "        super().__init__(client)\n",
        "        self.models: list[str] = ['gpt-4o']  # List of available models\n",
        "\n",
        "    def pray(\n",
        "        self,\n",
        "        df: DataFrame,\n",
        "        lot_idx: int,\n",
        "        prompt: str,\n",
        "        temperature: float = TEMPERATURE\n",
        "    ) -> list[typing.Tuple[str, str]]:\n",
        "        \"\"\"Call LLM to explain the poem (given a specific poem text).\"\"\"\n",
        "\n",
        "        print(f'{lot_idx=}')\n",
        "        messages = self.resolve_messages(df=df, lot_idx=lot_idx, prompt=prompt)\n",
        "        response = self._send_request(\n",
        "            messages=messages,\n",
        "            max_tokens=DEFAULT_TOKENS,\n",
        "            temperature=temperature,\n",
        "            model=self.models[0],\n",
        "        )\n",
        "        return [response]  # Return a list containing the response\n",
        "\n",
        "    def _send_request(\n",
        "        self,\n",
        "        messages: list[dict[str, str]],\n",
        "        max_tokens: int,\n",
        "        temperature: float,\n",
        "        model: str = None\n",
        "    ) -> tuple[str, str]: # (model_name, response)\n",
        "        \"\"\"Send a request to the LLM and return the response.\"\"\"\n",
        "\n",
        "        print(f'Sending request to {model}')\n",
        "        print(f'Messages: {messages}')\n",
        "        try:\n",
        "            response = self.client.chat.completions.create(\n",
        "                model=model or self.models[0],\n",
        "                max_tokens=max_tokens,\n",
        "                messages=messages,\n",
        "                temperature=temperature,\n",
        "            )\n",
        "            print(response)\n",
        "            return (model, response.choices[0].message.content.strip())\n",
        "        except Exception as e:\n",
        "            print(f'Error in {model}: {e}')\n",
        "            return (model, str(e))  # Return error message as string"
      ]
    },
    {
      "cell_type": "markdown",
      "metadata": {
        "id": "TkoQ1xOggyZq"
      },
      "source": [
        "### TempleAnthropic\n"
      ]
    },
    {
      "cell_type": "code",
      "execution_count": null,
      "metadata": {
        "colab": {
          "base_uri": "https://localhost:8080/"
        },
        "id": "fVi1PHGTg2Ub",
        "outputId": "b8ba556c-7e67-4ebb-feda-e78af6542bf3"
      },
      "outputs": [
        {
          "name": "stdout",
          "output_type": "stream",
          "text": [
            "time: 1.77 ms (started: 2024-12-17 05:18:55 +00:00)\n"
          ]
        }
      ],
      "source": [
        "import os\n",
        "import typing\n",
        "\n",
        "from anthropic import Anthropic\n",
        "from pandas import DataFrame\n",
        "\n",
        "\n",
        "class TempleAnthropic(TempleBase):\n",
        "    \"\"\"Anthropic temple for interacting with Anthropic's API.\"\"\"\n",
        "\n",
        "    def __init__(self) -> None:\n",
        "        \"\"\"Initialize the TempleAnthropic with an Anthropic client.\"\"\"\n",
        "        client = Anthropic(\n",
        "            # Default API key from environment variable\n",
        "            api_key=os.environ.get(\"ANTHROPIC_API_KEY\")\n",
        "        )\n",
        "        super().__init__(client)\n",
        "        # List of available models\n",
        "        self.models: list[str] = ['claude-3-5-sonnet-20241022']\n",
        "\n",
        "    def pray(\n",
        "        self,\n",
        "        df: DataFrame,\n",
        "        lot_idx: int,\n",
        "        prompt: str,\n",
        "        temperature: float = TEMPERATURE\n",
        "    ) -> list[typing.Tuple[str, str]]:\n",
        "        \"\"\"Call LLM to explain the poem (given a specific poem text).\"\"\"\n",
        "\n",
        "        print(f'{lot_idx=}')\n",
        "        messages = self.resolve_messages(df=df, lot_idx=lot_idx, prompt=prompt)\n",
        "        response = self._send_request(\n",
        "            messages=messages,\n",
        "            max_tokens=DEFAULT_TOKENS,\n",
        "            temperature=temperature,\n",
        "            model=self.models[0],\n",
        "        )\n",
        "        return [response]  # Return a list containing the response\n",
        "\n",
        "    def _send_request(\n",
        "        self,\n",
        "        messages: list[dict[str, str]],\n",
        "        max_tokens: int,\n",
        "        temperature: float,\n",
        "        model: str = None\n",
        "    ) -> tuple[str, str]: # (model_name, response)\n",
        "        \"\"\"Send a request to the LLM and return the response.\"\"\"\n",
        "\n",
        "        print(f'Sending request to {model}')  # Debugging statement\n",
        "        print(f'Messages: {messages}')  # Debugging statement\n",
        "        try:\n",
        "            system_prompt = next(\n",
        "                prompt for prompt in messages if prompt['role'] == 'system')['content']\n",
        "            user_messages = [\n",
        "                prompt for prompt in messages if prompt['role'] == 'user']\n",
        "\n",
        "            message = self.client.messages.create(\n",
        "                model=model or self.models[0],\n",
        "                max_tokens=max_tokens,\n",
        "                system=system_prompt,\n",
        "                messages=user_messages,\n",
        "                temperature=temperature,\n",
        "            )\n",
        "            print(message)  # Debugging statement\n",
        "            return (model, message.content[0].text.strip())\n",
        "        except Exception as e:\n",
        "            print(f'Error in {model}: {e}')\n",
        "            return (model, str(e))  # Return error message as string"
      ]
    },
    {
      "cell_type": "markdown",
      "metadata": {
        "id": "EZYCtm8lYsHN"
      },
      "source": [
        "### TempleSuite\n"
      ]
    },
    {
      "cell_type": "code",
      "execution_count": null,
      "metadata": {
        "colab": {
          "base_uri": "https://localhost:8080/"
        },
        "id": "XTMVAacbkpIN",
        "outputId": "c5572504-f363-413e-e381-7119ecfe1bdd"
      },
      "outputs": [
        {
          "name": "stdout",
          "output_type": "stream",
          "text": [
            "time: 1.44 ms (started: 2024-12-17 05:18:55 +00:00)\n"
          ]
        }
      ],
      "source": [
        "import typing\n",
        "\n",
        "import aisuite as ai\n",
        "from pandas import DataFrame\n",
        "\n",
        "\n",
        "class TempleSuite(TempleBase):\n",
        "    \"\"\"Hybrid (OpenAI, Anthropic) temples for interacting with multiple LLMs.\"\"\"\n",
        "\n",
        "    def __init__(self) -> None:\n",
        "        \"\"\"Initialize the TempleSuite with an AI client.\"\"\"\n",
        "        client = ai.Client()\n",
        "        super().__init__(client)\n",
        "        # List of available models\n",
        "        self.models: list[str] = [\"openai:gpt-4o\",\n",
        "                                  \"anthropic:claude-3-5-sonnet-20240620\"]\n",
        "\n",
        "    def pray(\n",
        "        self,\n",
        "        df: DataFrame,\n",
        "        lot_idx: int,\n",
        "        prompt: str,\n",
        "        model: str = None,  # Ignored in this implementation\n",
        "        temperature: float = TEMPERATURE\n",
        "    ) -> list[typing.Tuple[str, str]]:\n",
        "        \"\"\"Call LLMs to explain the poem (given a specific poem text).\"\"\"\n",
        "\n",
        "        print(f'{lot_idx=}')  # Debugging statement\n",
        "        messages = self.resolve_messages(df=df, lot_idx=lot_idx, prompt=prompt)\n",
        "        responses = []\n",
        "\n",
        "        for model in self.models:\n",
        "            response = self._send_request(\n",
        "                max_tokens=DEFAULT_TOKENS,\n",
        "                messages=messages,\n",
        "                temperature=temperature,\n",
        "                model=model,\n",
        "            )\n",
        "            responses.append(response)  # Collect responses from each model\n",
        "        return responses  # Return all collected responses\n",
        "\n",
        "    def _send_request(\n",
        "        self,\n",
        "        max_tokens: int,\n",
        "        messages: list[dict[str, str]],\n",
        "        temperature: float,\n",
        "        model: str\n",
        "    ) -> tuple[str, str]: # (model_name, response)\n",
        "        \"\"\"Send a request to the specified LLM and return the response.\"\"\"\n",
        "        try:\n",
        "            response = self.client.chat.completions.create(\n",
        "                model=model,\n",
        "                max_tokens=max_tokens,\n",
        "                messages=messages,\n",
        "                temperature=temperature,\n",
        "            )\n",
        "            print(response)  # Debugging statement\n",
        "            return (model, response.choices[0].message.content.strip())\n",
        "        except Exception as e:\n",
        "            print(f'Error in {model}: {e}')\n",
        "            return (model, str(e))  # Return error message as string"
      ]
    },
    {
      "cell_type": "markdown",
      "metadata": {
        "id": "cI4uzYTz9z6h"
      },
      "source": [
        "### TempleNeo4j\n"
      ]
    },
    {
      "cell_type": "code",
      "execution_count": null,
      "metadata": {
        "colab": {
          "base_uri": "https://localhost:8080/"
        },
        "id": "h0cnnWFA921u",
        "outputId": "d741fb44-fa29-433e-9023-0722be10aebb"
      },
      "outputs": [
        {
          "name": "stdout",
          "output_type": "stream",
          "text": [
            "time: 2.07 ms (started: 2024-12-17 05:18:55 +00:00)\n"
          ]
        }
      ],
      "source": [
        "import typing\n",
        "\n",
        "from pandas import DataFrame\n",
        "\n",
        "\n",
        "class TempleNeo4j(TempleBase):\n",
        "    \"\"\"Neo4j history for managing interactions with LLMs.\"\"\"\n",
        "\n",
        "    def __init__(self, driver: typing.Any) -> None:\n",
        "        \"\"\"Initialize the TempleNeo4j with a Neo4j driver.\"\"\"\n",
        "        super().__init__(driver)  # driver as a client\n",
        "        self.temples: list[dict[str, typing.Any]] = [\n",
        "            {\n",
        "                'client': TempleOpenAI(),\n",
        "                'model': DEFAULT_OPENAI_MODEL\n",
        "            },\n",
        "            {\n",
        "                'client': TempleAnthropic(),\n",
        "                'model': DEFAULT_CLAUDE_MODEL\n",
        "            }\n",
        "        ]\n",
        "\n",
        "    def pray(\n",
        "        self,\n",
        "        df: DataFrame,\n",
        "        lot_idx: int,\n",
        "        prompt: str,\n",
        "        temperature: float = TEMPERATURE\n",
        "    ) -> list[typing.Tuple[str, str]]:\n",
        "        \"\"\"Call LLMs to explain the poem (given a specific poem text).\"\"\"\n",
        "\n",
        "        print(f'{lot_idx=}')  # Debugging statement\n",
        "        responses = []\n",
        "        poem_number = lot_idx + 1\n",
        "\n",
        "        with self.client.session() as session:\n",
        "            try:\n",
        "                similar_prompts = Neo4jUtil.similarity_search_user_prompts(\n",
        "                    session=session,\n",
        "                    poem_number=poem_number,\n",
        "                    new_user_prompt=prompt,\n",
        "                    threshold=0.7,\n",
        "                    top_n=2\n",
        "                )\n",
        "                if similar_prompts and len(similar_prompts) > 0:\n",
        "                    for data in similar_prompts:\n",
        "                        responses.append(\n",
        "                            (data['llm_model'], data['llm_response'])\n",
        "                        )\n",
        "                    return responses  # Return responses from similar prompts\n",
        "            except Exception as e:\n",
        "                print(f'Error in Neo4j find_similar_prompts: {e}')\n",
        "\n",
        "        messages = self.resolve_messages(df=df, lot_idx=lot_idx, prompt=prompt)\n",
        "\n",
        "        for temple in self.temples:\n",
        "            response = temple['client']._send_request(\n",
        "                messages=messages,\n",
        "                max_tokens=DEFAULT_TOKENS,\n",
        "                temperature=temperature,\n",
        "                model=temple['model'],\n",
        "            )\n",
        "\n",
        "            if not response:\n",
        "                continue\n",
        "\n",
        "            responses.append(response)\n",
        "            with self.client.session() as session:\n",
        "                try:\n",
        "                    Neo4jUtil.update_poem_with_user_prompt(\n",
        "                        session=session,\n",
        "                        poem_number=poem_number,\n",
        "                        prompt=prompt,\n",
        "                        llm_response=response[1],\n",
        "                        model=response[0],\n",
        "                        temperature=temperature,\n",
        "                        max_tokens=DEFAULT_TOKENS,\n",
        "                    )\n",
        "                except Exception as e:\n",
        "                    print(f'Error in Neo4j store_related_information: {e}')\n",
        "        return responses  # Return all collected responses\n",
        "\n",
        "    def _send_request(\n",
        "        self,\n",
        "        messages: list[typing.Dict[str, str]],\n",
        "        max_tokens: int,\n",
        "        temperature: float,\n",
        "        model: str = None\n",
        "    ) -> typing.Tuple[str, str]: # (model_name, response)\n",
        "        \"\"\"Send a request to the specified LLM and return the response.\"\"\"\n",
        "        raise NotImplementedError(\"Subclasses must implement this method\")"
      ]
    },
    {
      "cell_type": "markdown",
      "metadata": {
        "id": "bNr4oCUrz_oN"
      },
      "source": [
        "## Connect to backend services\n"
      ]
    },
    {
      "cell_type": "markdown",
      "metadata": {
        "id": "8XFKKpbxzXYo"
      },
      "source": [
        "### Try system prompt\n"
      ]
    },
    {
      "cell_type": "code",
      "execution_count": null,
      "metadata": {
        "colab": {
          "base_uri": "https://localhost:8080/"
        },
        "id": "VwShB0TQ6LqR",
        "outputId": "bad4a214-87fd-4b2b-f70c-4d1a92f5945f"
      },
      "outputs": [
        {
          "name": "stdout",
          "output_type": "stream",
          "text": [
            "('You are an assistant specialized in interpreting divination results. Use the '\n",
            " 'following [Context] to provide insights and advice to users based on their '\n",
            " 'questions. Always format your responses according to the [Response Format] '\n",
            " 'below, ensuring personalized interpretations and actionable advice.\\n'\n",
            " '\\n'\n",
            " '\\n'\n",
            " '[Response Format] \\n'\n",
            " '您抽到的籤是: [Include 籤名 here] \\n'\n",
            " '籤詩: [Include full 籤詩 here] \\n'\n",
            " '\\n'\n",
            " '\\n'\n",
            " '籤詩解讀: \\n'\n",
            " '\\n'\n",
            " '\\n'\n",
            " '小廟公建議: \\n'\n",
            " '[Context] 籤名: 【下籤】中 第二首-姜太公渭水垂釣 \\n'\n",
            " '\\n'\n",
            " '\\n'\n",
            " '~籤詩~ \\n'\n",
            " '鯨魚未化守江湖     \\n'\n",
            " '未許升騰離碧波     \\n'\n",
            " '異日崢嶸身變態     \\n'\n",
            " '從教一躍禹門過     \\n'\n",
            " '\\n'\n",
            " '\\n'\n",
            " '此籤有\"守時待勢\"之意。意味當事人，隨遇而安。人的一生高低起伏，難免有不順遂的時候，若不如意的情況接踵而來，更易叫人灰心喪志。須知事在人為，切勿被一時的失意所打垮。此時煩躁冒失有害無益，切忌沉不住氣、衝動妄為。凡事保持心平氣和，忍一時風平浪靜。縱使遭人譏嘲誤解，只要知所當為，又何須耿耿於懷。不要放棄任何希望，凡事樂觀，相信自己並堅持到底，必有苦盡甘來、如願以償之日。\\n'\n",
            " '\\n'\n",
            " '\\n'\n",
            " '小廟公建議可參考聖意如下, 不需要全數給求籤者, 若有任何難或不利的訊號, 則建議小心慎重, 正向訊號則可達成! \\n'\n",
            " '關於家宅: 不安\\n'\n",
            " '關於自身: 還願\\n'\n",
            " '關於求財: 欠利\\n'\n",
            " '關於交易: 未指示\\n'\n",
            " '關於婚姻: 難\\n'\n",
            " '關於六甲: 作福\\n'\n",
            " '關於行人: 平安\\n'\n",
            " '關於田蠶: 吉\\n'\n",
            " '關於六畜: 不利\\n'\n",
            " '關於尋人: 見\\n'\n",
            " '關於公訟: 和\\n'\n",
            " '關於移徙: 去\\n'\n",
            " '關於失物: 東南\\n'\n",
            " '關於疾病: 祈保\\n'\n",
            " '關於山墳: 吉\\n'\n",
            " '\\n'\n",
            " '\\n'\n",
            " '潛在的指示為地支「子」, 也可給求籤者做相關提醒: \\n'\n",
            " ' - 地理位置代表北方 \\n'\n",
            " ' - 時間為晚上11點至凌晨1點 \\n'\n",
            " ' - 十二生肖對應為鼠, 機智、靈活, 適合從事需要快速反應的工作 \\n'\n",
            " ' - 五行為「水」, 水生木但水剋火, 若為上籤宜旅行, 水邊活動, 游泳, 學習水性, 水療按摩等, 若為下籤則注意游泳風險, 水邊活動安全, '\n",
            " '過度飲水, 水污染等 \\n'\n",
            " 'Guidelines: - Interpret the provided [Context] flexibly. The \"籤詩解讀\" should '\n",
            " \"connect the content of the divination with the user's question. - Use the \"\n",
            " '\"小廟公建議\" to provide specific, actionable guidance relevant to the question, '\n",
            " 'referencing details from the context where appropriate. - End with a short '\n",
            " 'phrase encouraging the user, alike \"Don\\'t worry\", \"Good luck\", etc. \\n'\n",
            " 'Note: If the length of the [Context] is less than 20 characters, provide the '\n",
            " 'full [Context] directly as a response without applying the [Response '\n",
            " 'Format].')\n",
            "time: 21.7 ms (started: 2024-12-17 04:21:38 +00:00)\n"
          ]
        }
      ],
      "source": [
        "test_num = 1  # The 2nd poem\n",
        "test_content = PoemUtil.format_rag_content(df=df_merged, lot_idx=test_num)\n",
        "test_system_prompt = SYS_PROMPT_TPL.format(context=test_content)\n",
        "pprint(test_system_prompt)"
      ]
    },
    {
      "cell_type": "markdown",
      "metadata": {
        "id": "i4J7Qb0Mqmhc"
      },
      "source": [
        "### Set environment variables\n"
      ]
    },
    {
      "cell_type": "code",
      "execution_count": null,
      "metadata": {
        "colab": {
          "base_uri": "https://localhost:8080/"
        },
        "id": "rPYLCXOxj0DY",
        "outputId": "dee93cab-4e16-4154-f5cc-127a01432d45"
      },
      "outputs": [
        {
          "name": "stdout",
          "output_type": "stream",
          "text": [
            "time: 2.1 s (started: 2024-12-17 04:21:42 +00:00)\n"
          ]
        }
      ],
      "source": [
        "import os\n",
        "\n",
        "# Protect your sensitive API_KEY, goto colab > secrets > add key\n",
        "from google.colab import userdata\n",
        "\n",
        "os.environ['OPENAI_API_KEY'] = userdata.get('open_ai_key_nycu')\n",
        "os.environ['ANTHROPIC_API_KEY'] = userdata.get('ANTHROPIC_API_KEY')"
      ]
    },
    {
      "cell_type": "markdown",
      "metadata": {
        "id": "6nk6jBhkIiT5"
      },
      "source": [
        "### Connect to neo4j\n"
      ]
    },
    {
      "cell_type": "code",
      "execution_count": null,
      "metadata": {
        "colab": {
          "base_uri": "https://localhost:8080/"
        },
        "id": "QBpcdpnzhktn",
        "outputId": "5581bb66-ebe9-4c76-c79f-20cd9e6f683f"
      },
      "outputs": [
        {
          "name": "stdout",
          "output_type": "stream",
          "text": [
            "1\n",
            "Connection successful!\n",
            "time: 162 ms (started: 2024-12-17 04:21:47 +00:00)\n"
          ]
        }
      ],
      "source": [
        "import os\n",
        "\n",
        "from google.colab import userdata\n",
        "from neo4j import Driver, GraphDatabase\n",
        "\n",
        "if not os.environ.get('NEO4J_AUTH'):\n",
        "    os.environ['NEO4J_AUTH'] = userdata.get('NEO4J_SANDBOX_nycu')\n",
        "    os.environ['NEO4J_URL'] = userdata.get('NEO4J_SANDBOX_url')\n",
        "\n",
        "if not os.environ.get('NEO4J_AUTH') or not os.environ.get('NEO4J_URL'):\n",
        "    raise ValueError(\n",
        "        'Please set the NEO4J_AUTH and URL environment variables.')\n",
        "\n",
        "driver: Driver = GraphDatabase.driver(\n",
        "    os.environ.get('NEO4J_URL'),\n",
        "    auth=('neo4j', os.environ.get('NEO4J_AUTH'))\n",
        ")\n",
        "\n",
        "Neo4jUtil.test_neo4j_connection(driver)"
      ]
    },
    {
      "cell_type": "markdown",
      "metadata": {
        "id": "a1dc_U2a1Q1e"
      },
      "source": [
        "### Test neo4j\n"
      ]
    },
    {
      "cell_type": "code",
      "execution_count": null,
      "metadata": {
        "colab": {
          "base_uri": "https://localhost:8080/"
        },
        "id": "z1Fq1VrZIgOe",
        "outputId": "4a1d3a5e-f73c-4b9b-ac3e-172b7d2d2e18"
      },
      "outputs": [
        {
          "name": "stdout",
          "output_type": "stream",
          "text": [
            "<Record prompt_text='最近身體欠佳, 請給予指示' LLM=[<Node element_id='4:c7659caf-56a1-4098-b619-932192c2b6b8:2093' labels=frozenset({'LLM'}) properties={'max_tokens': 512, 'temperature': 0.25, 'model': 'gpt-4o'}>, <Node element_id='4:c7659caf-56a1-4098-b619-932192c2b6b8:2095' labels=frozenset({'LLM'}) properties={'max_tokens': 512, 'temperature': 0.5, 'model': 'gpt-4o'}>, <Node element_id='4:c7659caf-56a1-4098-b619-932192c2b6b8:2097' labels=frozenset({'LLM'}) properties={'max_tokens': 512, 'temperature': 0.75, 'model': 'gpt-4o'}>, <Node element_id='4:c7659caf-56a1-4098-b619-932192c2b6b8:2099' labels=frozenset({'LLM'}) properties={'max_tokens': 512, 'temperature': 0.9, 'model': 'gpt-4o'}>, <Node element_id='4:c7659caf-56a1-4098-b619-932192c2b6b8:2105' labels=frozenset({'LLM'}) properties={'max_tokens': 1024, 'temperature': 0.25, 'model': 'gpt-4o'}>, <Node element_id='4:c7659caf-56a1-4098-b619-932192c2b6b8:2107' labels=frozenset({'LLM'}) properties={'max_tokens': 1024, 'temperature': 0.5, 'model': 'gpt-4o'}>, <Node element_id='4:c7659caf-56a1-4098-b619-932192c2b6b8:2109' labels=frozenset({'LLM'}) properties={'max_tokens': 1024, 'temperature': 0.75, 'model': 'gpt-4o'}>, <Node element_id='4:c7659caf-56a1-4098-b619-932192c2b6b8:2111' labels=frozenset({'LLM'}) properties={'max_tokens': 1024, 'temperature': 0.9, 'model': 'gpt-4o'}>, <Node element_id='4:c7659caf-56a1-4098-b619-932192c2b6b8:2113' labels=frozenset({'LLM'}) properties={'max_tokens': 2048, 'temperature': 0.25, 'model': 'gpt-4o'}>, <Node element_id='4:c7659caf-56a1-4098-b619-932192c2b6b8:2115' labels=frozenset({'LLM'}) properties={'max_tokens': 2048, 'temperature': 0.5, 'model': 'gpt-4o'}>, <Node element_id='4:c7659caf-56a1-4098-b619-932192c2b6b8:2117' labels=frozenset({'LLM'}) properties={'max_tokens': 2048, 'temperature': 0.75, 'model': 'gpt-4o'}>, <Node element_id='4:c7659caf-56a1-4098-b619-932192c2b6b8:2119' labels=frozenset({'LLM'}) properties={'max_tokens': 2048, 'temperature': 0.9, 'model': 'gpt-4o'}>, <Node element_id='4:c7659caf-56a1-4098-b619-932192c2b6b8:2121' labels=frozenset({'LLM'}) properties={'max_tokens': 512, 'temperature': 0.25, 'model': 'gpt-4o-mini'}>, <Node element_id='4:c7659caf-56a1-4098-b619-932192c2b6b8:2123' labels=frozenset({'LLM'}) properties={'max_tokens': 512, 'temperature': 0.5, 'model': 'gpt-4o-mini'}>, <Node element_id='4:c7659caf-56a1-4098-b619-932192c2b6b8:2125' labels=frozenset({'LLM'}) properties={'max_tokens': 512, 'temperature': 0.75, 'model': 'gpt-4o-mini'}>, <Node element_id='4:c7659caf-56a1-4098-b619-932192c2b6b8:2127' labels=frozenset({'LLM'}) properties={'max_tokens': 512, 'temperature': 0.9, 'model': 'gpt-4o-mini'}>, <Node element_id='4:c7659caf-56a1-4098-b619-932192c2b6b8:2133' labels=frozenset({'LLM'}) properties={'max_tokens': 1024, 'temperature': 0.25, 'model': 'gpt-4o-mini'}>, <Node element_id='4:c7659caf-56a1-4098-b619-932192c2b6b8:2135' labels=frozenset({'LLM'}) properties={'max_tokens': 1024, 'temperature': 0.5, 'model': 'gpt-4o-mini'}>, <Node element_id='4:c7659caf-56a1-4098-b619-932192c2b6b8:2137' labels=frozenset({'LLM'}) properties={'max_tokens': 1024, 'temperature': 0.75, 'model': 'gpt-4o-mini'}>, <Node element_id='4:c7659caf-56a1-4098-b619-932192c2b6b8:2139' labels=frozenset({'LLM'}) properties={'max_tokens': 1024, 'temperature': 0.9, 'model': 'gpt-4o-mini'}>, <Node element_id='4:c7659caf-56a1-4098-b619-932192c2b6b8:2141' labels=frozenset({'LLM'}) properties={'max_tokens': 2048, 'temperature': 0.25, 'model': 'gpt-4o-mini'}>, <Node element_id='4:c7659caf-56a1-4098-b619-932192c2b6b8:2143' labels=frozenset({'LLM'}) properties={'max_tokens': 2048, 'temperature': 0.5, 'model': 'gpt-4o-mini'}>, <Node element_id='4:c7659caf-56a1-4098-b619-932192c2b6b8:2145' labels=frozenset({'LLM'}) properties={'max_tokens': 2048, 'temperature': 0.75, 'model': 'gpt-4o-mini'}>, <Node element_id='4:c7659caf-56a1-4098-b619-932192c2b6b8:2147' labels=frozenset({'LLM'}) properties={'max_tokens': 2048, 'temperature': 0.9, 'model': 'gpt-4o-mini'}>, <Node element_id='4:c7659caf-56a1-4098-b619-932192c2b6b8:2149' labels=frozenset({'LLM'}) properties={'max_tokens': 512, 'temperature': 0.25, 'model': 'claude-3-5-sonnet-20241022'}>, <Node element_id='4:c7659caf-56a1-4098-b619-932192c2b6b8:2151' labels=frozenset({'LLM'}) properties={'max_tokens': 512, 'temperature': 0.5, 'model': 'claude-3-5-sonnet-20241022'}>, <Node element_id='4:c7659caf-56a1-4098-b619-932192c2b6b8:2153' labels=frozenset({'LLM'}) properties={'max_tokens': 512, 'temperature': 0.75, 'model': 'claude-3-5-sonnet-20241022'}>, <Node element_id='4:c7659caf-56a1-4098-b619-932192c2b6b8:2155' labels=frozenset({'LLM'}) properties={'max_tokens': 512, 'temperature': 0.9, 'model': 'claude-3-5-sonnet-20241022'}>, <Node element_id='4:c7659caf-56a1-4098-b619-932192c2b6b8:2157' labels=frozenset({'LLM'}) properties={'max_tokens': 1024, 'temperature': 0.25, 'model': 'claude-3-5-sonnet-20241022'}>, <Node element_id='4:c7659caf-56a1-4098-b619-932192c2b6b8:2159' labels=frozenset({'LLM'}) properties={'max_tokens': 1024, 'temperature': 0.5, 'model': 'claude-3-5-sonnet-20241022'}>, <Node element_id='4:c7659caf-56a1-4098-b619-932192c2b6b8:2161' labels=frozenset({'LLM'}) properties={'max_tokens': 1024, 'temperature': 0.75, 'model': 'claude-3-5-sonnet-20241022'}>, <Node element_id='4:c7659caf-56a1-4098-b619-932192c2b6b8:2163' labels=frozenset({'LLM'}) properties={'max_tokens': 1024, 'temperature': 0.9, 'model': 'claude-3-5-sonnet-20241022'}>, <Node element_id='4:c7659caf-56a1-4098-b619-932192c2b6b8:2165' labels=frozenset({'LLM'}) properties={'max_tokens': 2048, 'temperature': 0.25, 'model': 'claude-3-5-sonnet-20241022'}>, <Node element_id='4:c7659caf-56a1-4098-b619-932192c2b6b8:2167' labels=frozenset({'LLM'}) properties={'max_tokens': 2048, 'temperature': 0.5, 'model': 'claude-3-5-sonnet-20241022'}>, <Node element_id='4:c7659caf-56a1-4098-b619-932192c2b6b8:2169' labels=frozenset({'LLM'}) properties={'max_tokens': 2048, 'temperature': 0.75, 'model': 'claude-3-5-sonnet-20241022'}>, <Node element_id='4:c7659caf-56a1-4098-b619-932192c2b6b8:2171' labels=frozenset({'LLM'}) properties={'max_tokens': 2048, 'temperature': 0.9, 'model': 'claude-3-5-sonnet-20241022'}>, <Node element_id='4:c7659caf-56a1-4098-b619-932192c2b6b8:2173' labels=frozenset({'LLM'}) properties={'max_tokens': 512, 'temperature': 0.25, 'model': 'claude-3-opus-20240229'}>, <Node element_id='4:c7659caf-56a1-4098-b619-932192c2b6b8:2175' labels=frozenset({'LLM'}) properties={'max_tokens': 512, 'temperature': 0.5, 'model': 'claude-3-opus-20240229'}>, <Node element_id='4:c7659caf-56a1-4098-b619-932192c2b6b8:2177' labels=frozenset({'LLM'}) properties={'max_tokens': 512, 'temperature': 0.75, 'model': 'claude-3-opus-20240229'}>, <Node element_id='4:c7659caf-56a1-4098-b619-932192c2b6b8:2179' labels=frozenset({'LLM'}) properties={'max_tokens': 512, 'temperature': 0.9, 'model': 'claude-3-opus-20240229'}>, <Node element_id='4:c7659caf-56a1-4098-b619-932192c2b6b8:2181' labels=frozenset({'LLM'}) properties={'max_tokens': 1024, 'temperature': 0.25, 'model': 'claude-3-opus-20240229'}>, <Node element_id='4:c7659caf-56a1-4098-b619-932192c2b6b8:2183' labels=frozenset({'LLM'}) properties={'max_tokens': 1024, 'temperature': 0.5, 'model': 'claude-3-opus-20240229'}>, <Node element_id='4:c7659caf-56a1-4098-b619-932192c2b6b8:2185' labels=frozenset({'LLM'}) properties={'max_tokens': 1024, 'temperature': 0.75, 'model': 'claude-3-opus-20240229'}>, <Node element_id='4:c7659caf-56a1-4098-b619-932192c2b6b8:2187' labels=frozenset({'LLM'}) properties={'max_tokens': 1024, 'temperature': 0.9, 'model': 'claude-3-opus-20240229'}>, <Node element_id='4:c7659caf-56a1-4098-b619-932192c2b6b8:2189' labels=frozenset({'LLM'}) properties={'max_tokens': 2048, 'temperature': 0.25, 'model': 'claude-3-opus-20240229'}>, <Node element_id='4:c7659caf-56a1-4098-b619-932192c2b6b8:2191' labels=frozenset({'LLM'}) properties={'max_tokens': 2048, 'temperature': 0.5, 'model': 'claude-3-opus-20240229'}>, <Node element_id='4:c7659caf-56a1-4098-b619-932192c2b6b8:2193' labels=frozenset({'LLM'}) properties={'max_tokens': 2048, 'temperature': 0.75, 'model': 'claude-3-opus-20240229'}>, <Node element_id='4:c7659caf-56a1-4098-b619-932192c2b6b8:2195' labels=frozenset({'LLM'}) properties={'max_tokens': 2048, 'temperature': 0.9, 'model': 'claude-3-opus-20240229'}>]>\n",
            "[<Record similarity=0.4624523005477885 user_prompt='最近身體欠佳, 請給予指示' llm_response='您抽到的籤是: 【中籤】中中 第五十八首-羅隱歸咎越王  \\n籤詩: 忠言善語君須記 莫向他方求別藝 勸君安守舊生涯 除卻有餘都不是  \\n\\n籤詩解讀:  \\n這首籤詩提醒您要謹記忠言善語，尤其在健康方面，應該聽取專業醫生的建議，不要輕易嘗試不熟悉的療法或偏方。當前的狀況建議您保持現有的生活方式，避免過度勞累或嘗試新的激烈活動，以免加重身體負擔。\\n\\n小廟公建議:  \\n- 關於自身: 目前健康狀況不利，建議您多休息，並定期檢查身體狀況。\\n- 關於疾病: 欠安，應該及早就醫，並遵循醫囑。\\n- 地支「丑」的指示提醒您，像牛一樣勤奮但穩重，適合從事需要耐力和毅力的工作，但在健康方面，應避免過度勞累。\\n\\n請保持樂觀，並相信在專業的指導下，您的健康會逐漸好轉。祝您早日康復！' llm_model='gpt-4o' llm_temperature=0.25 llm_max_tokens=512>]\n",
            "lot_idx=57\n",
            "Sending request to gpt-4o\n",
            "Messages: [{'role': 'system', 'content': 'You are an assistant specialized in interpreting divination results. Use the following [Context] to provide insights and advice to users based on their questions. Always format your responses according to the [Response Format] below, ensuring personalized interpretations and actionable advice.\\n\\n\\n[Response Format] \\n您抽到的籤是: [Include 籤名 here] \\n籤詩: [Include full 籤詩 here] \\n\\n\\n籤詩解讀: \\n\\n\\n小廟公建議: \\n[Context] 籤名: 【中籤】中中 第五十八首-羅隱歸咎越王 \\n\\n\\n~籤詩~ \\n忠言善語君須記     \\n莫向他方求別藝     \\n勸君安守舊生涯     \\n除卻有餘都不是     \\n\\n\\n此籤有\"虛心求教\"之意。告誡當事人，勿恃才傲物。有些人因為本身才氣縱橫而自視甚高，因此目空一切，對於身邊的人事物，也常看不上眼，甚至語多譏諷、一派自以為是，非不得已，決不向他人求教。須知過於剛硬的個性會帶給別人不悅的感受而容易導致處處碰壁，如果能夠正視並收斂此種狂放自傲的個性，凡事虛心下問，加上本身的才華與能力，相信成就一定不只於此。對於身邊親朋好友的勸告，務必聽進心裡去，想一想別人為什麽這麽說。\\n\\n\\n小廟公建議可參考聖意如下, 不需要全數給求籤者, 若有任何難或不利的訊號, 則建議小心慎重, 正向訊號則可達成! \\n關於家宅: 平常\\n關於自身: 不利\\n關於求財: 吉\\n關於交易: 成\\n關於婚姻: 阻\\n關於六甲: 驚\\n關於行人: 遲\\n關於田蠶: 五分\\n關於六畜: 損\\n關於尋人: 見\\n關於公訟: 虧\\n關於移徙: 守舊\\n關於失物: 凶\\n關於疾病: 欠安\\n關於山墳: 宜改\\n\\n\\n潛在的指示為地支「丑」, 也可給求籤者做相關提醒: \\n - 地理位置代表東北 \\n - 時間為凌晨1點至3點 \\n - 十二生肖對應為牛, 勤奮、穩重, 適合從事需要耐力和毅力的工作 \\n - 五行為「土」, 土生金但土剋水, 若為上籤宜土地耕作, 建築設計, 學習歷史, 穩定工作, 家庭聚會等, 若為下籤則注意過度勞累, 土石傷害, 過度保守, 環境破壞等 \\nGuidelines: - Interpret the provided [Context] flexibly. The \"籤詩解讀\" should connect the content of the divination with the user\\'s question. - Use the \"小廟公建議\" to provide specific, actionable guidance relevant to the question, referencing details from the context where appropriate. - End with a short phrase encouraging the user, alike \"Don\\'t worry\", \"Good luck\", etc. \\nNote: If the length of the [Context] is less than 20 characters, provide the full [Context] directly as a response without applying the [Response Format].'}, {'role': 'user', 'content': '健康'}]\n",
            "ChatCompletion(id='chatcmpl-AfJPzrPBoBq4MazEu1guCyvIesJfq', choices=[Choice(finish_reason='stop', index=0, logprobs=None, message=ChatCompletionMessage(content='您抽到的籤是: 【中籤】中中 第五十八首-羅隱歸咎越王  \\n籤詩: 忠言善語君須記 莫向他方求別藝 勸君安守舊生涯 除卻有餘都不是  \\n\\n籤詩解讀:  \\n這籤詩提醒您在健康方面應該保持現有的生活方式，並聽取專業健康建議和身邊人的忠告。不要輕易嘗試未經證實的療法或偏方，保持簡單和已有的健康習慣是最好的政策。注意聆聽醫生或健康專家的建議，這樣能幫助您維持健康狀態。\\n\\n小廟公建議:  \\n在健康方面，這籤提示您要注意自身健康狀況，特別是在感覺不適或有健康問題時，應該及早求醫。籤詩顯示您目前的健康狀態「欠安」，建議您保持規律的生活作息和飲食習慣，避免過度勞累。若面臨健康困擾，不要獨自承擔，與家人或朋友分享您的狀況可能會帶來幫助。此外，考慮進一步檢查或調整飲食與運動計劃，以確保身體健康。\\n\\n不要擔心，保持樂觀心態，有助於改善健康！', refusal=None, role='assistant', audio=None, function_call=None, tool_calls=None))], created=1734409455, model='gpt-4o-2024-08-06', object='chat.completion', service_tier=None, system_fingerprint='fp_9faba9f038', usage=CompletionUsage(completion_tokens=343, prompt_tokens=850, total_tokens=1193, completion_tokens_details=CompletionTokensDetails(accepted_prediction_tokens=0, audio_tokens=0, reasoning_tokens=0, rejected_prediction_tokens=0), prompt_tokens_details=PromptTokensDetails(audio_tokens=0, cached_tokens=0)))\n",
            "Added a promt to the poem successfully!\n",
            "Sending request to claude-3-5-sonnet-20241022\n",
            "Messages: [{'role': 'system', 'content': 'You are an assistant specialized in interpreting divination results. Use the following [Context] to provide insights and advice to users based on their questions. Always format your responses according to the [Response Format] below, ensuring personalized interpretations and actionable advice.\\n\\n\\n[Response Format] \\n您抽到的籤是: [Include 籤名 here] \\n籤詩: [Include full 籤詩 here] \\n\\n\\n籤詩解讀: \\n\\n\\n小廟公建議: \\n[Context] 籤名: 【中籤】中中 第五十八首-羅隱歸咎越王 \\n\\n\\n~籤詩~ \\n忠言善語君須記     \\n莫向他方求別藝     \\n勸君安守舊生涯     \\n除卻有餘都不是     \\n\\n\\n此籤有\"虛心求教\"之意。告誡當事人，勿恃才傲物。有些人因為本身才氣縱橫而自視甚高，因此目空一切，對於身邊的人事物，也常看不上眼，甚至語多譏諷、一派自以為是，非不得已，決不向他人求教。須知過於剛硬的個性會帶給別人不悅的感受而容易導致處處碰壁，如果能夠正視並收斂此種狂放自傲的個性，凡事虛心下問，加上本身的才華與能力，相信成就一定不只於此。對於身邊親朋好友的勸告，務必聽進心裡去，想一想別人為什麽這麽說。\\n\\n\\n小廟公建議可參考聖意如下, 不需要全數給求籤者, 若有任何難或不利的訊號, 則建議小心慎重, 正向訊號則可達成! \\n關於家宅: 平常\\n關於自身: 不利\\n關於求財: 吉\\n關於交易: 成\\n關於婚姻: 阻\\n關於六甲: 驚\\n關於行人: 遲\\n關於田蠶: 五分\\n關於六畜: 損\\n關於尋人: 見\\n關於公訟: 虧\\n關於移徙: 守舊\\n關於失物: 凶\\n關於疾病: 欠安\\n關於山墳: 宜改\\n\\n\\n潛在的指示為地支「丑」, 也可給求籤者做相關提醒: \\n - 地理位置代表東北 \\n - 時間為凌晨1點至3點 \\n - 十二生肖對應為牛, 勤奮、穩重, 適合從事需要耐力和毅力的工作 \\n - 五行為「土」, 土生金但土剋水, 若為上籤宜土地耕作, 建築設計, 學習歷史, 穩定工作, 家庭聚會等, 若為下籤則注意過度勞累, 土石傷害, 過度保守, 環境破壞等 \\nGuidelines: - Interpret the provided [Context] flexibly. The \"籤詩解讀\" should connect the content of the divination with the user\\'s question. - Use the \"小廟公建議\" to provide specific, actionable guidance relevant to the question, referencing details from the context where appropriate. - End with a short phrase encouraging the user, alike \"Don\\'t worry\", \"Good luck\", etc. \\nNote: If the length of the [Context] is less than 20 characters, provide the full [Context] directly as a response without applying the [Response Format].'}, {'role': 'user', 'content': '健康'}]\n",
            "Message(id='msg_01SEZsNR5JyM7JuDWZAmeb8t', content=[TextBlock(text='您抽到的籤是: 【中籤】中中 第五十八首-羅隱歸咎越王\\n\\n籤詩:\\n忠言善語君須記     \\n莫向他方求別藝     \\n勸君安守舊生涯     \\n除卻有餘都不是     \\n\\n籤詩解讀:\\n就健康而言，這支籤提醒您要特別注意聽從醫生和親友的建議。籤詩中提到「忠言善語君須記」，暗示您可能最近對健康問題有些固執己見，不太願意接受他人的建議。「安守舊生涯」則是提醒您要回歸基本的健康生活方式，不要總是尋求偏方或是嘗試未經證實的療法。\\n\\n小廟公建議:\\n1. 籤詩顯示「疾病欠安」，建議及早就醫診治，不要拖延\\n2. 時辰在凌晨1-3點，要特別注意作息規律，保持充足睡眠\\n3. 地支屬「丑」，與脾胃有關，建議：\\n   - 注意飲食規律，避免暴飲暴食\\n   - 保持適度運動，但不要過度勞累\\n   - 多食用養胃的食物，避免刺激性食物\\n4. 若正在接受治療，要遵醫囑按時服藥，不建議隨意更換療法\\n5. 可以考慮進行健康檢查，及早發現潛在問題\\n\\n別擔心，只要按部就班照顧好自己的身體，保持規律的生活作息，健康自然會慢慢改善！', type='text')], model='claude-3-5-sonnet-20241022', role='assistant', stop_reason='end_turn', stop_sequence=None, type='message', usage=Usage(input_tokens=992, output_tokens=502))\n",
            "Added a promt to the poem successfully!\n",
            "gpt-4o 您抽到的籤是: 【中籤】中中 第五十八首-羅隱歸咎越王  \n",
            "籤詩: 忠言善語君須記 莫向他方求別藝 勸君安守舊生涯 除卻有餘都不是  \n",
            "\n",
            "籤詩解讀:  \n",
            "這籤詩提醒您在健康方面應該保持現有的生活方式，並聽取專業健康建議和身邊人的忠告。不要輕易嘗試未經證實的療法或偏方，保持簡單和已有的健康習慣是最好的政策。注意聆聽醫生或健康專家的建議，這樣能幫助您維持健康狀態。\n",
            "\n",
            "小廟公建議:  \n",
            "在健康方面，這籤提示您要注意自身健康狀況，特別是在感覺不適或有健康問題時，應該及早求醫。籤詩顯示您目前的健康狀態「欠安」，建議您保持規律的生活作息和飲食習慣，避免過度勞累。若面臨健康困擾，不要獨自承擔，與家人或朋友分享您的狀況可能會帶來幫助。此外，考慮進一步檢查或調整飲食與運動計劃，以確保身體健康。\n",
            "\n",
            "不要擔心，保持樂觀心態，有助於改善健康！\n",
            "claude-3-5-sonnet-20241022 您抽到的籤是: 【中籤】中中 第五十八首-羅隱歸咎越王\n",
            "\n",
            "籤詩:\n",
            "忠言善語君須記     \n",
            "莫向他方求別藝     \n",
            "勸君安守舊生涯     \n",
            "除卻有餘都不是     \n",
            "\n",
            "籤詩解讀:\n",
            "就健康而言，這支籤提醒您要特別注意聽從醫生和親友的建議。籤詩中提到「忠言善語君須記」，暗示您可能最近對健康問題有些固執己見，不太願意接受他人的建議。「安守舊生涯」則是提醒您要回歸基本的健康生活方式，不要總是尋求偏方或是嘗試未經證實的療法。\n",
            "\n",
            "小廟公建議:\n",
            "1. 籤詩顯示「疾病欠安」，建議及早就醫診治，不要拖延\n",
            "2. 時辰在凌晨1-3點，要特別注意作息規律，保持充足睡眠\n",
            "3. 地支屬「丑」，與脾胃有關，建議：\n",
            "   - 注意飲食規律，避免暴飲暴食\n",
            "   - 保持適度運動，但不要過度勞累\n",
            "   - 多食用養胃的食物，避免刺激性食物\n",
            "4. 若正在接受治療，要遵醫囑按時服藥，不建議隨意更換療法\n",
            "5. 可以考慮進行健康檢查，及早發現潛在問題\n",
            "\n",
            "別擔心，只要按部就班照顧好自己的身體，保持規律的生活作息，健康自然會慢慢改善！\n",
            "time: 16.6 s (started: 2024-12-17 04:24:14 +00:00)\n"
          ]
        }
      ],
      "source": [
        "# Testing API\n",
        "test_num = 57\n",
        "test_prompt = '健康'\n",
        "neo4j_temple = TempleNeo4j(driver)\n",
        "current_driver = driver\n",
        "\n",
        "if True:\n",
        "    with current_driver.session() as session:\n",
        "        test_query = \"\"\"\n",
        "        MATCH (p:Poem {number: $number})-[:HAS_PROMPT]->(up:UserPrompt)\n",
        "        OPTIONAL MATCH (up)-[:GENERATED_BY]->(llm:LLM)\n",
        "        RETURN up.text AS prompt_text,\n",
        "               COLLECT(DISTINCT llm) AS LLM\n",
        "        LIMIT 1\n",
        "        \"\"\"\n",
        "        test_result = session.run(test_query, {'number': test_num}).single()\n",
        "        print(test_result)\n",
        "\n",
        "if True:\n",
        "    with current_driver.session() as session:\n",
        "        test_similar_prompts = Neo4jUtil.similarity_search_user_prompts(\n",
        "            session=session,\n",
        "            poem_number=test_num,\n",
        "            new_user_prompt=test_prompt,\n",
        "            threshold=0.1,\n",
        "            top_n=1\n",
        "        )\n",
        "        pprint(test_similar_prompts)\n",
        "\n",
        "if False:\n",
        "    test_responses = neo4j_temple.pray(\n",
        "        df=df_merged,\n",
        "        lot_idx=test_num,\n",
        "        prompt=test_prompt,\n",
        "        temperature=TEMPERATURE,\n",
        "    )\n",
        "\n",
        "    for test_model_name, test_response in test_responses:\n",
        "        print(test_model_name, test_response)"
      ]
    },
    {
      "cell_type": "markdown",
      "metadata": {
        "id": "RG4viK_be05Z"
      },
      "source": [
        "### Test openai\n"
      ]
    },
    {
      "cell_type": "code",
      "execution_count": null,
      "metadata": {
        "colab": {
          "base_uri": "https://localhost:8080/"
        },
        "id": "YsyyUYMZe2ll",
        "outputId": "a297ea11-a0d2-47de-c216-940682ceacfc"
      },
      "outputs": [
        {
          "name": "stdout",
          "output_type": "stream",
          "text": [
            "lot_idx=0\n",
            "Sending request to gpt-4o\n",
            "Messages: [{'role': 'system', 'content': 'You are an assistant specialized in interpreting divination results. Use the following [Context] to provide insights and advice to users based on their questions. Always format your responses according to the [Response Format] below, ensuring personalized interpretations and actionable advice.\\n\\n\\n[Response Format] \\n您抽到的籤是: [Include 籤名 here] \\n籤詩: [Include full 籤詩 here] \\n\\n\\n籤詩解讀: \\n\\n\\n小廟公建議: \\n[Context] 籤名: 【上籤】上上 第一首-宋太祖黃袍加身 \\n\\n\\n~籤詩~ \\n天開地闢結良緣     \\n日吉時良萬事全     \\n若得此籤非小可     \\n人行中正帝王宣     \\n\\n\\n此籤有\"謀事在人\"之意。提醒當事人，未雨綢繆。會成功的人，除了本身的努力進取之外，對將來的一切，也早已預先考慮且準備周詳。須知每個人的頭上都有一片天，成敗操之在己。平日穩紮穩打、厚實基礎，更不間斷地充實自我，為將來預作準備。凡事深謀遠慮、從長計畫，對於身邊親朋好友的建議，不妨虛心接受。等到時機成熟之時，亦是準備充足之時，自可從容不迫，滿載而歸。\\n\\n\\n小廟公建議可參考聖意如下, 不需要全數給求籤者, 若有任何難或不利的訊號, 則建議小心慎重, 正向訊號則可達成! \\n關於家宅: 祈福\\n關於自身: 秋冬大利\\n關於求財: 秋冬大利\\n關於交易: 成\\n關於婚姻: 成\\n關於六甲: 生男\\n關於行人: 至\\n關於田蠶: 好\\n關於六畜: 好\\n關於尋人: 見\\n關於公訟: 吉\\n關於移徙: 未指示\\n關於失物: 東北\\n關於疾病: 設送\\n關於山墳: 吉\\n\\n\\n潛在的指示為地支「子」, 也可給求籤者做相關提醒: \\n - 地理位置代表北方 \\n - 時間為晚上11點至凌晨1點 \\n - 十二生肖對應為鼠, 機智、靈活, 適合從事需要快速反應的工作 \\n - 五行為「水」, 水生木但水剋火, 若為上籤宜旅行, 水邊活動, 游泳, 學習水性, 水療按摩等, 若為下籤則注意游泳風險, 水邊活動安全, 過度飲水, 水污染等 \\nGuidelines: - Interpret the provided [Context] flexibly. The \"籤詩解讀\" should connect the content of the divination with the user\\'s question. - Use the \"小廟公建議\" to provide specific, actionable guidance relevant to the question, referencing details from the context where appropriate. - End with a short phrase encouraging the user, alike \"Don\\'t worry\", \"Good luck\", etc. \\nNote: If the length of the [Context] is less than 20 characters, provide the full [Context] directly as a response without applying the [Response Format].'}, {'role': 'user', 'content': '求財'}]\n",
            "ChatCompletion(id='chatcmpl-AfJQGk9bFlbfh7PeWhsWWnP2ksMMT', choices=[Choice(finish_reason='stop', index=0, logprobs=None, message=ChatCompletionMessage(content='您抽到的籤是: 【上籤】上上 第一首-宋太祖黃袍加身  \\n籤詩:  \\n天開地闢結良緣  \\n日吉時良萬事全  \\n若得此籤非小可  \\n人行中正帝王宣  \\n\\n籤詩解讀:  \\n這支籤詩暗示著在求財方面，您正處於一個非常有利的階段。天時地利人和，似乎一切條件都已經為您準備好。這是一個值得珍惜的時機，您過去的努力和謀劃將會在此時得到回報。謹慎地計劃和執行您的財務計劃，並且不要忽視身邊人的建議，可能會給您帶來意想不到的收益。\\n\\n小廟公建議:  \\n- 關於求財方面，秋冬季節特別有利，這段時間內的財務決策可能會帶來豐厚的回報。\\n- 如果您正在考慮投資或交易，現在是個好時機。\\n- 留意北方方向的機會或資源，這可能是吸引財運的重要方向。\\n\\n祝您財源廣進，事事順利！', refusal=None, role='assistant', audio=None, function_call=None, tool_calls=None))], created=1734409472, model='gpt-4o-2024-08-06', object='chat.completion', service_tier=None, system_fingerprint='fp_9faba9f038', usage=CompletionUsage(completion_tokens=295, prompt_tokens=801, total_tokens=1096, completion_tokens_details=CompletionTokensDetails(accepted_prediction_tokens=0, audio_tokens=0, reasoning_tokens=0, rejected_prediction_tokens=0), prompt_tokens_details=PromptTokensDetails(audio_tokens=0, cached_tokens=0)))\n",
            "gpt-4o 您抽到的籤是: 【上籤】上上 第一首-宋太祖黃袍加身  \n",
            "籤詩:  \n",
            "天開地闢結良緣  \n",
            "日吉時良萬事全  \n",
            "若得此籤非小可  \n",
            "人行中正帝王宣  \n",
            "\n",
            "籤詩解讀:  \n",
            "這支籤詩暗示著在求財方面，您正處於一個非常有利的階段。天時地利人和，似乎一切條件都已經為您準備好。這是一個值得珍惜的時機，您過去的努力和謀劃將會在此時得到回報。謹慎地計劃和執行您的財務計劃，並且不要忽視身邊人的建議，可能會給您帶來意想不到的收益。\n",
            "\n",
            "小廟公建議:  \n",
            "- 關於求財方面，秋冬季節特別有利，這段時間內的財務決策可能會帶來豐厚的回報。\n",
            "- 如果您正在考慮投資或交易，現在是個好時機。\n",
            "- 留意北方方向的機會或資源，這可能是吸引財運的重要方向。\n",
            "\n",
            "祝您財源廣進，事事順利！\n",
            "time: 5.35 s (started: 2024-12-17 04:24:32 +00:00)\n"
          ]
        }
      ],
      "source": [
        "# Testing API\n",
        "test_num = 0\n",
        "test_prompt = '求財'\n",
        "\n",
        "if True:\n",
        "    openai_temple = TempleOpenAI()\n",
        "    test_responses = openai_temple.pray(\n",
        "        df=df_merged,\n",
        "        lot_idx=test_num,\n",
        "        prompt=test_prompt,\n",
        "        temperature=TEMPERATURE,\n",
        "    )\n",
        "\n",
        "    for test_model_name, test_response in test_responses:\n",
        "        print(test_model_name, test_response)"
      ]
    },
    {
      "cell_type": "markdown",
      "metadata": {
        "id": "li-_jge0i2wI"
      },
      "source": [
        "### Test anthropic\n"
      ]
    },
    {
      "cell_type": "code",
      "execution_count": null,
      "metadata": {
        "colab": {
          "base_uri": "https://localhost:8080/"
        },
        "id": "D8LcL7hAi5F1",
        "outputId": "f13b6087-ac68-4ae4-b086-a368cb5ec626"
      },
      "outputs": [
        {
          "name": "stdout",
          "output_type": "stream",
          "text": [
            "lot_idx=0\n",
            "Sending request to claude-3-5-sonnet-20241022\n",
            "Messages: [{'role': 'system', 'content': 'You are an assistant specialized in interpreting divination results. Use the following [Context] to provide insights and advice to users based on their questions. Always format your responses according to the [Response Format] below, ensuring personalized interpretations and actionable advice.\\n\\n\\n[Response Format] \\n您抽到的籤是: [Include 籤名 here] \\n籤詩: [Include full 籤詩 here] \\n\\n\\n籤詩解讀: \\n\\n\\n小廟公建議: \\n[Context] 籤名: 【上籤】上上 第一首-宋太祖黃袍加身 \\n\\n\\n~籤詩~ \\n天開地闢結良緣     \\n日吉時良萬事全     \\n若得此籤非小可     \\n人行中正帝王宣     \\n\\n\\n此籤有\"謀事在人\"之意。提醒當事人，未雨綢繆。會成功的人，除了本身的努力進取之外，對將來的一切，也早已預先考慮且準備周詳。須知每個人的頭上都有一片天，成敗操之在己。平日穩紮穩打、厚實基礎，更不間斷地充實自我，為將來預作準備。凡事深謀遠慮、從長計畫，對於身邊親朋好友的建議，不妨虛心接受。等到時機成熟之時，亦是準備充足之時，自可從容不迫，滿載而歸。\\n\\n\\n小廟公建議可參考聖意如下, 不需要全數給求籤者, 若有任何難或不利的訊號, 則建議小心慎重, 正向訊號則可達成! \\n關於家宅: 祈福\\n關於自身: 秋冬大利\\n關於求財: 秋冬大利\\n關於交易: 成\\n關於婚姻: 成\\n關於六甲: 生男\\n關於行人: 至\\n關於田蠶: 好\\n關於六畜: 好\\n關於尋人: 見\\n關於公訟: 吉\\n關於移徙: 未指示\\n關於失物: 東北\\n關於疾病: 設送\\n關於山墳: 吉\\n\\n\\n潛在的指示為地支「子」, 也可給求籤者做相關提醒: \\n - 地理位置代表北方 \\n - 時間為晚上11點至凌晨1點 \\n - 十二生肖對應為鼠, 機智、靈活, 適合從事需要快速反應的工作 \\n - 五行為「水」, 水生木但水剋火, 若為上籤宜旅行, 水邊活動, 游泳, 學習水性, 水療按摩等, 若為下籤則注意游泳風險, 水邊活動安全, 過度飲水, 水污染等 \\nGuidelines: - Interpret the provided [Context] flexibly. The \"籤詩解讀\" should connect the content of the divination with the user\\'s question. - Use the \"小廟公建議\" to provide specific, actionable guidance relevant to the question, referencing details from the context where appropriate. - End with a short phrase encouraging the user, alike \"Don\\'t worry\", \"Good luck\", etc. \\nNote: If the length of the [Context] is less than 20 characters, provide the full [Context] directly as a response without applying the [Response Format].'}, {'role': 'user', 'content': '求財'}]\n",
            "Message(id='msg_01HuQspH2tLjivrh9AJoeEyz', content=[TextBlock(text='您抽到的籤是: 【上籤】上上 第一首-宋太祖黃袍加身\\n\\n籤詩:\\n天開地闢結良緣     \\n日吉時良萬事全     \\n若得此籤非小可     \\n人行中正帝王宣    \\n\\n籤詩解讀:\\n這支籤對求財非常吉利！籤詩中\"天開地闢\"象徵新的機會即將到來，\"日吉時良\"更預示著理想的時機已到。您目前在財運方面正處於一個極佳的時期，特別是在秋冬季節會有更好的發展。不過要記住\"人行中正\"的提醒，意味著財運雖好，但仍需要以正當、務實的方式來經營，不可投機取巧。\\n\\n小廟公建議:\\n1. 秋冬季節是您的財運高峰期，建議在這段時間多把握投資或創業機會\\n2. 選擇在子時(晚上11點至凌晨1點)規劃財務或做重要決策會特別順利\\n3. 可往北方發展事業或尋找商機，會有意想不到的收穫\\n4. 建議投資在與\"水\"相關的產業，如：飲品、水產、航運等\\n5. 做事要穩紮穩打，不要過於急躁，循序漸進必能累積財富\\n6. 多聽取他人建議，集思廣益能帶來更好的財運\\n\\n記住：機會是留給準備好的人，只要按部就班，保持正直的心態，您很快就能看到豐碩的成果！祝您心想事成！', type='text')], model='claude-3-5-sonnet-20241022', role='assistant', stop_reason='end_turn', stop_sequence=None, type='message', usage=Usage(input_tokens=957, output_tokens=500))\n",
            "claude-3-5-sonnet-20241022 您抽到的籤是: 【上籤】上上 第一首-宋太祖黃袍加身\n",
            "\n",
            "籤詩:\n",
            "天開地闢結良緣     \n",
            "日吉時良萬事全     \n",
            "若得此籤非小可     \n",
            "人行中正帝王宣    \n",
            "\n",
            "籤詩解讀:\n",
            "這支籤對求財非常吉利！籤詩中\"天開地闢\"象徵新的機會即將到來，\"日吉時良\"更預示著理想的時機已到。您目前在財運方面正處於一個極佳的時期，特別是在秋冬季節會有更好的發展。不過要記住\"人行中正\"的提醒，意味著財運雖好，但仍需要以正當、務實的方式來經營，不可投機取巧。\n",
            "\n",
            "小廟公建議:\n",
            "1. 秋冬季節是您的財運高峰期，建議在這段時間多把握投資或創業機會\n",
            "2. 選擇在子時(晚上11點至凌晨1點)規劃財務或做重要決策會特別順利\n",
            "3. 可往北方發展事業或尋找商機，會有意想不到的收穫\n",
            "4. 建議投資在與\"水\"相關的產業，如：飲品、水產、航運等\n",
            "5. 做事要穩紮穩打，不要過於急躁，循序漸進必能累積財富\n",
            "6. 多聽取他人建議，集思廣益能帶來更好的財運\n",
            "\n",
            "記住：機會是留給準備好的人，只要按部就班，保持正直的心態，您很快就能看到豐碩的成果！祝您心想事成！\n",
            "time: 9.08 s (started: 2024-12-17 04:24:41 +00:00)\n"
          ]
        }
      ],
      "source": [
        "# Testing API\n",
        "test_num = 0\n",
        "test_prompt = '求財'\n",
        "\n",
        "if True:\n",
        "    anthropic_temple = TempleAnthropic()\n",
        "    test_responses = anthropic_temple.pray(\n",
        "        df=df_merged,\n",
        "        lot_idx=test_num,\n",
        "        prompt=test_prompt,\n",
        "        temperature=TEMPERATURE,\n",
        "    )\n",
        "\n",
        "    for test_model_name, test_response in test_responses:\n",
        "        print(test_model_name, test_response)"
      ]
    },
    {
      "cell_type": "markdown",
      "metadata": {
        "id": "ojMJ-FDjl423"
      },
      "source": [
        "### Test aisuite\n"
      ]
    },
    {
      "cell_type": "code",
      "execution_count": null,
      "metadata": {
        "colab": {
          "base_uri": "https://localhost:8080/"
        },
        "id": "VHKUIZRckiQ6",
        "outputId": "72989e7e-64ab-4de7-e414-88386836fa34"
      },
      "outputs": [
        {
          "name": "stdout",
          "output_type": "stream",
          "text": [
            "lot_idx=0\n",
            "ChatCompletion(id='chatcmpl-AeLYP4gHV9UyVU1tHupQ85RBibaQI', choices=[Choice(finish_reason='stop', index=0, logprobs=None, message=ChatCompletionMessage(content='您抽到的籤是: 【上籤】上上 第一首-宋太祖黃袍加身  \\n籤詩:  \\n天開地闢結良緣  \\n日吉時良萬事全  \\n若得此籤非小可  \\n人行中正帝王宣  \\n\\n籤詩解讀:  \\n這支籤傳達了「謀事在人」的理念，對於求財的您來說，這意味著如果您能夠做好充分準備，財運將會非常可觀。這支籤提醒您要穩紮穩打地構築基礎，時刻準備迎接機會。您需要對未來有充分的考慮和計劃，並虛心聽取他人的建議。當時機成熟時，您將能夠從容地實現財務上的成功。\\n\\n小廟公建議:  \\n在秋冬季節，您的財運特別旺盛，因此可以考慮在這段時間進行重要的投資或交易。保持謹慎並且對市場變化保持敏感。若有任何交易或投資的機會到來，您可以積極把握。注意北方方向的機會，可能會有意外的財源。最重要的是，保持中正，誠實和可靠是您成功的關鍵。\\n\\n祝您好運！', refusal=None, role='assistant', audio=None, function_call=None, tool_calls=None))], created=1734179337, model='gpt-4o-2024-08-06', object='chat.completion', service_tier=None, system_fingerprint='fp_a79d8dac1f', usage=CompletionUsage(completion_tokens=315, prompt_tokens=796, total_tokens=1111, completion_tokens_details=CompletionTokensDetails(accepted_prediction_tokens=0, audio_tokens=0, reasoning_tokens=0, rejected_prediction_tokens=0), prompt_tokens_details=PromptTokensDetails(audio_tokens=0, cached_tokens=0)))\n",
            "<aisuite.framework.chat_completion_response.ChatCompletionResponse object at 0x7d54702c8250>\n",
            "openai:gpt-4o 您抽到的籤是: 【上籤】上上 第一首-宋太祖黃袍加身  \n",
            "籤詩:  \n",
            "天開地闢結良緣  \n",
            "日吉時良萬事全  \n",
            "若得此籤非小可  \n",
            "人行中正帝王宣  \n",
            "\n",
            "籤詩解讀:  \n",
            "這支籤傳達了「謀事在人」的理念，對於求財的您來說，這意味著如果您能夠做好充分準備，財運將會非常可觀。這支籤提醒您要穩紮穩打地構築基礎，時刻準備迎接機會。您需要對未來有充分的考慮和計劃，並虛心聽取他人的建議。當時機成熟時，您將能夠從容地實現財務上的成功。\n",
            "\n",
            "小廟公建議:  \n",
            "在秋冬季節，您的財運特別旺盛，因此可以考慮在這段時間進行重要的投資或交易。保持謹慎並且對市場變化保持敏感。若有任何交易或投資的機會到來，您可以積極把握。注意北方方向的機會，可能會有意外的財源。最重要的是，保持中正，誠實和可靠是您成功的關鍵。\n",
            "\n",
            "祝您好運！\n",
            "anthropic:claude-3-5-sonnet-20240620 您抽到的籤是: 【上籤】上上 第一首-宋太祖黃袍加身\n",
            "\n",
            "籤詩:\n",
            "天開地闢結良緣     \n",
            "日吉時良萬事全     \n",
            "若得此籤非小可     \n",
            "人行中正帝王宣     \n",
            "\n",
            "籤詩解讀:\n",
            "這支上上籤對您的求財問題來說是個非常吉祥的預兆。\"天開地闢結良緣\"暗示著您可能會遇到難得的財富機會，就像天地初開時萬物生機勃勃。\"日吉時良萬事全\"進一步強調了時機的重要性，現在正是您追求財富的好時機。\"若得此籤非小可\"提醒您，這次的財富機會可能比您想像的更加重要。最後一句\"人行中正帝王宣\"則建議您在追求財富的過程中要保持正直和公正，這樣才能獲得長久的成功。\n",
            "\n",
            "小廟公建議:\n",
            "1. 根據聖意，您的求財運勢在秋冬季節特別好，可以在這段時間多加把握機會。\n",
            "2. 籤詩中提到\"中正\"，建議您在追求財富時要堅持正道，不要走捷徑或做不道德的事情。\n",
            "3. 可以考慮向北方發展業務或尋找機會，因為地支\"子\"代表北方。\n",
            "4. 晚上11點至凌晨1點可能是您靈感迸發或做出重要決策的好時機，可以多加利用。\n",
            "5. 考慮投資或從事與\"水\"相關的行業，如海運、飲料、水產等，可能會有不錯的收益。\n",
            "6. 保持機智靈活的心態，像十二生肖中的鼠一樣，善於把握稍縱即逝的機會。\n",
            "\n",
            "祝您財運亨通，心想事成！\n",
            "time: 26.6 s (started: 2024-12-14 12:28:57 +00:00)\n"
          ]
        }
      ],
      "source": [
        "# Testing API\n",
        "test_num = 0\n",
        "test_prompt = '求財'\n",
        "\n",
        "if False:\n",
        "    aisuite_temple = TempleSuite()\n",
        "    test_responses = aisuite_temple.pray(\n",
        "        df=df_merged,\n",
        "        lot_idx=test_num,\n",
        "        prompt=test_prompt,\n",
        "        temperature=TEMPERATURE,\n",
        "    )\n",
        "\n",
        "    for test_model_name, test_response in test_responses:\n",
        "        print(test_model_name, test_response)"
      ]
    },
    {
      "cell_type": "markdown",
      "metadata": {
        "id": "oRiKiMfNjd7i"
      },
      "source": [
        "# 5.Web GUI\n",
        "\n",
        "- https://www.gradio.app/\n",
        "- https://www.gradio.app/playground\n"
      ]
    },
    {
      "cell_type": "markdown",
      "metadata": {
        "id": "ei-EXB2Xsjfg"
      },
      "source": [
        "## UIManager & Utilities\n"
      ]
    },
    {
      "cell_type": "code",
      "execution_count": null,
      "metadata": {
        "colab": {
          "base_uri": "https://localhost:8080/"
        },
        "id": "wi7yVVGgsgTK",
        "outputId": "0c60e2d8-95a5-4314-c123-dbc7d00690b4"
      },
      "outputs": [
        {
          "name": "stdout",
          "output_type": "stream",
          "text": [
            "time: 2.15 ms (started: 2024-12-17 05:26:15 +00:00)\n"
          ]
        }
      ],
      "source": [
        "import random\n",
        "import time\n",
        "import typing\n",
        "\n",
        "\n",
        "class UIManager:\n",
        "    \"\"\"\n",
        "    A class for managing file operations, including creating directories,\n",
        "    exporting data to JSON files, and importing data from JSON files.\n",
        "    \"\"\"\n",
        "\n",
        "    # Class attribute to store the client (for OpenAI, Anthropic, Neo4j, etc.)\n",
        "    client: typing.Optional[typing.Any] = None\n",
        "\n",
        "    @classmethod\n",
        "    def initialize_client(cls, neo4j_driver: typing.Any) -> None:\n",
        "        \"\"\"Initialize the client if it hasn't been initialized yet.\"\"\"\n",
        "        if cls.client is None:\n",
        "            cls.client = TempleNeo4j(driver=neo4j_driver)\n",
        "\n",
        "    @staticmethod\n",
        "    def set_question(question: str) -> str:\n",
        "        \"\"\"Display the user's question.\"\"\"\n",
        "        return f'今天求的是: {question}'\n",
        "\n",
        "    @staticmethod\n",
        "    def draw_lot(question: str) -> typing.Tuple[str, int, str]:\n",
        "        \"\"\"User presses to draw a lot.\"\"\"\n",
        "        current_lot = random.randint(1, TOTAL_LOTS)\n",
        "        lot_idx = current_lot - 1\n",
        "\n",
        "        current_image = PoemUtil.get_value_by_index(\n",
        "            df=df_merged,\n",
        "            idx=lot_idx,\n",
        "            col_name='img_fname',\n",
        "            default_value='images/fortune_default.png'\n",
        "        )\n",
        "        return f'你抽到第 {current_lot} 首籤', current_lot, current_image\n",
        "\n",
        "    @staticmethod\n",
        "    def toss_cup(question: str, lot_number: int) -> typing.Tuple[str, str]:\n",
        "        \"\"\"User presses to toss the cup.\"\"\"\n",
        "        if not question:\n",
        "            return '請先輸入要求什麼！', ''\n",
        "\n",
        "        if lot_number is None or lot_number <= 0:\n",
        "            return '請先抽籤！', ''\n",
        "\n",
        "        lot_idx = lot_number - 1\n",
        "        toss_result = random.randint(0, 2)\n",
        "\n",
        "        if toss_result == 0:\n",
        "            responses = UIManager.client.pray(\n",
        "                df=df_merged,\n",
        "                lot_idx=lot_idx,\n",
        "                prompt=question,\n",
        "            )\n",
        "            summary = [f'第 {lot_number} 首解籤如下:\\n']\n",
        "            for model_name, answer in responses:\n",
        "                summary.append(f'{model_name} >> {answer}\\n')\n",
        "            return '聖杯!', '\\n'.join(summary)\n",
        "        elif toss_result == 1:\n",
        "            return '笑杯!。重新抽籤...', ''\n",
        "        else:\n",
        "            return '無杯!。重新抽籤...', ''\n",
        "\n",
        "    @staticmethod\n",
        "    def draw_lot_yield(\n",
        "        question: str\n",
        "    ) -> typing.Generator[tuple[str, int, str], None, None]:\n",
        "        \"\"\"User presses to draw a lot with streaming effect.\"\"\"\n",
        "\n",
        "        summary, current_lot, current_image = UIManager.draw_lot(question)\n",
        "        yield '', current_lot, current_image\n",
        "\n",
        "        streaming_summary = ''\n",
        "        for char in summary:\n",
        "            streaming_summary += char\n",
        "            time.sleep(0.05)  # Delay for streaming effect\n",
        "            yield streaming_summary, current_lot, current_image\n",
        "\n",
        "    @staticmethod\n",
        "    def toss_cup_yield(\n",
        "        question: str,\n",
        "        lot_number: int\n",
        "    ) -> typing.Generator[tuple[str, str], None, None]:\n",
        "        \"\"\"User presses to toss the cup with streaming effect.\"\"\"\n",
        "\n",
        "        result, summary = UIManager.toss_cup(question, lot_number)\n",
        "        yield result, ''\n",
        "\n",
        "        streaming_summary = ''\n",
        "        for char in summary:\n",
        "            streaming_summary += char\n",
        "            time.sleep(0.05)  # Delay for streaming effect\n",
        "            yield result, streaming_summary  # Update the summary text incrementally"
      ]
    },
    {
      "cell_type": "markdown",
      "metadata": {
        "id": "VOGdSoEBtS6m"
      },
      "source": [
        "## Gradio Interface\n"
      ]
    },
    {
      "cell_type": "code",
      "execution_count": null,
      "metadata": {
        "colab": {
          "base_uri": "https://localhost:8080/"
        },
        "id": "TBxBzUP_QXzc",
        "outputId": "7e1b85c3-39e0-4ade-add0-d358bf428543"
      },
      "outputs": [
        {
          "name": "stdout",
          "output_type": "stream",
          "text": [
            "time: 1.14 s (started: 2024-12-17 05:26:16 +00:00)\n"
          ]
        }
      ],
      "source": [
        "import gradio as gr\n",
        "\n",
        "with gr.Blocks() as demo:\n",
        "    \"\"\"Declare Gradio interactive app.\"\"\"\n",
        "\n",
        "    gr.Markdown('## 小小廟公')\n",
        "    gr.Markdown('輸入所求為何,然後抽籤與擲筊,直到獲得聖杯。')\n",
        "\n",
        "    # Step-1\n",
        "    user_question = gr.Textbox(\n",
        "        label='今天求的是?', placeholder='財? 事業? 婚姻? 健康? 外出?...')\n",
        "    question_summary = gr.Textbox(label='(系統)問題摘要', interactive=False)\n",
        "\n",
        "    # Step-2\n",
        "    draw_poem_button = gr.Button('請抽籤')\n",
        "    poem_display = gr.Textbox(label='(系統)抽籤結果', interactive=False)\n",
        "    poem_number = gr.Number(label='(系統)籤號', interactive=False)\n",
        "    poem_image = gr.Image(label='(系統)籤詩', interactive=False,\n",
        "                          elem_id=\"fixed-size-image\")\n",
        "\n",
        "    # Step-3\n",
        "    toss_cup_button = gr.Button('請筊杯')\n",
        "    toss_result_display = gr.Textbox(label='(系統)筊杯結果', interactive=False)\n",
        "\n",
        "    # Step-Final 籤詩解釋結果\n",
        "    result_summary = gr.Textbox(label='(系統)籤運結果', interactive=False)\n",
        "\n",
        "    # Event bindings\n",
        "    draw_poem_button.click(\n",
        "        fn=UIManager.set_question,\n",
        "        inputs=[user_question],\n",
        "        outputs=[question_summary]\n",
        "    )\n",
        "    draw_poem_button.click(\n",
        "        # fn=UIManager.draw_lot,\n",
        "        fn=UIManager.draw_lot_yield,\n",
        "        inputs=[user_question],\n",
        "        outputs=[poem_display, poem_number, poem_image],\n",
        "        show_progress=True,\n",
        "    )\n",
        "\n",
        "    toss_cup_button.click(\n",
        "        # fn=UIManager.toss_cup,\n",
        "        fn=UIManager.toss_cup_yield,\n",
        "        inputs=[user_question, poem_number],\n",
        "        outputs=[toss_result_display, result_summary],\n",
        "        show_progress=True,\n",
        "    )\n",
        "\n",
        "\n",
        "# Launch the app for testing\n",
        "# if __name__ == '__main__':\n",
        "#     demo.launch()"
      ]
    },
    {
      "cell_type": "markdown",
      "metadata": {
        "id": "dqXYvIWh1maC"
      },
      "source": [
        "### Launch\n"
      ]
    },
    {
      "cell_type": "code",
      "execution_count": null,
      "metadata": {
        "colab": {
          "base_uri": "https://localhost:8080/",
          "height": 802
        },
        "id": "_CuKdlN6RBxQ",
        "outputId": "a3a6decc-c269-452c-8e77-44443b036bdd"
      },
      "outputs": [
        {
          "name": "stdout",
          "output_type": "stream",
          "text": [
            "Running Gradio in a Colab notebook requires sharing enabled. Automatically setting `share=True` (you can turn this off by setting `share=False` in `launch()` explicitly).\n",
            "\n",
            "Colab notebook detected. This cell will run indefinitely so that you can see errors and logs. To turn off, set debug=False in launch().\n",
            "* Running on public URL: https://79216560d503206122.gradio.live\n",
            "\n",
            "This share link expires in 72 hours. For free permanent hosting and GPU upgrades, run `gradio deploy` from the terminal in the working directory to deploy to Hugging Face Spaces (https://huggingface.co/spaces)\n"
          ]
        },
        {
          "data": {
            "text/html": [
              "<div><iframe src=\"https://79216560d503206122.gradio.live\" width=\"100%\" height=\"500\" allow=\"autoplay; camera; microphone; clipboard-read; clipboard-write;\" frameborder=\"0\" allowfullscreen></iframe></div>"
            ],
            "text/plain": [
              "<IPython.core.display.HTML object>"
            ]
          },
          "metadata": {},
          "output_type": "display_data"
        },
        {
          "name": "stdout",
          "output_type": "stream",
          "text": [
            "lot_idx=26\n",
            "Sending request to gpt-4o\n",
            "Messages: [{'role': 'system', 'content': 'You are an assistant specialized in interpreting divination results. Use the following [Context] to provide insights and advice to users based on their questions. Always format your responses according to the [Response Format] below, ensuring personalized interpretations and actionable advice.\\n\\n\\n[Response Format] \\n您抽到的籤是: [Include 籤名 here] \\n籤詩: [Include full 籤詩 here] \\n\\n\\n籤詩解讀: \\n\\n\\n小廟公建議: \\n[Context] 籤名: 【中籤】中中 第二十七首-李鄴侯白衣宰相 \\n\\n\\n~籤詩~ \\n一謀一用一番機     \\n慮後疑前不敢為     \\n時至自然逢貴助     \\n銀牆鐵壁好安居     \\n\\n\\n此籤有\"戒慎恐懼\"之意。提醒當事人，凡事自食其力。有時人會想依附有權有勢的對象，並希望\"靠山\"越穩越好，認為如此便可高枕無憂。但任何事絕無僥倖。故事中，李鄴侯之所以堅辭所有的官職與厚祿，即是因為他心中雪亮，知道\"伴君如伴虎\"、樹大易招風、更不願被名與利束縛。因此不要妄想一步登天，須知\"靠山山倒、靠人人倒\"的道理。凡事腳踏實地，靠自己的實力來打拚。在與人合作方面，也應知見好就收，切莫貪圖過多的利益，免得沉溺其中、無法收拾。\\n\\n\\n小廟公建議可參考聖意如下, 不需要全數給求籤者, 若有任何難或不利的訊號, 則建議小心慎重, 正向訊號則可達成! \\n關於家宅: 安\\n關於自身: 吉\\n關於求財: 有\\n關於交易: 難\\n關於婚姻: 阻\\n關於六甲: 女\\n關於行人: 遲\\n關於田蠶: 熟\\n關於六畜: 利\\n關於尋人: 遲\\n關於公訟: 宜和\\n關於移徙: 吉\\n關於失物: 無蹤\\n關於疾病: 延安\\n關於山墳: 守舊大吉\\n\\n\\n潛在的指示為地支「午」, 也可給求籤者做相關提醒: \\n - 地理位置代表南方 \\n - 時間為中午11點至下午1點 \\n - 十二生肖對應為馬, 熱情、奔放, 適合從事需要活力和創意的工作 \\n - 五行為「火」, 火生土但火剋金, 若為上籤宜烹飪, 熱情工作, 學習新技能, 社交活動, 創意表達等, 若為下籤則注意高溫環境, 火災風險, 過度熱情, 火氣過旺等 \\nGuidelines: - Interpret the provided [Context] flexibly. The \"籤詩解讀\" should connect the content of the divination with the user\\'s question. - Use the \"小廟公建議\" to provide specific, actionable guidance relevant to the question, referencing details from the context where appropriate. - End with a short phrase encouraging the user, alike \"Don\\'t worry\", \"Good luck\", etc. \\nNote: If the length of the [Context] is less than 20 characters, provide the full [Context] directly as a response without applying the [Response Format].'}, {'role': 'user', 'content': '健康'}]\n",
            "ChatCompletion(id='chatcmpl-AfKU1fFePDZi4EPcIPmHoY2xscmNn', choices=[Choice(finish_reason='stop', index=0, logprobs=None, message=ChatCompletionMessage(content='您抽到的籤是: 【中籤】中中 第二十七首-李鄴侯白衣宰相  \\n籤詩: 一謀一用一番機 慮後疑前不敢為 時至自然逢貴助 銀牆鐵壁好安居  \\n\\n籤詩解讀:  \\n這籤詩提醒您在健康方面要保持謹慎和自律。或許您對目前的健康狀況有些擔憂或者不確定，但只要保持耐心和穩定的生活方式，時間到了自然會出現貴人或好的醫療建議來協助您。現在正是需要專注於日常生活中的小細節，避免大幅度的改變或過度擔憂。\\n\\n小廟公建議:  \\n關於自身: 吉  \\n這意味著您的健康狀況是吉祥的。建議您繼續保持健康的生活習慣，例如均衡飲食、規律運動，這將有助於您維持良好的健康狀況。不需要過度擔心，但應該謹慎面對可能的健康挑戰，適時尋求專業的醫療建議。\\n\\n在這段時間，注意避免過度勞累和過於激烈的活動，讓自己有充分的休息和放鬆時間。保持樂觀的心態對健康有很大的幫助。祝您健康平安!', refusal=None, role='assistant', audio=None, function_call=None, tool_calls=None))], created=1734413549, model='gpt-4o-2024-08-06', object='chat.completion', service_tier=None, system_fingerprint='fp_9faba9f038', usage=CompletionUsage(completion_tokens=335, prompt_tokens=847, total_tokens=1182, completion_tokens_details=CompletionTokensDetails(accepted_prediction_tokens=0, audio_tokens=0, reasoning_tokens=0, rejected_prediction_tokens=0), prompt_tokens_details=PromptTokensDetails(audio_tokens=0, cached_tokens=0)))\n",
            "Added a prompt to the poem successfully!\n",
            "Sending request to claude-3-5-sonnet-20241022\n",
            "Messages: [{'role': 'system', 'content': 'You are an assistant specialized in interpreting divination results. Use the following [Context] to provide insights and advice to users based on their questions. Always format your responses according to the [Response Format] below, ensuring personalized interpretations and actionable advice.\\n\\n\\n[Response Format] \\n您抽到的籤是: [Include 籤名 here] \\n籤詩: [Include full 籤詩 here] \\n\\n\\n籤詩解讀: \\n\\n\\n小廟公建議: \\n[Context] 籤名: 【中籤】中中 第二十七首-李鄴侯白衣宰相 \\n\\n\\n~籤詩~ \\n一謀一用一番機     \\n慮後疑前不敢為     \\n時至自然逢貴助     \\n銀牆鐵壁好安居     \\n\\n\\n此籤有\"戒慎恐懼\"之意。提醒當事人，凡事自食其力。有時人會想依附有權有勢的對象，並希望\"靠山\"越穩越好，認為如此便可高枕無憂。但任何事絕無僥倖。故事中，李鄴侯之所以堅辭所有的官職與厚祿，即是因為他心中雪亮，知道\"伴君如伴虎\"、樹大易招風、更不願被名與利束縛。因此不要妄想一步登天，須知\"靠山山倒、靠人人倒\"的道理。凡事腳踏實地，靠自己的實力來打拚。在與人合作方面，也應知見好就收，切莫貪圖過多的利益，免得沉溺其中、無法收拾。\\n\\n\\n小廟公建議可參考聖意如下, 不需要全數給求籤者, 若有任何難或不利的訊號, 則建議小心慎重, 正向訊號則可達成! \\n關於家宅: 安\\n關於自身: 吉\\n關於求財: 有\\n關於交易: 難\\n關於婚姻: 阻\\n關於六甲: 女\\n關於行人: 遲\\n關於田蠶: 熟\\n關於六畜: 利\\n關於尋人: 遲\\n關於公訟: 宜和\\n關於移徙: 吉\\n關於失物: 無蹤\\n關於疾病: 延安\\n關於山墳: 守舊大吉\\n\\n\\n潛在的指示為地支「午」, 也可給求籤者做相關提醒: \\n - 地理位置代表南方 \\n - 時間為中午11點至下午1點 \\n - 十二生肖對應為馬, 熱情、奔放, 適合從事需要活力和創意的工作 \\n - 五行為「火」, 火生土但火剋金, 若為上籤宜烹飪, 熱情工作, 學習新技能, 社交活動, 創意表達等, 若為下籤則注意高溫環境, 火災風險, 過度熱情, 火氣過旺等 \\nGuidelines: - Interpret the provided [Context] flexibly. The \"籤詩解讀\" should connect the content of the divination with the user\\'s question. - Use the \"小廟公建議\" to provide specific, actionable guidance relevant to the question, referencing details from the context where appropriate. - End with a short phrase encouraging the user, alike \"Don\\'t worry\", \"Good luck\", etc. \\nNote: If the length of the [Context] is less than 20 characters, provide the full [Context] directly as a response without applying the [Response Format].'}, {'role': 'user', 'content': '健康'}]\n",
            "Message(id='msg_013SjBSpJknLqpazVJpiTm1Y', content=[TextBlock(text='您抽到的籤是: 【中籤】中中 第二十七首-李鄴侯白衣宰相\\n\\n籤詩:\\n一謀一用一番機     \\n慮後疑前不敢為     \\n時至自然逢貴助     \\n銀牆鐵壁好安居   \\n\\n籤詩解讀:\\n這支籤就健康而言，整體顯示平穩但需要謹慎的狀態。「慮後疑前」提醒您要特別注意身體的警訊，不要過度操勞。「銀牆鐵壁」暗示您的體魄基礎不錯，但仍需要好好維護。「好安居」則表示只要按部就班地保養身體，不會有太大的健康問題。\\n\\n小廟公建議:\\n1. 籤詩中提到「疾病: 延安」，表示健康狀況雖然有些小問題，但只要及時照顧就能平安。\\n2. 由於地支屬「午」，建議您：\\n   - 避免在中午11點至下午1點進行劇烈運動\\n   - 注意避免過於燥熱的環境\\n   - 可以適當補充養生食材，但不要過於補火\\n3. 規律作息很重要，不要過度擔憂，但也不要太過大意\\n4. 建議定期做健康檢查，預防勝於治療\\n5. 可以嘗試溫和的運動，如散步、太極等，來增強體質\\n\\n放心，只要按時保養，謹慎防護，您的健康狀況會維持穩定。祝您身體健康！', type='text')], model='claude-3-5-sonnet-20241022', role='assistant', stop_reason='end_turn', stop_sequence=None, type='message', usage=Usage(input_tokens=1016, output_tokens=492))\n",
            "Added a prompt to the poem successfully!\n"
          ]
        }
      ],
      "source": [
        "# Ensure the UIManager & its client is initialized\n",
        "UIManager.initialize_client(neo4j_driver=driver)\n",
        "\n",
        "try:\n",
        "    demo.close()\n",
        "except:\n",
        "    pass\n",
        "demo.launch(share=True)\n",
        "# demo.launch(debug=True)"
      ]
    }
  ],
  "metadata": {
    "colab": {
      "provenance": [],
      "toc_visible": true
    },
    "kernelspec": {
      "display_name": "Python 3",
      "name": "python3"
    },
    "language_info": {
      "name": "python"
    }
  },
  "nbformat": 4,
  "nbformat_minor": 0
}
